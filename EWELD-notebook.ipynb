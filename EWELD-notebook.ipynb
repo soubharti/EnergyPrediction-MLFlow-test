{
 "cells": [
  {
   "cell_type": "code",
   "execution_count": 133,
   "id": "a567615a",
   "metadata": {},
   "outputs": [],
   "source": [
    "import pandas as pd\n",
    "import numpy as np\n",
    "import os\n",
    "import logging\n",
    "import mlflow.data\n",
    "from mlflow.data.pandas_dataset import PandasDataset"
   ]
  },
  {
   "cell_type": "code",
   "execution_count": 184,
   "id": "03fcdcbe",
   "metadata": {},
   "outputs": [
    {
     "name": "stdout",
     "output_type": "stream",
     "text": [
      "Collecting google-cloud-storage\n",
      "  Downloading google_cloud_storage-2.16.0-py2.py3-none-any.whl (125 kB)\n",
      "     ---------------------------------------- 0.0/125.6 kB ? eta -:--:--\n",
      "     -------------------------------------- 125.6/125.6 kB 3.7 MB/s eta 0:00:00\n",
      "Collecting google-cloud-core<3.0dev,>=2.3.0\n",
      "  Downloading google_cloud_core-2.4.1-py2.py3-none-any.whl (29 kB)\n",
      "Collecting google-auth<3.0dev,>=2.26.1\n",
      "  Downloading google_auth-2.29.0-py2.py3-none-any.whl (189 kB)\n",
      "     ---------------------------------------- 0.0/189.2 kB ? eta -:--:--\n",
      "     ------------------------------------- 189.2/189.2 kB 11.2 MB/s eta 0:00:00\n",
      "Collecting google-crc32c<2.0dev,>=1.0\n",
      "  Downloading google_crc32c-1.5.0-cp310-cp310-win_amd64.whl (27 kB)\n",
      "Collecting google-api-core<3.0.0dev,>=2.15.0\n",
      "  Downloading google_api_core-2.17.1-py3-none-any.whl (137 kB)\n",
      "     ---------------------------------------- 0.0/137.0 kB ? eta -:--:--\n",
      "     ---------------------------------------- 137.0/137.0 kB ? eta 0:00:00\n",
      "Requirement already satisfied: requests<3.0.0dev,>=2.18.0 in c:\\users\\sourabh.bharti\\anaconda3\\envs\\tpot\\lib\\site-packages (from google-cloud-storage) (2.28.1)\n",
      "Collecting google-resumable-media>=2.6.0\n",
      "  Downloading google_resumable_media-2.7.0-py2.py3-none-any.whl (80 kB)\n",
      "     ---------------------------------------- 0.0/80.6 kB ? eta -:--:--\n",
      "     ---------------------------------------- 80.6/80.6 kB 4.4 MB/s eta 0:00:00\n",
      "Collecting googleapis-common-protos<2.0.dev0,>=1.56.2\n",
      "  Downloading googleapis_common_protos-1.63.0-py2.py3-none-any.whl (229 kB)\n",
      "     ---------------------------------------- 0.0/229.1 kB ? eta -:--:--\n",
      "     ------------------------------------- 229.1/229.1 kB 13.7 MB/s eta 0:00:00\n",
      "Requirement already satisfied: protobuf!=3.20.0,!=3.20.1,!=4.21.0,!=4.21.1,!=4.21.2,!=4.21.3,!=4.21.4,!=4.21.5,<5.0.0.dev0,>=3.19.5 in c:\\users\\sourabh.bharti\\anaconda3\\envs\\tpot\\lib\\site-packages (from google-api-core<3.0.0dev,>=2.15.0->google-cloud-storage) (4.23.1)\n",
      "Requirement already satisfied: pyasn1-modules>=0.2.1 in c:\\users\\sourabh.bharti\\anaconda3\\envs\\tpot\\lib\\site-packages (from google-auth<3.0dev,>=2.26.1->google-cloud-storage) (0.3.0)\n",
      "Requirement already satisfied: rsa<5,>=3.1.4 in c:\\users\\sourabh.bharti\\anaconda3\\envs\\tpot\\lib\\site-packages (from google-auth<3.0dev,>=2.26.1->google-cloud-storage) (4.9)\n",
      "Requirement already satisfied: cachetools<6.0,>=2.0.0 in c:\\users\\sourabh.bharti\\anaconda3\\envs\\tpot\\lib\\site-packages (from google-auth<3.0dev,>=2.26.1->google-cloud-storage) (5.3.0)\n",
      "Requirement already satisfied: urllib3<1.27,>=1.21.1 in c:\\users\\sourabh.bharti\\anaconda3\\envs\\tpot\\lib\\site-packages (from requests<3.0.0dev,>=2.18.0->google-cloud-storage) (1.26.15)\n",
      "Requirement already satisfied: certifi>=2017.4.17 in c:\\users\\sourabh.bharti\\anaconda3\\envs\\tpot\\lib\\site-packages (from requests<3.0.0dev,>=2.18.0->google-cloud-storage) (2022.12.7)\n",
      "Requirement already satisfied: idna<4,>=2.5 in c:\\users\\sourabh.bharti\\anaconda3\\envs\\tpot\\lib\\site-packages (from requests<3.0.0dev,>=2.18.0->google-cloud-storage) (3.4)\n",
      "Requirement already satisfied: charset-normalizer<3,>=2 in c:\\users\\sourabh.bharti\\anaconda3\\envs\\tpot\\lib\\site-packages (from requests<3.0.0dev,>=2.18.0->google-cloud-storage) (2.0.4)\n",
      "Requirement already satisfied: pyasn1<0.6.0,>=0.4.6 in c:\\users\\sourabh.bharti\\anaconda3\\envs\\tpot\\lib\\site-packages (from pyasn1-modules>=0.2.1->google-auth<3.0dev,>=2.26.1->google-cloud-storage) (0.5.0)\n",
      "Installing collected packages: googleapis-common-protos, google-crc32c, google-resumable-media, google-auth, google-api-core, google-cloud-core, google-cloud-storage\n",
      "  Attempting uninstall: google-auth\n",
      "    Found existing installation: google-auth 2.18.1\n",
      "    Uninstalling google-auth-2.18.1:\n",
      "      Successfully uninstalled google-auth-2.18.1\n",
      "Successfully installed google-api-core-2.17.1 google-auth-2.29.0 google-cloud-core-2.4.1 google-cloud-storage-2.16.0 google-crc32c-1.5.0 google-resumable-media-2.7.0 googleapis-common-protos-1.63.0\n",
      "Collecting google-cloud\n",
      "  Downloading google_cloud-0.34.0-py2.py3-none-any.whl (1.8 kB)\n",
      "Installing collected packages: google-cloud\n",
      "Successfully installed google-cloud-0.34.0\n"
     ]
    }
   ],
   "source": [
    "!pip install google-cloud-storage\n",
    "!pip install google-cloud"
   ]
  },
  {
   "cell_type": "code",
   "execution_count": 26,
   "id": "ea53fa32",
   "metadata": {},
   "outputs": [
    {
     "name": "stdout",
     "output_type": "stream",
     "text": [
      "Collecting mlflow\n",
      "  Downloading mlflow-2.11.2-py3-none-any.whl (19.7 MB)\n",
      "     ---------------------------------------- 0.0/19.7 MB ? eta -:--:--\n",
      "      --------------------------------------- 0.4/19.7 MB 11.6 MB/s eta 0:00:02\n",
      "     - -------------------------------------- 0.7/19.7 MB 8.8 MB/s eta 0:00:03\n",
      "     - -------------------------------------- 1.0/19.7 MB 6.8 MB/s eta 0:00:03\n",
      "     -- ------------------------------------- 1.1/19.7 MB 5.6 MB/s eta 0:00:04\n",
      "     -- ------------------------------------- 1.3/19.7 MB 6.1 MB/s eta 0:00:04\n",
      "     --- ------------------------------------ 1.8/19.7 MB 6.7 MB/s eta 0:00:03\n",
      "     ---- ----------------------------------- 2.3/19.7 MB 7.3 MB/s eta 0:00:03\n",
      "     ----- ---------------------------------- 2.8/19.7 MB 7.4 MB/s eta 0:00:03\n",
      "     ------ --------------------------------- 3.1/19.7 MB 7.4 MB/s eta 0:00:03\n",
      "     ------- -------------------------------- 3.5/19.7 MB 7.4 MB/s eta 0:00:03\n",
      "     ------- -------------------------------- 3.9/19.7 MB 7.3 MB/s eta 0:00:03\n",
      "     -------- ------------------------------- 4.3/19.7 MB 7.4 MB/s eta 0:00:03\n",
      "     --------- ------------------------------ 4.6/19.7 MB 7.2 MB/s eta 0:00:03\n",
      "     ---------- ----------------------------- 5.2/19.7 MB 7.6 MB/s eta 0:00:02\n",
      "     ----------- ---------------------------- 5.7/19.7 MB 7.6 MB/s eta 0:00:02\n",
      "     ------------ --------------------------- 6.0/19.7 MB 7.5 MB/s eta 0:00:02\n",
      "     ------------ --------------------------- 6.2/19.7 MB 7.4 MB/s eta 0:00:02\n",
      "     ------------- -------------------------- 6.7/19.7 MB 7.5 MB/s eta 0:00:02\n",
      "     -------------- ------------------------- 7.1/19.7 MB 7.5 MB/s eta 0:00:02\n",
      "     --------------- ------------------------ 7.5/19.7 MB 7.5 MB/s eta 0:00:02\n",
      "     --------------- ------------------------ 7.8/19.7 MB 7.6 MB/s eta 0:00:02\n",
      "     ---------------- ----------------------- 8.3/19.7 MB 7.8 MB/s eta 0:00:02\n",
      "     ----------------- ---------------------- 8.7/19.7 MB 7.6 MB/s eta 0:00:02\n",
      "     ------------------ --------------------- 9.1/19.7 MB 7.7 MB/s eta 0:00:02\n",
      "     ------------------- -------------------- 9.5/19.7 MB 7.7 MB/s eta 0:00:02\n",
      "     -------------------- ------------------- 10.0/19.7 MB 7.8 MB/s eta 0:00:02\n",
      "     -------------------- ------------------- 10.3/19.7 MB 7.8 MB/s eta 0:00:02\n",
      "     --------------------- ------------------ 10.5/19.7 MB 7.7 MB/s eta 0:00:02\n",
      "     --------------------- ------------------ 10.7/19.7 MB 7.6 MB/s eta 0:00:02\n",
      "     ---------------------- ----------------- 11.1/19.7 MB 7.6 MB/s eta 0:00:02\n",
      "     ----------------------- ---------------- 11.5/19.7 MB 7.9 MB/s eta 0:00:02\n",
      "     ------------------------ --------------- 12.0/19.7 MB 7.9 MB/s eta 0:00:01\n",
      "     ------------------------- -------------- 12.4/19.7 MB 7.8 MB/s eta 0:00:01\n",
      "     ------------------------- -------------- 12.7/19.7 MB 7.7 MB/s eta 0:00:01\n",
      "     -------------------------- ------------- 13.1/19.7 MB 7.7 MB/s eta 0:00:01\n",
      "     --------------------------- ------------ 13.5/19.7 MB 7.8 MB/s eta 0:00:01\n",
      "     --------------------------- ------------ 13.8/19.7 MB 7.9 MB/s eta 0:00:01\n",
      "     ---------------------------- ----------- 14.1/19.7 MB 7.7 MB/s eta 0:00:01\n",
      "     ----------------------------- ---------- 14.5/19.7 MB 7.6 MB/s eta 0:00:01\n",
      "     ------------------------------ --------- 14.9/19.7 MB 7.8 MB/s eta 0:00:01\n",
      "     ------------------------------- -------- 15.3/19.7 MB 7.7 MB/s eta 0:00:01\n",
      "     ------------------------------- -------- 15.6/19.7 MB 7.6 MB/s eta 0:00:01\n",
      "     -------------------------------- ------- 16.1/19.7 MB 7.7 MB/s eta 0:00:01\n",
      "     --------------------------------- ------ 16.6/19.7 MB 7.9 MB/s eta 0:00:01\n",
      "     ---------------------------------- ----- 16.9/19.7 MB 7.7 MB/s eta 0:00:01\n",
      "     ----------------------------------- ---- 17.3/19.7 MB 7.7 MB/s eta 0:00:01\n",
      "     ------------------------------------ --- 17.8/19.7 MB 7.8 MB/s eta 0:00:01\n",
      "     ------------------------------------ --- 18.2/19.7 MB 7.7 MB/s eta 0:00:01\n",
      "     ------------------------------------- -- 18.7/19.7 MB 7.8 MB/s eta 0:00:01\n",
      "     -------------------------------------- - 18.9/19.7 MB 7.7 MB/s eta 0:00:01\n",
      "     -------------------------------------- - 19.1/19.7 MB 7.7 MB/s eta 0:00:01\n",
      "     ---------------------------------------  19.6/19.7 MB 7.6 MB/s eta 0:00:01\n",
      "     ---------------------------------------  19.7/19.7 MB 7.6 MB/s eta 0:00:01\n",
      "     ---------------------------------------- 19.7/19.7 MB 7.2 MB/s eta 0:00:00\n",
      "Requirement already satisfied: Jinja2<4,>=3.0 in c:\\users\\sourabh.bharti\\anaconda3\\envs\\tpot\\lib\\site-packages (from mlflow) (3.1.2)\n",
      "Requirement already satisfied: pytz<2025 in c:\\users\\sourabh.bharti\\anaconda3\\envs\\tpot\\lib\\site-packages (from mlflow) (2022.7)\n",
      "Requirement already satisfied: matplotlib<4 in c:\\users\\sourabh.bharti\\anaconda3\\envs\\tpot\\lib\\site-packages (from mlflow) (3.7.1)\n",
      "Collecting gitpython<4,>=3.1.9\n",
      "  Downloading GitPython-3.1.42-py3-none-any.whl (195 kB)\n",
      "     ---------------------------------------- 0.0/195.4 kB ? eta -:--:--\n",
      "     ------------------------------------- 195.4/195.4 kB 11.6 MB/s eta 0:00:00\n",
      "Collecting waitress<4\n",
      "  Downloading waitress-3.0.0-py3-none-any.whl (56 kB)\n",
      "     ---------------------------------------- 0.0/56.7 kB ? eta -:--:--\n",
      "     ---------------------------------------- 56.7/56.7 kB ? eta 0:00:00\n",
      "Requirement already satisfied: markdown<4,>=3.3 in c:\\users\\sourabh.bharti\\anaconda3\\envs\\tpot\\lib\\site-packages (from mlflow) (3.4.3)\n",
      "Requirement already satisfied: pyyaml<7,>=5.1 in c:\\users\\sourabh.bharti\\anaconda3\\envs\\tpot\\lib\\site-packages (from mlflow) (6.0)\n",
      "Requirement already satisfied: requests<3,>=2.17.3 in c:\\users\\sourabh.bharti\\anaconda3\\envs\\tpot\\lib\\site-packages (from mlflow) (2.28.1)\n",
      "Requirement already satisfied: click<9,>=7.0 in c:\\users\\sourabh.bharti\\anaconda3\\envs\\tpot\\lib\\site-packages (from mlflow) (8.1.3)\n",
      "Requirement already satisfied: importlib-metadata!=4.7.0,<8,>=3.7.0 in c:\\users\\sourabh.bharti\\anaconda3\\envs\\tpot\\lib\\site-packages (from mlflow) (6.1.0)\n",
      "Collecting pyarrow<16,>=4.0.0\n",
      "  Downloading pyarrow-15.0.2-cp310-cp310-win_amd64.whl (24.8 MB)\n",
      "     ---------------------------------------- 0.0/24.8 MB ? eta -:--:--\n",
      "      --------------------------------------- 0.4/24.8 MB 9.3 MB/s eta 0:00:03\n",
      "     - -------------------------------------- 0.8/24.8 MB 8.6 MB/s eta 0:00:03\n",
      "     - -------------------------------------- 1.2/24.8 MB 8.3 MB/s eta 0:00:03\n",
      "     -- ------------------------------------- 1.5/24.8 MB 8.1 MB/s eta 0:00:03\n",
      "     -- ------------------------------------- 1.8/24.8 MB 7.8 MB/s eta 0:00:03\n",
      "     --- ------------------------------------ 2.2/24.8 MB 7.8 MB/s eta 0:00:03\n",
      "     ---- ----------------------------------- 2.6/24.8 MB 7.9 MB/s eta 0:00:03\n",
      "     ---- ----------------------------------- 3.0/24.8 MB 8.0 MB/s eta 0:00:03\n",
      "     ----- ---------------------------------- 3.3/24.8 MB 7.9 MB/s eta 0:00:03\n",
      "     ------ --------------------------------- 3.8/24.8 MB 7.8 MB/s eta 0:00:03\n",
      "     ------ --------------------------------- 4.2/24.8 MB 7.8 MB/s eta 0:00:03\n",
      "     ------- -------------------------------- 4.5/24.8 MB 7.8 MB/s eta 0:00:03\n",
      "     ------- -------------------------------- 4.9/24.8 MB 7.8 MB/s eta 0:00:03\n",
      "     -------- ------------------------------- 5.3/24.8 MB 7.9 MB/s eta 0:00:03\n",
      "     -------- ------------------------------- 5.5/24.8 MB 7.8 MB/s eta 0:00:03\n",
      "     -------- ------------------------------- 5.5/24.8 MB 7.8 MB/s eta 0:00:03\n",
      "     -------- ------------------------------- 5.6/24.8 MB 6.6 MB/s eta 0:00:03\n",
      "     --------- ------------------------------ 5.8/24.8 MB 6.5 MB/s eta 0:00:03\n",
      "     ---------- ----------------------------- 6.2/24.8 MB 6.6 MB/s eta 0:00:03\n",
      "     ---------- ----------------------------- 6.6/24.8 MB 6.6 MB/s eta 0:00:03\n",
      "     ----------- ---------------------------- 6.9/24.8 MB 6.7 MB/s eta 0:00:03\n",
      "     ----------- ---------------------------- 7.3/24.8 MB 6.6 MB/s eta 0:00:03\n",
      "     ------------ --------------------------- 7.6/24.8 MB 6.6 MB/s eta 0:00:03\n",
      "     ------------ --------------------------- 7.9/24.8 MB 6.6 MB/s eta 0:00:03\n",
      "     ------------- -------------------------- 8.3/24.8 MB 6.6 MB/s eta 0:00:03\n",
      "     ------------- -------------------------- 8.7/24.8 MB 6.7 MB/s eta 0:00:03\n",
      "     -------------- ------------------------- 9.0/24.8 MB 6.6 MB/s eta 0:00:03\n",
      "     -------------- ------------------------- 9.2/24.8 MB 6.7 MB/s eta 0:00:03\n",
      "     --------------- ------------------------ 9.6/24.8 MB 6.7 MB/s eta 0:00:03\n",
      "     ---------------- ----------------------- 10.0/24.8 MB 6.7 MB/s eta 0:00:03\n",
      "     ---------------- ----------------------- 10.1/24.8 MB 6.7 MB/s eta 0:00:03\n",
      "     ---------------- ----------------------- 10.1/24.8 MB 6.7 MB/s eta 0:00:03\n",
      "     ---------------- ----------------------- 10.2/24.8 MB 6.3 MB/s eta 0:00:03\n",
      "     ---------------- ----------------------- 10.4/24.8 MB 6.2 MB/s eta 0:00:03\n",
      "     ----------------- ---------------------- 10.7/24.8 MB 6.2 MB/s eta 0:00:03\n",
      "     ----------------- ---------------------- 11.0/24.8 MB 6.1 MB/s eta 0:00:03\n",
      "     ------------------ --------------------- 11.3/24.8 MB 6.1 MB/s eta 0:00:03\n",
      "     ------------------ --------------------- 11.5/24.8 MB 6.1 MB/s eta 0:00:03\n",
      "     ------------------- -------------------- 11.9/24.8 MB 6.1 MB/s eta 0:00:03\n",
      "     ------------------- -------------------- 12.1/24.8 MB 6.0 MB/s eta 0:00:03\n",
      "     ------------------- -------------------- 12.4/24.8 MB 6.0 MB/s eta 0:00:03\n",
      "     -------------------- ------------------- 12.7/24.8 MB 5.9 MB/s eta 0:00:03\n",
      "     -------------------- ------------------- 13.0/24.8 MB 5.9 MB/s eta 0:00:03\n",
      "     --------------------- ------------------ 13.3/24.8 MB 5.8 MB/s eta 0:00:02\n",
      "     ---------------------- ----------------- 13.7/24.8 MB 5.8 MB/s eta 0:00:02\n",
      "     ---------------------- ----------------- 13.9/24.8 MB 5.8 MB/s eta 0:00:02\n",
      "     ----------------------- ---------------- 14.3/24.8 MB 5.8 MB/s eta 0:00:02\n",
      "     ----------------------- ---------------- 14.6/24.8 MB 5.7 MB/s eta 0:00:02\n",
      "     ----------------------- ---------------- 14.8/24.8 MB 5.7 MB/s eta 0:00:02\n",
      "     ------------------------ --------------- 14.9/24.8 MB 5.5 MB/s eta 0:00:02\n",
      "     ------------------------ --------------- 15.2/24.8 MB 5.5 MB/s eta 0:00:02\n",
      "     ------------------------ --------------- 15.4/24.8 MB 5.5 MB/s eta 0:00:02\n",
      "     ------------------------- -------------- 15.6/24.8 MB 5.4 MB/s eta 0:00:02\n",
      "     ------------------------- -------------- 15.9/24.8 MB 5.8 MB/s eta 0:00:02\n",
      "     ------------------------- -------------- 16.0/24.8 MB 5.8 MB/s eta 0:00:02\n",
      "     -------------------------- ------------- 16.2/24.8 MB 5.6 MB/s eta 0:00:02\n",
      "     -------------------------- ------------- 16.4/24.8 MB 5.6 MB/s eta 0:00:02\n",
      "     -------------------------- ------------- 16.5/24.8 MB 5.5 MB/s eta 0:00:02\n",
      "     --------------------------- ------------ 16.9/24.8 MB 5.5 MB/s eta 0:00:02\n",
      "     --------------------------- ------------ 17.2/24.8 MB 5.5 MB/s eta 0:00:02\n",
      "     --------------------------- ------------ 17.2/24.8 MB 5.5 MB/s eta 0:00:02\n",
      "     ---------------------------- ----------- 17.5/24.8 MB 5.3 MB/s eta 0:00:02\n",
      "     ---------------------------- ----------- 17.7/24.8 MB 5.3 MB/s eta 0:00:02\n",
      "     ---------------------------- ----------- 17.8/24.8 MB 5.2 MB/s eta 0:00:02\n",
      "     ----------------------------- ---------- 18.1/24.8 MB 5.2 MB/s eta 0:00:02\n",
      "     ----------------------------- ---------- 18.3/24.8 MB 5.2 MB/s eta 0:00:02\n",
      "     ----------------------------- ---------- 18.3/24.8 MB 5.0 MB/s eta 0:00:02\n",
      "     ----------------------------- ---------- 18.5/24.8 MB 5.0 MB/s eta 0:00:02\n",
      "     ------------------------------ --------- 18.7/24.8 MB 5.0 MB/s eta 0:00:02\n",
      "     ------------------------------ --------- 18.9/24.8 MB 4.9 MB/s eta 0:00:02\n",
      "     ------------------------------ --------- 19.2/24.8 MB 4.8 MB/s eta 0:00:02\n",
      "     ------------------------------- -------- 19.3/24.8 MB 4.8 MB/s eta 0:00:02\n",
      "     ------------------------------- -------- 19.5/24.8 MB 4.7 MB/s eta 0:00:02\n",
      "     ------------------------------- -------- 19.8/24.8 MB 4.7 MB/s eta 0:00:02\n",
      "     -------------------------------- ------- 19.9/24.8 MB 4.6 MB/s eta 0:00:02\n",
      "     -------------------------------- ------- 20.2/24.8 MB 4.6 MB/s eta 0:00:02\n",
      "     -------------------------------- ------- 20.3/24.8 MB 4.6 MB/s eta 0:00:01\n",
      "     --------------------------------- ------ 20.5/24.8 MB 4.7 MB/s eta 0:00:01\n",
      "     --------------------------------- ------ 20.7/24.8 MB 4.8 MB/s eta 0:00:01\n",
      "     --------------------------------- ------ 20.8/24.8 MB 4.7 MB/s eta 0:00:01\n",
      "     --------------------------------- ------ 21.0/24.8 MB 4.6 MB/s eta 0:00:01\n",
      "     ---------------------------------- ----- 21.2/24.8 MB 4.6 MB/s eta 0:00:01\n",
      "     ---------------------------------- ----- 21.4/24.8 MB 4.5 MB/s eta 0:00:01\n",
      "     ----------------------------------- ---- 21.8/24.8 MB 4.5 MB/s eta 0:00:01\n",
      "     ----------------------------------- ---- 21.9/24.8 MB 4.5 MB/s eta 0:00:01\n",
      "     ----------------------------------- ---- 22.1/24.8 MB 4.5 MB/s eta 0:00:01\n",
      "     ------------------------------------ --- 22.5/24.8 MB 4.5 MB/s eta 0:00:01\n",
      "     ------------------------------------ --- 22.6/24.8 MB 4.5 MB/s eta 0:00:01\n",
      "     ------------------------------------ --- 22.9/24.8 MB 4.5 MB/s eta 0:00:01\n",
      "     ------------------------------------- -- 23.2/24.8 MB 4.5 MB/s eta 0:00:01\n",
      "     ------------------------------------- -- 23.2/24.8 MB 4.3 MB/s eta 0:00:01\n",
      "     ------------------------------------- -- 23.4/24.8 MB 4.3 MB/s eta 0:00:01\n",
      "     -------------------------------------- - 23.6/24.8 MB 4.3 MB/s eta 0:00:01\n",
      "     -------------------------------------- - 23.9/24.8 MB 4.3 MB/s eta 0:00:01\n",
      "     -------------------------------------- - 24.2/24.8 MB 4.3 MB/s eta 0:00:01\n",
      "     ---------------------------------------  24.3/24.8 MB 4.3 MB/s eta 0:00:01\n",
      "     ---------------------------------------  24.3/24.8 MB 4.1 MB/s eta 0:00:01\n",
      "     ---------------------------------------  24.7/24.8 MB 4.1 MB/s eta 0:00:01\n",
      "     ---------------------------------------  24.8/24.8 MB 4.0 MB/s eta 0:00:01\n",
      "     ---------------------------------------  24.8/24.8 MB 4.0 MB/s eta 0:00:01\n",
      "     ---------------------------------------  24.8/24.8 MB 4.0 MB/s eta 0:00:01\n",
      "     ---------------------------------------- 24.8/24.8 MB 3.9 MB/s eta 0:00:00\n",
      "Collecting Flask<4\n",
      "  Using cached flask-3.0.2-py3-none-any.whl (101 kB)\n",
      "Requirement already satisfied: protobuf<5,>=3.12.0 in c:\\users\\sourabh.bharti\\anaconda3\\envs\\tpot\\lib\\site-packages (from mlflow) (4.23.1)\n",
      "Requirement already satisfied: numpy<2 in c:\\users\\sourabh.bharti\\anaconda3\\envs\\tpot\\lib\\site-packages (from mlflow) (1.23.5)\n",
      "Collecting graphene<4\n",
      "  Downloading graphene-3.3-py2.py3-none-any.whl (128 kB)\n",
      "     ---------------------------------------- 0.0/128.2 kB ? eta -:--:--\n",
      "     -------------------------------------- 128.2/128.2 kB 3.8 MB/s eta 0:00:00\n",
      "Collecting alembic!=1.10.0,<2\n",
      "  Downloading alembic-1.13.1-py3-none-any.whl (233 kB)\n",
      "     ---------------------------------------- 0.0/233.4 kB ? eta -:--:--\n",
      "     -------------------------------------- 233.4/233.4 kB 4.7 MB/s eta 0:00:00\n",
      "Requirement already satisfied: cloudpickle<4 in c:\\users\\sourabh.bharti\\anaconda3\\envs\\tpot\\lib\\site-packages (from mlflow) (2.2.1)\n",
      "Collecting sqlparse<1,>=0.4.0\n",
      "  Using cached sqlparse-0.4.4-py3-none-any.whl (41 kB)\n",
      "Collecting docker<8,>=4.0.0\n",
      "  Downloading docker-7.0.0-py3-none-any.whl (147 kB)\n",
      "     ---------------------------------------- 0.0/147.6 kB ? eta -:--:--\n",
      "     -------------------------------------- 147.6/147.6 kB 8.6 MB/s eta 0:00:00\n",
      "Requirement already satisfied: scipy<2 in c:\\users\\sourabh.bharti\\anaconda3\\envs\\tpot\\lib\\site-packages (from mlflow) (1.10.1)\n",
      "Requirement already satisfied: packaging<24 in c:\\users\\sourabh.bharti\\anaconda3\\envs\\tpot\\lib\\site-packages (from mlflow) (23.0)\n",
      "Collecting sqlalchemy<3,>=1.4.0\n",
      "  Downloading SQLAlchemy-2.0.28-cp310-cp310-win_amd64.whl (2.1 MB)\n",
      "     ---------------------------------------- 0.0/2.1 MB ? eta -:--:--\n",
      "     - -------------------------------------- 0.1/2.1 MB 5.5 MB/s eta 0:00:01\n",
      "     ------ --------------------------------- 0.3/2.1 MB 5.0 MB/s eta 0:00:01\n",
      "     ---------- ----------------------------- 0.6/2.1 MB 5.0 MB/s eta 0:00:01\n",
      "     ---------------- ----------------------- 0.9/2.1 MB 5.1 MB/s eta 0:00:01\n",
      "     ------------------------ --------------- 1.3/2.1 MB 5.7 MB/s eta 0:00:01\n",
      "     ------------------------------ --------- 1.6/2.1 MB 5.8 MB/s eta 0:00:01\n",
      "     ------------------------------------- -- 1.9/2.1 MB 6.2 MB/s eta 0:00:01\n",
      "     ---------------------------------------  2.1/2.1 MB 6.0 MB/s eta 0:00:01\n",
      "     ---------------------------------------- 2.1/2.1 MB 5.7 MB/s eta 0:00:00\n",
      "Collecting querystring-parser<2\n",
      "  Using cached querystring_parser-1.2.4-py2.py3-none-any.whl (7.9 kB)\n",
      "Requirement already satisfied: scikit-learn<2 in c:\\users\\sourabh.bharti\\anaconda3\\envs\\tpot\\lib\\site-packages (from mlflow) (1.2.2)\n",
      "Requirement already satisfied: entrypoints<1 in c:\\users\\sourabh.bharti\\anaconda3\\envs\\tpot\\lib\\site-packages (from mlflow) (0.4)\n",
      "Requirement already satisfied: pandas<3 in c:\\users\\sourabh.bharti\\anaconda3\\envs\\tpot\\lib\\site-packages (from mlflow) (1.5.3)\n",
      "Collecting Mako\n",
      "  Downloading Mako-1.3.2-py3-none-any.whl (78 kB)\n",
      "     ---------------------------------------- 0.0/78.7 kB ? eta -:--:--\n",
      "     ---------------------------------------- 78.7/78.7 kB 4.3 MB/s eta 0:00:00\n",
      "Requirement already satisfied: typing-extensions>=4 in c:\\users\\sourabh.bharti\\anaconda3\\envs\\tpot\\lib\\site-packages (from alembic!=1.10.0,<2->mlflow) (4.4.0)\n",
      "Requirement already satisfied: colorama in c:\\users\\sourabh.bharti\\anaconda3\\envs\\tpot\\lib\\site-packages (from click<9,>=7.0->mlflow) (0.4.6)\n",
      "Requirement already satisfied: pywin32>=304 in c:\\users\\sourabh.bharti\\anaconda3\\envs\\tpot\\lib\\site-packages (from docker<8,>=4.0.0->mlflow) (305.1)\n",
      "Requirement already satisfied: urllib3>=1.26.0 in c:\\users\\sourabh.bharti\\anaconda3\\envs\\tpot\\lib\\site-packages (from docker<8,>=4.0.0->mlflow) (1.26.15)\n",
      "Collecting itsdangerous>=2.1.2\n",
      "  Using cached itsdangerous-2.1.2-py3-none-any.whl (15 kB)\n",
      "Collecting blinker>=1.6.2\n",
      "  Using cached blinker-1.7.0-py3-none-any.whl (13 kB)\n",
      "Collecting Werkzeug>=3.0.0\n",
      "  Using cached werkzeug-3.0.1-py3-none-any.whl (226 kB)\n",
      "Collecting gitdb<5,>=4.0.1\n",
      "  Downloading gitdb-4.0.11-py3-none-any.whl (62 kB)\n",
      "     ---------------------------------------- 0.0/62.7 kB ? eta -:--:--\n",
      "     ---------------------------------------- 62.7/62.7 kB ? eta 0:00:00\n",
      "Collecting graphql-core<3.3,>=3.1\n",
      "  Downloading graphql_core-3.2.3-py3-none-any.whl (202 kB)\n",
      "     ---------------------------------------- 0.0/202.9 kB ? eta -:--:--\n",
      "     -------------------------------------- 202.9/202.9 kB 6.0 MB/s eta 0:00:00\n",
      "Collecting aniso8601<10,>=8\n",
      "  Downloading aniso8601-9.0.1-py2.py3-none-any.whl (52 kB)\n",
      "     ---------------------------------------- 0.0/52.8 kB ? eta -:--:--\n",
      "     ---------------------------------------- 52.8/52.8 kB 2.7 MB/s eta 0:00:00\n",
      "Collecting graphql-relay<3.3,>=3.1\n",
      "  Downloading graphql_relay-3.2.0-py3-none-any.whl (16 kB)\n",
      "Requirement already satisfied: zipp>=0.5 in c:\\users\\sourabh.bharti\\anaconda3\\envs\\tpot\\lib\\site-packages (from importlib-metadata!=4.7.0,<8,>=3.7.0->mlflow) (3.15.0)\n",
      "Requirement already satisfied: MarkupSafe>=2.0 in c:\\users\\sourabh.bharti\\anaconda3\\envs\\tpot\\lib\\site-packages (from Jinja2<4,>=3.0->mlflow) (2.1.2)\n",
      "Requirement already satisfied: fonttools>=4.22.0 in c:\\users\\sourabh.bharti\\anaconda3\\envs\\tpot\\lib\\site-packages (from matplotlib<4->mlflow) (4.39.3)\n",
      "Requirement already satisfied: contourpy>=1.0.1 in c:\\users\\sourabh.bharti\\anaconda3\\envs\\tpot\\lib\\site-packages (from matplotlib<4->mlflow) (1.0.7)\n",
      "Requirement already satisfied: python-dateutil>=2.7 in c:\\users\\sourabh.bharti\\anaconda3\\envs\\tpot\\lib\\site-packages (from matplotlib<4->mlflow) (2.8.2)\n",
      "Requirement already satisfied: kiwisolver>=1.0.1 in c:\\users\\sourabh.bharti\\anaconda3\\envs\\tpot\\lib\\site-packages (from matplotlib<4->mlflow) (1.4.4)\n",
      "Requirement already satisfied: cycler>=0.10 in c:\\users\\sourabh.bharti\\anaconda3\\envs\\tpot\\lib\\site-packages (from matplotlib<4->mlflow) (0.11.0)\n",
      "Requirement already satisfied: pillow>=6.2.0 in c:\\users\\sourabh.bharti\\anaconda3\\envs\\tpot\\lib\\site-packages (from matplotlib<4->mlflow) (9.5.0)\n",
      "Requirement already satisfied: pyparsing>=2.3.1 in c:\\users\\sourabh.bharti\\anaconda3\\envs\\tpot\\lib\\site-packages (from matplotlib<4->mlflow) (3.0.9)\n",
      "Requirement already satisfied: six in c:\\users\\sourabh.bharti\\anaconda3\\envs\\tpot\\lib\\site-packages (from querystring-parser<2->mlflow) (1.16.0)\n",
      "Requirement already satisfied: charset-normalizer<3,>=2 in c:\\users\\sourabh.bharti\\anaconda3\\envs\\tpot\\lib\\site-packages (from requests<3,>=2.17.3->mlflow) (2.0.4)\n",
      "Requirement already satisfied: idna<4,>=2.5 in c:\\users\\sourabh.bharti\\anaconda3\\envs\\tpot\\lib\\site-packages (from requests<3,>=2.17.3->mlflow) (3.4)\n",
      "Requirement already satisfied: certifi>=2017.4.17 in c:\\users\\sourabh.bharti\\anaconda3\\envs\\tpot\\lib\\site-packages (from requests<3,>=2.17.3->mlflow) (2022.12.7)\n",
      "Requirement already satisfied: threadpoolctl>=2.0.0 in c:\\users\\sourabh.bharti\\anaconda3\\envs\\tpot\\lib\\site-packages (from scikit-learn<2->mlflow) (2.2.0)\n",
      "Requirement already satisfied: joblib>=1.1.1 in c:\\users\\sourabh.bharti\\anaconda3\\envs\\tpot\\lib\\site-packages (from scikit-learn<2->mlflow) (1.1.1)\n",
      "Collecting greenlet!=0.4.17\n",
      "  Downloading greenlet-3.0.3-cp310-cp310-win_amd64.whl (292 kB)\n",
      "     ---------------------------------------- 0.0/292.3 kB ? eta -:--:--\n",
      "     ----------------------------- -------- 225.3/292.3 kB 6.7 MB/s eta 0:00:01\n",
      "     -------------------------------------- 292.3/292.3 kB 6.0 MB/s eta 0:00:00\n",
      "Collecting typing-extensions>=4\n",
      "  Downloading typing_extensions-4.10.0-py3-none-any.whl (33 kB)\n",
      "Collecting smmap<6,>=3.0.1\n",
      "  Downloading smmap-5.0.1-py3-none-any.whl (24 kB)\n",
      "Installing collected packages: aniso8601, Werkzeug, waitress, typing-extensions, sqlparse, smmap, querystring-parser, pyarrow, Mako, itsdangerous, greenlet, graphql-core, blinker, sqlalchemy, graphql-relay, gitdb, Flask, docker, graphene, gitpython, alembic, mlflow\n",
      "  Attempting uninstall: Werkzeug\n",
      "    Found existing installation: Werkzeug 2.3.4\n",
      "    Uninstalling Werkzeug-2.3.4:\n",
      "      Successfully uninstalled Werkzeug-2.3.4\n",
      "  Attempting uninstall: typing-extensions\n",
      "    Found existing installation: typing_extensions 4.4.0\n",
      "    Uninstalling typing_extensions-4.4.0:\n",
      "      Successfully uninstalled typing_extensions-4.4.0\n",
      "Successfully installed Flask-3.0.2 Mako-1.3.2 Werkzeug-3.0.1 alembic-1.13.1 aniso8601-9.0.1 blinker-1.7.0 docker-7.0.0 gitdb-4.0.11 gitpython-3.1.42 graphene-3.3 graphql-core-3.2.3 graphql-relay-3.2.0 greenlet-3.0.3 itsdangerous-2.1.2 mlflow-2.11.2 pyarrow-15.0.2 querystring-parser-1.2.4 smmap-5.0.1 sqlalchemy-2.0.28 sqlparse-0.4.4 typing-extensions-4.10.0 waitress-3.0.0\n"
     ]
    }
   ],
   "source": [
    "!pip install mlflow"
   ]
  },
  {
   "cell_type": "code",
   "execution_count": 98,
   "id": "10009dca",
   "metadata": {},
   "outputs": [],
   "source": [
    "import mlflow.sklearn"
   ]
  },
  {
   "cell_type": "code",
   "execution_count": 30,
   "id": "eb7a061b",
   "metadata": {},
   "outputs": [
    {
     "name": "stdout",
     "output_type": "stream",
     "text": [
      "Requirement already satisfied: openpyxl in c:\\users\\sourabh.bharti\\anaconda3\\envs\\tpot\\lib\\site-packages (3.1.2)\n",
      "Requirement already satisfied: et-xmlfile in c:\\users\\sourabh.bharti\\anaconda3\\envs\\tpot\\lib\\site-packages (from openpyxl) (1.1.0)\n"
     ]
    }
   ],
   "source": [
    "!pip install openpyxl"
   ]
  },
  {
   "cell_type": "code",
   "execution_count": 31,
   "id": "4d012d95",
   "metadata": {},
   "outputs": [
    {
     "name": "stdout",
     "output_type": "stream",
     "text": [
      "Requirement already satisfied: seaborn in c:\\users\\sourabh.bharti\\anaconda3\\envs\\tpot\\lib\\site-packages (0.13.2)\n",
      "Requirement already satisfied: matplotlib!=3.6.1,>=3.4 in c:\\users\\sourabh.bharti\\anaconda3\\envs\\tpot\\lib\\site-packages (from seaborn) (3.7.1)\n",
      "Requirement already satisfied: numpy!=1.24.0,>=1.20 in c:\\users\\sourabh.bharti\\anaconda3\\envs\\tpot\\lib\\site-packages (from seaborn) (1.23.5)\n",
      "Requirement already satisfied: pandas>=1.2 in c:\\users\\sourabh.bharti\\anaconda3\\envs\\tpot\\lib\\site-packages (from seaborn) (1.5.3)\n",
      "Requirement already satisfied: contourpy>=1.0.1 in c:\\users\\sourabh.bharti\\anaconda3\\envs\\tpot\\lib\\site-packages (from matplotlib!=3.6.1,>=3.4->seaborn) (1.0.7)\n",
      "Requirement already satisfied: cycler>=0.10 in c:\\users\\sourabh.bharti\\anaconda3\\envs\\tpot\\lib\\site-packages (from matplotlib!=3.6.1,>=3.4->seaborn) (0.11.0)\n",
      "Requirement already satisfied: pyparsing>=2.3.1 in c:\\users\\sourabh.bharti\\anaconda3\\envs\\tpot\\lib\\site-packages (from matplotlib!=3.6.1,>=3.4->seaborn) (3.0.9)\n",
      "Requirement already satisfied: pillow>=6.2.0 in c:\\users\\sourabh.bharti\\anaconda3\\envs\\tpot\\lib\\site-packages (from matplotlib!=3.6.1,>=3.4->seaborn) (9.5.0)\n",
      "Requirement already satisfied: kiwisolver>=1.0.1 in c:\\users\\sourabh.bharti\\anaconda3\\envs\\tpot\\lib\\site-packages (from matplotlib!=3.6.1,>=3.4->seaborn) (1.4.4)\n",
      "Requirement already satisfied: fonttools>=4.22.0 in c:\\users\\sourabh.bharti\\anaconda3\\envs\\tpot\\lib\\site-packages (from matplotlib!=3.6.1,>=3.4->seaborn) (4.39.3)\n",
      "Requirement already satisfied: packaging>=20.0 in c:\\users\\sourabh.bharti\\anaconda3\\envs\\tpot\\lib\\site-packages (from matplotlib!=3.6.1,>=3.4->seaborn) (23.0)\n",
      "Requirement already satisfied: python-dateutil>=2.7 in c:\\users\\sourabh.bharti\\anaconda3\\envs\\tpot\\lib\\site-packages (from matplotlib!=3.6.1,>=3.4->seaborn) (2.8.2)\n",
      "Requirement already satisfied: pytz>=2020.1 in c:\\users\\sourabh.bharti\\anaconda3\\envs\\tpot\\lib\\site-packages (from pandas>=1.2->seaborn) (2022.7)\n",
      "Requirement already satisfied: six>=1.5 in c:\\users\\sourabh.bharti\\anaconda3\\envs\\tpot\\lib\\site-packages (from python-dateutil>=2.7->matplotlib!=3.6.1,>=3.4->seaborn) (1.16.0)\n"
     ]
    }
   ],
   "source": [
    "!pip install seaborn"
   ]
  },
  {
   "cell_type": "code",
   "execution_count": 32,
   "id": "8f3b3447",
   "metadata": {},
   "outputs": [
    {
     "data": {
      "text/html": [
       "        <script type=\"text/javascript\">\n",
       "        window.PlotlyConfig = {MathJaxConfig: 'local'};\n",
       "        if (window.MathJax && window.MathJax.Hub && window.MathJax.Hub.Config) {window.MathJax.Hub.Config({SVG: {font: \"STIX-Web\"}});}\n",
       "        if (typeof require !== 'undefined') {\n",
       "        require.undef(\"plotly\");\n",
       "        requirejs.config({\n",
       "            paths: {\n",
       "                'plotly': ['https://cdn.plot.ly/plotly-2.20.0.min']\n",
       "            }\n",
       "        });\n",
       "        require(['plotly'], function(Plotly) {\n",
       "            window._Plotly = Plotly;\n",
       "        });\n",
       "        }\n",
       "        </script>\n",
       "        "
      ]
     },
     "metadata": {},
     "output_type": "display_data"
    }
   ],
   "source": [
    "from plotly.offline import init_notebook_mode, iplot\n",
    "init_notebook_mode(connected=True)\n",
    "import plotly.graph_objs as go\n",
    "from sklearn.preprocessing import MinMaxScaler\n",
    "import plotly.graph_objects as go"
   ]
  },
  {
   "cell_type": "code",
   "execution_count": 33,
   "id": "a4342460",
   "metadata": {},
   "outputs": [],
   "source": [
    "import matplotlib.pyplot as plt\n",
    "import seaborn as sns"
   ]
  },
  {
   "cell_type": "code",
   "execution_count": 34,
   "id": "95cd4650",
   "metadata": {},
   "outputs": [],
   "source": [
    "from statsmodels.tsa.arima_model import ARIMA\n",
    "from sklearn.metrics import mean_squared_error\n",
    "from datetime import datetime"
   ]
  },
  {
   "cell_type": "code",
   "execution_count": 35,
   "id": "86cb807f",
   "metadata": {},
   "outputs": [
    {
     "name": "stdout",
     "output_type": "stream",
     "text": [
      "Requirement already satisfied: catboost in c:\\users\\sourabh.bharti\\anaconda3\\envs\\tpot\\lib\\site-packages (1.2.3)\n",
      "Requirement already satisfied: six in c:\\users\\sourabh.bharti\\anaconda3\\envs\\tpot\\lib\\site-packages (from catboost) (1.16.0)\n",
      "Requirement already satisfied: numpy>=1.16.0 in c:\\users\\sourabh.bharti\\anaconda3\\envs\\tpot\\lib\\site-packages (from catboost) (1.23.5)\n",
      "Requirement already satisfied: pandas>=0.24 in c:\\users\\sourabh.bharti\\anaconda3\\envs\\tpot\\lib\\site-packages (from catboost) (1.5.3)\n",
      "Requirement already satisfied: scipy in c:\\users\\sourabh.bharti\\anaconda3\\envs\\tpot\\lib\\site-packages (from catboost) (1.10.1)\n",
      "Requirement already satisfied: plotly in c:\\users\\sourabh.bharti\\anaconda3\\envs\\tpot\\lib\\site-packages (from catboost) (5.14.1)\n",
      "Requirement already satisfied: graphviz in c:\\users\\sourabh.bharti\\anaconda3\\envs\\tpot\\lib\\site-packages (from catboost) (0.20.1)\n",
      "Requirement already satisfied: matplotlib in c:\\users\\sourabh.bharti\\anaconda3\\envs\\tpot\\lib\\site-packages (from catboost) (3.7.1)\n",
      "Requirement already satisfied: python-dateutil>=2.8.1 in c:\\users\\sourabh.bharti\\anaconda3\\envs\\tpot\\lib\\site-packages (from pandas>=0.24->catboost) (2.8.2)\n",
      "Requirement already satisfied: pytz>=2020.1 in c:\\users\\sourabh.bharti\\anaconda3\\envs\\tpot\\lib\\site-packages (from pandas>=0.24->catboost) (2022.7)\n",
      "Requirement already satisfied: kiwisolver>=1.0.1 in c:\\users\\sourabh.bharti\\anaconda3\\envs\\tpot\\lib\\site-packages (from matplotlib->catboost) (1.4.4)\n",
      "Requirement already satisfied: packaging>=20.0 in c:\\users\\sourabh.bharti\\anaconda3\\envs\\tpot\\lib\\site-packages (from matplotlib->catboost) (23.0)\n",
      "Requirement already satisfied: cycler>=0.10 in c:\\users\\sourabh.bharti\\anaconda3\\envs\\tpot\\lib\\site-packages (from matplotlib->catboost) (0.11.0)\n",
      "Requirement already satisfied: pyparsing>=2.3.1 in c:\\users\\sourabh.bharti\\anaconda3\\envs\\tpot\\lib\\site-packages (from matplotlib->catboost) (3.0.9)\n",
      "Requirement already satisfied: fonttools>=4.22.0 in c:\\users\\sourabh.bharti\\anaconda3\\envs\\tpot\\lib\\site-packages (from matplotlib->catboost) (4.39.3)\n",
      "Requirement already satisfied: pillow>=6.2.0 in c:\\users\\sourabh.bharti\\anaconda3\\envs\\tpot\\lib\\site-packages (from matplotlib->catboost) (9.5.0)\n",
      "Requirement already satisfied: contourpy>=1.0.1 in c:\\users\\sourabh.bharti\\anaconda3\\envs\\tpot\\lib\\site-packages (from matplotlib->catboost) (1.0.7)\n",
      "Requirement already satisfied: tenacity>=6.2.0 in c:\\users\\sourabh.bharti\\anaconda3\\envs\\tpot\\lib\\site-packages (from plotly->catboost) (8.2.2)\n"
     ]
    }
   ],
   "source": [
    "!pip install catboost"
   ]
  },
  {
   "cell_type": "code",
   "execution_count": 36,
   "id": "38eeb058",
   "metadata": {},
   "outputs": [],
   "source": [
    "from sklearn.metrics import mean_squared_error, r2_score\n",
    "from sklearn.neighbors import KNeighborsRegressor\n",
    "from sklearn.tree import DecisionTreeRegressor\n",
    "from sklearn.ensemble import RandomForestRegressor,AdaBoostRegressor\n",
    "from sklearn.neural_network import MLPRegressor\n",
    "from sklearn.svm import SVR\n",
    "from sklearn.linear_model import LinearRegression, Ridge,Lasso\n",
    "from sklearn.metrics import r2_score, mean_absolute_error, mean_squared_error\n",
    "from sklearn.model_selection import RandomizedSearchCV\n",
    "from catboost import CatBoostRegressor\n",
    "from xgboost import XGBRegressor\n",
    "import warnings"
   ]
  },
  {
   "cell_type": "code",
   "execution_count": 37,
   "id": "b4a96da8",
   "metadata": {},
   "outputs": [],
   "source": [
    "elec_df = pd.read_csv('Electricity Consumption/C/C28 Manufacture of machinery and equipment/U214.csv')"
   ]
  },
  {
   "cell_type": "code",
   "execution_count": 38,
   "id": "efa5becf",
   "metadata": {},
   "outputs": [
    {
     "name": "stdout",
     "output_type": "stream",
     "text": [
      "<class 'pandas.core.frame.DataFrame'>\n",
      "RangeIndex: 44682 entries, 0 to 44681\n",
      "Data columns (total 2 columns):\n",
      " #   Column  Non-Null Count  Dtype  \n",
      "---  ------  --------------  -----  \n",
      " 0   Time    44682 non-null  object \n",
      " 1   Value   44682 non-null  float64\n",
      "dtypes: float64(1), object(1)\n",
      "memory usage: 698.3+ KB\n"
     ]
    }
   ],
   "source": [
    "elec_df.info()"
   ]
  },
  {
   "cell_type": "code",
   "execution_count": 39,
   "id": "7e35d065",
   "metadata": {},
   "outputs": [],
   "source": [
    "weather_df = pd.read_csv('Weather Data/W2.csv')"
   ]
  },
  {
   "cell_type": "code",
   "execution_count": 40,
   "id": "fe940cdc",
   "metadata": {},
   "outputs": [
    {
     "name": "stdout",
     "output_type": "stream",
     "text": [
      "<class 'pandas.core.frame.DataFrame'>\n",
      "RangeIndex: 274751 entries, 0 to 274750\n",
      "Data columns (total 9 columns):\n",
      " #   Column           Non-Null Count   Dtype  \n",
      "---  ------           --------------   -----  \n",
      " 0   Time             274751 non-null  object \n",
      " 1   Temperature(F)   274751 non-null  float64\n",
      " 2   Dew Point(F)     274751 non-null  float64\n",
      " 3   Humidity(%)      274751 non-null  float64\n",
      " 4   Wind             274751 non-null  object \n",
      " 5   Wind Speed(mph)  274751 non-null  float64\n",
      " 6   Wind Gust(mph)   274751 non-null  float64\n",
      " 7   Pressure(in)     274751 non-null  float64\n",
      " 8   Condition        0 non-null       float64\n",
      "dtypes: float64(7), object(2)\n",
      "memory usage: 18.9+ MB\n"
     ]
    }
   ],
   "source": [
    "weather_df.info()"
   ]
  },
  {
   "cell_type": "code",
   "execution_count": 41,
   "id": "2e82bc2f",
   "metadata": {},
   "outputs": [
    {
     "data": {
      "text/html": [
       "<div>\n",
       "<style scoped>\n",
       "    .dataframe tbody tr th:only-of-type {\n",
       "        vertical-align: middle;\n",
       "    }\n",
       "\n",
       "    .dataframe tbody tr th {\n",
       "        vertical-align: top;\n",
       "    }\n",
       "\n",
       "    .dataframe thead th {\n",
       "        text-align: right;\n",
       "    }\n",
       "</style>\n",
       "<table border=\"1\" class=\"dataframe\">\n",
       "  <thead>\n",
       "    <tr style=\"text-align: right;\">\n",
       "      <th></th>\n",
       "      <th>Time</th>\n",
       "      <th>Value</th>\n",
       "    </tr>\n",
       "  </thead>\n",
       "  <tbody>\n",
       "    <tr>\n",
       "      <th>0</th>\n",
       "      <td>2017-08-18 00:15:00</td>\n",
       "      <td>12.8905</td>\n",
       "    </tr>\n",
       "    <tr>\n",
       "      <th>1</th>\n",
       "      <td>2017-08-18 00:30:00</td>\n",
       "      <td>12.8905</td>\n",
       "    </tr>\n",
       "    <tr>\n",
       "      <th>2</th>\n",
       "      <td>2017-08-18 00:45:00</td>\n",
       "      <td>12.5695</td>\n",
       "    </tr>\n",
       "    <tr>\n",
       "      <th>3</th>\n",
       "      <td>2017-08-18 01:00:00</td>\n",
       "      <td>11.9812</td>\n",
       "    </tr>\n",
       "    <tr>\n",
       "      <th>4</th>\n",
       "      <td>2017-08-18 01:15:00</td>\n",
       "      <td>12.0347</td>\n",
       "    </tr>\n",
       "  </tbody>\n",
       "</table>\n",
       "</div>"
      ],
      "text/plain": [
       "                  Time    Value\n",
       "0  2017-08-18 00:15:00  12.8905\n",
       "1  2017-08-18 00:30:00  12.8905\n",
       "2  2017-08-18 00:45:00  12.5695\n",
       "3  2017-08-18 01:00:00  11.9812\n",
       "4  2017-08-18 01:15:00  12.0347"
      ]
     },
     "execution_count": 41,
     "metadata": {},
     "output_type": "execute_result"
    }
   ],
   "source": [
    "elec_df.head()"
   ]
  },
  {
   "cell_type": "code",
   "execution_count": 42,
   "id": "12cdb7de",
   "metadata": {},
   "outputs": [],
   "source": [
    "weather_df = weather_df.drop(columns=['Condition'], axis=1)"
   ]
  },
  {
   "cell_type": "code",
   "execution_count": 43,
   "id": "aa2b685b",
   "metadata": {},
   "outputs": [
    {
     "data": {
      "text/html": [
       "<div>\n",
       "<style scoped>\n",
       "    .dataframe tbody tr th:only-of-type {\n",
       "        vertical-align: middle;\n",
       "    }\n",
       "\n",
       "    .dataframe tbody tr th {\n",
       "        vertical-align: top;\n",
       "    }\n",
       "\n",
       "    .dataframe thead th {\n",
       "        text-align: right;\n",
       "    }\n",
       "</style>\n",
       "<table border=\"1\" class=\"dataframe\">\n",
       "  <thead>\n",
       "    <tr style=\"text-align: right;\">\n",
       "      <th></th>\n",
       "      <th>Time</th>\n",
       "      <th>Temperature(F)</th>\n",
       "      <th>Dew Point(F)</th>\n",
       "      <th>Humidity(%)</th>\n",
       "      <th>Wind</th>\n",
       "      <th>Wind Speed(mph)</th>\n",
       "      <th>Wind Gust(mph)</th>\n",
       "      <th>Pressure(in)</th>\n",
       "    </tr>\n",
       "  </thead>\n",
       "  <tbody>\n",
       "    <tr>\n",
       "      <th>0</th>\n",
       "      <td>2015-01-01 00:00:00</td>\n",
       "      <td>54.34</td>\n",
       "      <td>46.47</td>\n",
       "      <td>75.22</td>\n",
       "      <td>ENE</td>\n",
       "      <td>10.9</td>\n",
       "      <td>0.0</td>\n",
       "      <td>29.82</td>\n",
       "    </tr>\n",
       "    <tr>\n",
       "      <th>1</th>\n",
       "      <td>2015-01-01 00:15:00</td>\n",
       "      <td>54.34</td>\n",
       "      <td>46.47</td>\n",
       "      <td>75.22</td>\n",
       "      <td>ENE</td>\n",
       "      <td>10.9</td>\n",
       "      <td>0.0</td>\n",
       "      <td>29.82</td>\n",
       "    </tr>\n",
       "    <tr>\n",
       "      <th>2</th>\n",
       "      <td>2015-01-01 00:30:00</td>\n",
       "      <td>54.34</td>\n",
       "      <td>46.47</td>\n",
       "      <td>75.22</td>\n",
       "      <td>ENE</td>\n",
       "      <td>10.9</td>\n",
       "      <td>0.0</td>\n",
       "      <td>29.82</td>\n",
       "    </tr>\n",
       "    <tr>\n",
       "      <th>3</th>\n",
       "      <td>2015-01-01 00:45:00</td>\n",
       "      <td>54.34</td>\n",
       "      <td>46.47</td>\n",
       "      <td>75.22</td>\n",
       "      <td>ENE</td>\n",
       "      <td>10.9</td>\n",
       "      <td>0.0</td>\n",
       "      <td>29.82</td>\n",
       "    </tr>\n",
       "    <tr>\n",
       "      <th>4</th>\n",
       "      <td>2015-01-01 01:00:00</td>\n",
       "      <td>54.34</td>\n",
       "      <td>46.47</td>\n",
       "      <td>75.22</td>\n",
       "      <td>ENE</td>\n",
       "      <td>10.9</td>\n",
       "      <td>0.0</td>\n",
       "      <td>29.82</td>\n",
       "    </tr>\n",
       "  </tbody>\n",
       "</table>\n",
       "</div>"
      ],
      "text/plain": [
       "                  Time  Temperature(F)  Dew Point(F)  Humidity(%) Wind  \\\n",
       "0  2015-01-01 00:00:00           54.34         46.47        75.22  ENE   \n",
       "1  2015-01-01 00:15:00           54.34         46.47        75.22  ENE   \n",
       "2  2015-01-01 00:30:00           54.34         46.47        75.22  ENE   \n",
       "3  2015-01-01 00:45:00           54.34         46.47        75.22  ENE   \n",
       "4  2015-01-01 01:00:00           54.34         46.47        75.22  ENE   \n",
       "\n",
       "   Wind Speed(mph)  Wind Gust(mph)  Pressure(in)  \n",
       "0             10.9             0.0         29.82  \n",
       "1             10.9             0.0         29.82  \n",
       "2             10.9             0.0         29.82  \n",
       "3             10.9             0.0         29.82  \n",
       "4             10.9             0.0         29.82  "
      ]
     },
     "execution_count": 43,
     "metadata": {},
     "output_type": "execute_result"
    }
   ],
   "source": [
    "weather_df.head()"
   ]
  },
  {
   "cell_type": "markdown",
   "id": "39174850",
   "metadata": {},
   "source": [
    "# Checking the number of unique values in weather data"
   ]
  },
  {
   "cell_type": "code",
   "execution_count": 44,
   "id": "1b8474eb",
   "metadata": {},
   "outputs": [
    {
     "data": {
      "text/plain": [
       "Time               274751\n",
       "Temperature(F)      66996\n",
       "Dew Point(F)         6645\n",
       "Humidity(%)          7499\n",
       "Wind                   18\n",
       "Wind Speed(mph)     29392\n",
       "Wind Gust(mph)       1217\n",
       "Pressure(in)          242\n",
       "dtype: int64"
      ]
     },
     "execution_count": 44,
     "metadata": {},
     "output_type": "execute_result"
    }
   ],
   "source": [
    "weather_df.nunique()"
   ]
  },
  {
   "cell_type": "markdown",
   "id": "5a1876f4",
   "metadata": {},
   "source": [
    "# Statistics of the data"
   ]
  },
  {
   "cell_type": "code",
   "execution_count": 45,
   "id": "b2229fa1",
   "metadata": {},
   "outputs": [
    {
     "data": {
      "text/html": [
       "<div>\n",
       "<style scoped>\n",
       "    .dataframe tbody tr th:only-of-type {\n",
       "        vertical-align: middle;\n",
       "    }\n",
       "\n",
       "    .dataframe tbody tr th {\n",
       "        vertical-align: top;\n",
       "    }\n",
       "\n",
       "    .dataframe thead th {\n",
       "        text-align: right;\n",
       "    }\n",
       "</style>\n",
       "<table border=\"1\" class=\"dataframe\">\n",
       "  <thead>\n",
       "    <tr style=\"text-align: right;\">\n",
       "      <th></th>\n",
       "      <th>Temperature(F)</th>\n",
       "      <th>Dew Point(F)</th>\n",
       "      <th>Humidity(%)</th>\n",
       "      <th>Wind Speed(mph)</th>\n",
       "      <th>Wind Gust(mph)</th>\n",
       "      <th>Pressure(in)</th>\n",
       "    </tr>\n",
       "  </thead>\n",
       "  <tbody>\n",
       "    <tr>\n",
       "      <th>count</th>\n",
       "      <td>274751.000000</td>\n",
       "      <td>274751.000000</td>\n",
       "      <td>274751.000000</td>\n",
       "      <td>274751.000000</td>\n",
       "      <td>274751.000000</td>\n",
       "      <td>274751.000000</td>\n",
       "    </tr>\n",
       "    <tr>\n",
       "      <th>mean</th>\n",
       "      <td>74.380830</td>\n",
       "      <td>66.749966</td>\n",
       "      <td>78.526514</td>\n",
       "      <td>7.841047</td>\n",
       "      <td>0.139472</td>\n",
       "      <td>29.780936</td>\n",
       "    </tr>\n",
       "    <tr>\n",
       "      <th>std</th>\n",
       "      <td>10.013615</td>\n",
       "      <td>11.599902</td>\n",
       "      <td>14.013796</td>\n",
       "      <td>3.901274</td>\n",
       "      <td>1.716993</td>\n",
       "      <td>0.337991</td>\n",
       "    </tr>\n",
       "    <tr>\n",
       "      <th>min</th>\n",
       "      <td>29.920000</td>\n",
       "      <td>12.030000</td>\n",
       "      <td>20.970000</td>\n",
       "      <td>0.000000</td>\n",
       "      <td>0.000000</td>\n",
       "      <td>28.210000</td>\n",
       "    </tr>\n",
       "    <tr>\n",
       "      <th>25%</th>\n",
       "      <td>67.097500</td>\n",
       "      <td>59.510000</td>\n",
       "      <td>70.070000</td>\n",
       "      <td>4.885833</td>\n",
       "      <td>0.000000</td>\n",
       "      <td>29.540000</td>\n",
       "    </tr>\n",
       "    <tr>\n",
       "      <th>50%</th>\n",
       "      <td>76.416667</td>\n",
       "      <td>69.660000</td>\n",
       "      <td>80.840000</td>\n",
       "      <td>7.502500</td>\n",
       "      <td>0.000000</td>\n",
       "      <td>29.780000</td>\n",
       "    </tr>\n",
       "    <tr>\n",
       "      <th>75%</th>\n",
       "      <td>82.082500</td>\n",
       "      <td>76.470000</td>\n",
       "      <td>88.930000</td>\n",
       "      <td>10.022500</td>\n",
       "      <td>0.000000</td>\n",
       "      <td>30.020000</td>\n",
       "    </tr>\n",
       "    <tr>\n",
       "      <th>max</th>\n",
       "      <td>98.810000</td>\n",
       "      <td>92.250000</td>\n",
       "      <td>101.960000</td>\n",
       "      <td>58.060000</td>\n",
       "      <td>65.890000</td>\n",
       "      <td>30.890000</td>\n",
       "    </tr>\n",
       "  </tbody>\n",
       "</table>\n",
       "</div>"
      ],
      "text/plain": [
       "       Temperature(F)   Dew Point(F)    Humidity(%)  Wind Speed(mph)  \\\n",
       "count   274751.000000  274751.000000  274751.000000    274751.000000   \n",
       "mean        74.380830      66.749966      78.526514         7.841047   \n",
       "std         10.013615      11.599902      14.013796         3.901274   \n",
       "min         29.920000      12.030000      20.970000         0.000000   \n",
       "25%         67.097500      59.510000      70.070000         4.885833   \n",
       "50%         76.416667      69.660000      80.840000         7.502500   \n",
       "75%         82.082500      76.470000      88.930000        10.022500   \n",
       "max         98.810000      92.250000     101.960000        58.060000   \n",
       "\n",
       "       Wind Gust(mph)   Pressure(in)  \n",
       "count   274751.000000  274751.000000  \n",
       "mean         0.139472      29.780936  \n",
       "std          1.716993       0.337991  \n",
       "min          0.000000      28.210000  \n",
       "25%          0.000000      29.540000  \n",
       "50%          0.000000      29.780000  \n",
       "75%          0.000000      30.020000  \n",
       "max         65.890000      30.890000  "
      ]
     },
     "execution_count": 45,
     "metadata": {},
     "output_type": "execute_result"
    }
   ],
   "source": [
    "weather_df.describe()"
   ]
  },
  {
   "cell_type": "markdown",
   "id": "d139eb75",
   "metadata": {},
   "source": [
    "# Categories in Wind variable"
   ]
  },
  {
   "cell_type": "code",
   "execution_count": 46,
   "id": "3b240473",
   "metadata": {},
   "outputs": [
    {
     "name": "stdout",
     "output_type": "stream",
     "text": [
      "Categories in 'Wind' variable:      ['ENE' 'NE' 'NNW' 'E' 'N' 'WSW' 'SE' 'ESE' 'NW' 'SW' 'NNE' 'WNW' 'W' 'SSW'\n",
      " 'SSE' 'S' 'VAR' 'CALM']\n"
     ]
    }
   ],
   "source": [
    "print(\"Categories in 'Wind' variable:     \",end=\" \" )\n",
    "print(weather_df['Wind'].unique())"
   ]
  },
  {
   "cell_type": "markdown",
   "id": "5d8cfa4f",
   "metadata": {},
   "source": [
    "# Merge two dataframes based on unique timestamp values"
   ]
  },
  {
   "cell_type": "code",
   "execution_count": 47,
   "id": "7518a3db",
   "metadata": {},
   "outputs": [],
   "source": [
    "# Merge the dataframes based on timestamps\n",
    "merged_data = pd.merge(weather_df, elec_df, on='Time', how='inner')"
   ]
  },
  {
   "cell_type": "code",
   "execution_count": 48,
   "id": "5b0ac829",
   "metadata": {},
   "outputs": [
    {
     "name": "stdout",
     "output_type": "stream",
     "text": [
      "<class 'pandas.core.frame.DataFrame'>\n",
      "Int64Index: 44682 entries, 0 to 44681\n",
      "Data columns (total 9 columns):\n",
      " #   Column           Non-Null Count  Dtype  \n",
      "---  ------           --------------  -----  \n",
      " 0   Time             44682 non-null  object \n",
      " 1   Temperature(F)   44682 non-null  float64\n",
      " 2   Dew Point(F)     44682 non-null  float64\n",
      " 3   Humidity(%)      44682 non-null  float64\n",
      " 4   Wind             44682 non-null  object \n",
      " 5   Wind Speed(mph)  44682 non-null  float64\n",
      " 6   Wind Gust(mph)   44682 non-null  float64\n",
      " 7   Pressure(in)     44682 non-null  float64\n",
      " 8   Value            44682 non-null  float64\n",
      "dtypes: float64(7), object(2)\n",
      "memory usage: 3.4+ MB\n"
     ]
    }
   ],
   "source": [
    "merged_data.info()"
   ]
  },
  {
   "cell_type": "code",
   "execution_count": 49,
   "id": "3bfc287c",
   "metadata": {},
   "outputs": [
    {
     "data": {
      "text/html": [
       "<div>\n",
       "<style scoped>\n",
       "    .dataframe tbody tr th:only-of-type {\n",
       "        vertical-align: middle;\n",
       "    }\n",
       "\n",
       "    .dataframe tbody tr th {\n",
       "        vertical-align: top;\n",
       "    }\n",
       "\n",
       "    .dataframe thead th {\n",
       "        text-align: right;\n",
       "    }\n",
       "</style>\n",
       "<table border=\"1\" class=\"dataframe\">\n",
       "  <thead>\n",
       "    <tr style=\"text-align: right;\">\n",
       "      <th></th>\n",
       "      <th>Time</th>\n",
       "      <th>Temperature(F)</th>\n",
       "      <th>Dew Point(F)</th>\n",
       "      <th>Humidity(%)</th>\n",
       "      <th>Wind</th>\n",
       "      <th>Wind Speed(mph)</th>\n",
       "      <th>Wind Gust(mph)</th>\n",
       "      <th>Pressure(in)</th>\n",
       "      <th>Value</th>\n",
       "    </tr>\n",
       "  </thead>\n",
       "  <tbody>\n",
       "    <tr>\n",
       "      <th>0</th>\n",
       "      <td>2017-08-18 00:15:00</td>\n",
       "      <td>82.205</td>\n",
       "      <td>76.76</td>\n",
       "      <td>82.83</td>\n",
       "      <td>SE</td>\n",
       "      <td>7.836667</td>\n",
       "      <td>0.0</td>\n",
       "      <td>29.50</td>\n",
       "      <td>12.8905</td>\n",
       "    </tr>\n",
       "    <tr>\n",
       "      <th>1</th>\n",
       "      <td>2017-08-18 00:30:00</td>\n",
       "      <td>82.130</td>\n",
       "      <td>76.90</td>\n",
       "      <td>83.12</td>\n",
       "      <td>SE</td>\n",
       "      <td>8.010000</td>\n",
       "      <td>0.0</td>\n",
       "      <td>29.50</td>\n",
       "      <td>12.8905</td>\n",
       "    </tr>\n",
       "    <tr>\n",
       "      <th>2</th>\n",
       "      <td>2017-08-18 00:45:00</td>\n",
       "      <td>82.055</td>\n",
       "      <td>77.04</td>\n",
       "      <td>83.40</td>\n",
       "      <td>SE</td>\n",
       "      <td>8.183333</td>\n",
       "      <td>0.0</td>\n",
       "      <td>29.50</td>\n",
       "      <td>12.5695</td>\n",
       "    </tr>\n",
       "    <tr>\n",
       "      <th>3</th>\n",
       "      <td>2017-08-18 01:00:00</td>\n",
       "      <td>81.980</td>\n",
       "      <td>77.19</td>\n",
       "      <td>83.68</td>\n",
       "      <td>SE</td>\n",
       "      <td>8.356667</td>\n",
       "      <td>0.0</td>\n",
       "      <td>29.51</td>\n",
       "      <td>11.9812</td>\n",
       "    </tr>\n",
       "    <tr>\n",
       "      <th>4</th>\n",
       "      <td>2017-08-18 01:15:00</td>\n",
       "      <td>81.905</td>\n",
       "      <td>77.33</td>\n",
       "      <td>83.96</td>\n",
       "      <td>SE</td>\n",
       "      <td>8.530000</td>\n",
       "      <td>0.0</td>\n",
       "      <td>29.51</td>\n",
       "      <td>12.0347</td>\n",
       "    </tr>\n",
       "  </tbody>\n",
       "</table>\n",
       "</div>"
      ],
      "text/plain": [
       "                  Time  Temperature(F)  Dew Point(F)  Humidity(%) Wind  \\\n",
       "0  2017-08-18 00:15:00          82.205         76.76        82.83   SE   \n",
       "1  2017-08-18 00:30:00          82.130         76.90        83.12   SE   \n",
       "2  2017-08-18 00:45:00          82.055         77.04        83.40   SE   \n",
       "3  2017-08-18 01:00:00          81.980         77.19        83.68   SE   \n",
       "4  2017-08-18 01:15:00          81.905         77.33        83.96   SE   \n",
       "\n",
       "   Wind Speed(mph)  Wind Gust(mph)  Pressure(in)    Value  \n",
       "0         7.836667             0.0         29.50  12.8905  \n",
       "1         8.010000             0.0         29.50  12.8905  \n",
       "2         8.183333             0.0         29.50  12.5695  \n",
       "3         8.356667             0.0         29.51  11.9812  \n",
       "4         8.530000             0.0         29.51  12.0347  "
      ]
     },
     "execution_count": 49,
     "metadata": {},
     "output_type": "execute_result"
    }
   ],
   "source": [
    "merged_data.head()"
   ]
  },
  {
   "cell_type": "code",
   "execution_count": 50,
   "id": "7b59515d",
   "metadata": {},
   "outputs": [
    {
     "name": "stdout",
     "output_type": "stream",
     "text": [
      "Time               0\n",
      "Temperature(F)     0\n",
      "Dew Point(F)       0\n",
      "Humidity(%)        0\n",
      "Wind               0\n",
      "Wind Speed(mph)    0\n",
      "Wind Gust(mph)     0\n",
      "Pressure(in)       0\n",
      "Value              0\n",
      "dtype: int64\n"
     ]
    }
   ],
   "source": [
    "missing_values = merged_data.isna().sum()\n",
    "print(missing_values)"
   ]
  },
  {
   "cell_type": "code",
   "execution_count": 51,
   "id": "f02d5fd3",
   "metadata": {},
   "outputs": [],
   "source": [
    "#removing 'Wind Gust(mph)' as it has only zero values\n",
    "X = merged_data[['Temperature(F)', 'Dew Point(F)', 'Humidity(%)', 'Wind', 'Wind Speed(mph)', 'Pressure(in)' ]]"
   ]
  },
  {
   "cell_type": "code",
   "execution_count": 52,
   "id": "914d77cb",
   "metadata": {},
   "outputs": [],
   "source": [
    "y = merged_data['Value']"
   ]
  },
  {
   "cell_type": "code",
   "execution_count": 53,
   "id": "3cd92b1e",
   "metadata": {},
   "outputs": [],
   "source": [
    "zero_values_per_column = (y == 0).sum()"
   ]
  },
  {
   "cell_type": "code",
   "execution_count": 54,
   "id": "d815eeb9",
   "metadata": {},
   "outputs": [
    {
     "name": "stdout",
     "output_type": "stream",
     "text": [
      "17\n"
     ]
    }
   ],
   "source": [
    "print(zero_values_per_column)"
   ]
  },
  {
   "cell_type": "code",
   "execution_count": 55,
   "id": "b9ccd94f",
   "metadata": {},
   "outputs": [
    {
     "data": {
      "text/html": [
       "<div>\n",
       "<style scoped>\n",
       "    .dataframe tbody tr th:only-of-type {\n",
       "        vertical-align: middle;\n",
       "    }\n",
       "\n",
       "    .dataframe tbody tr th {\n",
       "        vertical-align: top;\n",
       "    }\n",
       "\n",
       "    .dataframe thead th {\n",
       "        text-align: right;\n",
       "    }\n",
       "</style>\n",
       "<table border=\"1\" class=\"dataframe\">\n",
       "  <thead>\n",
       "    <tr style=\"text-align: right;\">\n",
       "      <th></th>\n",
       "      <th>Temperature(F)</th>\n",
       "      <th>Dew Point(F)</th>\n",
       "      <th>Humidity(%)</th>\n",
       "      <th>Wind</th>\n",
       "      <th>Wind Speed(mph)</th>\n",
       "      <th>Pressure(in)</th>\n",
       "    </tr>\n",
       "  </thead>\n",
       "  <tbody>\n",
       "    <tr>\n",
       "      <th>0</th>\n",
       "      <td>82.205</td>\n",
       "      <td>76.76</td>\n",
       "      <td>82.83</td>\n",
       "      <td>SE</td>\n",
       "      <td>7.836667</td>\n",
       "      <td>29.50</td>\n",
       "    </tr>\n",
       "    <tr>\n",
       "      <th>1</th>\n",
       "      <td>82.130</td>\n",
       "      <td>76.90</td>\n",
       "      <td>83.12</td>\n",
       "      <td>SE</td>\n",
       "      <td>8.010000</td>\n",
       "      <td>29.50</td>\n",
       "    </tr>\n",
       "    <tr>\n",
       "      <th>2</th>\n",
       "      <td>82.055</td>\n",
       "      <td>77.04</td>\n",
       "      <td>83.40</td>\n",
       "      <td>SE</td>\n",
       "      <td>8.183333</td>\n",
       "      <td>29.50</td>\n",
       "    </tr>\n",
       "    <tr>\n",
       "      <th>3</th>\n",
       "      <td>81.980</td>\n",
       "      <td>77.19</td>\n",
       "      <td>83.68</td>\n",
       "      <td>SE</td>\n",
       "      <td>8.356667</td>\n",
       "      <td>29.51</td>\n",
       "    </tr>\n",
       "    <tr>\n",
       "      <th>4</th>\n",
       "      <td>81.905</td>\n",
       "      <td>77.33</td>\n",
       "      <td>83.96</td>\n",
       "      <td>SE</td>\n",
       "      <td>8.530000</td>\n",
       "      <td>29.51</td>\n",
       "    </tr>\n",
       "  </tbody>\n",
       "</table>\n",
       "</div>"
      ],
      "text/plain": [
       "   Temperature(F)  Dew Point(F)  Humidity(%) Wind  Wind Speed(mph)  \\\n",
       "0          82.205         76.76        82.83   SE         7.836667   \n",
       "1          82.130         76.90        83.12   SE         8.010000   \n",
       "2          82.055         77.04        83.40   SE         8.183333   \n",
       "3          81.980         77.19        83.68   SE         8.356667   \n",
       "4          81.905         77.33        83.96   SE         8.530000   \n",
       "\n",
       "   Pressure(in)  \n",
       "0         29.50  \n",
       "1         29.50  \n",
       "2         29.50  \n",
       "3         29.51  \n",
       "4         29.51  "
      ]
     },
     "execution_count": 55,
     "metadata": {},
     "output_type": "execute_result"
    }
   ],
   "source": [
    "X.head()"
   ]
  },
  {
   "cell_type": "code",
   "execution_count": 56,
   "id": "c54ca1ff",
   "metadata": {},
   "outputs": [
    {
     "data": {
      "text/plain": [
       "0    12.8905\n",
       "1    12.8905\n",
       "2    12.5695\n",
       "3    11.9812\n",
       "4    12.0347\n",
       "Name: Value, dtype: float64"
      ]
     },
     "execution_count": 56,
     "metadata": {},
     "output_type": "execute_result"
    }
   ],
   "source": [
    "y.head()"
   ]
  },
  {
   "cell_type": "markdown",
   "id": "42217983",
   "metadata": {},
   "source": [
    "# Preprocessing"
   ]
  },
  {
   "cell_type": "code",
   "execution_count": 57,
   "id": "3eb65823",
   "metadata": {},
   "outputs": [],
   "source": [
    "# Create Column Transformer with 3 types of transformers\n",
    "num_features = X.select_dtypes(exclude=\"object\").columns\n",
    "cat_features = X.select_dtypes(include=\"object\").columns\n",
    "\n",
    "from sklearn.preprocessing import OneHotEncoder, StandardScaler\n",
    "from sklearn.compose import ColumnTransformer\n",
    "\n",
    "numeric_transformer = StandardScaler()\n",
    "oh_transformer = OneHotEncoder()\n",
    "\n",
    "preprocessor = ColumnTransformer(\n",
    "    [\n",
    "        (\"OneHotEncoder\", oh_transformer, cat_features),\n",
    "         (\"StandardScaler\", numeric_transformer, num_features),        \n",
    "    ]\n",
    ")"
   ]
  },
  {
   "cell_type": "code",
   "execution_count": 58,
   "id": "e1339588",
   "metadata": {},
   "outputs": [],
   "source": [
    "X = preprocessor.fit_transform(X)"
   ]
  },
  {
   "cell_type": "code",
   "execution_count": 59,
   "id": "9957219e",
   "metadata": {},
   "outputs": [
    {
     "data": {
      "text/plain": [
       "(44682, 23)"
      ]
     },
     "execution_count": 59,
     "metadata": {},
     "output_type": "execute_result"
    }
   ],
   "source": [
    "X.shape"
   ]
  },
  {
   "cell_type": "code",
   "execution_count": 156,
   "id": "8fc33cb9",
   "metadata": {},
   "outputs": [
    {
     "data": {
      "text/plain": [
       "((35745, 23), (8937, 23))"
      ]
     },
     "execution_count": 156,
     "metadata": {},
     "output_type": "execute_result"
    }
   ],
   "source": [
    "# separate dataset into train and test\n",
    "from sklearn.model_selection import train_test_split\n",
    "X_train, X_test, y_train, y_test = train_test_split(X,y,test_size=0.2,random_state=42)\n",
    "X_train.shape, X_test.shape"
   ]
  },
  {
   "cell_type": "code",
   "execution_count": 157,
   "id": "70d30491",
   "metadata": {},
   "outputs": [
    {
     "data": {
      "text/plain": [
       "((35745,), (8937,))"
      ]
     },
     "execution_count": 157,
     "metadata": {},
     "output_type": "execute_result"
    }
   ],
   "source": [
    "y_train.shape, y_test.shape"
   ]
  },
  {
   "cell_type": "code",
   "execution_count": 163,
   "id": "4d27fa27",
   "metadata": {},
   "outputs": [
    {
     "data": {
      "text/plain": [
       "<1x23 sparse matrix of type '<class 'numpy.float64'>'\n",
       "\twith 6 stored elements in Compressed Sparse Row format>"
      ]
     },
     "execution_count": 163,
     "metadata": {},
     "output_type": "execute_result"
    }
   ],
   "source": [
    "X_test[1]"
   ]
  },
  {
   "cell_type": "code",
   "execution_count": 67,
   "id": "388d38c4",
   "metadata": {},
   "outputs": [],
   "source": [
    "from datetime import datetime"
   ]
  },
  {
   "cell_type": "markdown",
   "id": "00163771",
   "metadata": {},
   "source": [
    "# Define paramaters"
   ]
  },
  {
   "cell_type": "code",
   "execution_count": 69,
   "id": "92b25e70",
   "metadata": {},
   "outputs": [],
   "source": [
    "experiment_name = \"energy-prediction-regression-problem\"\n",
    "run_name = datetime.now().strftime(\"%Y%m%d_%H%M%S\")"
   ]
  },
  {
   "cell_type": "code",
   "execution_count": 101,
   "id": "6ced1d69",
   "metadata": {},
   "outputs": [],
   "source": [
    "logdir = os.path.join(\"logs\", experiment_name, run_name)\n",
    "#tb_callback = keras.callbacks.TensorBoard(log_dir=logdir, write_graph=True, histogram_freq=1)"
   ]
  },
  {
   "cell_type": "markdown",
   "id": "f585e750",
   "metadata": {},
   "source": [
    "# Model training and evaluation"
   ]
  },
  {
   "cell_type": "code",
   "execution_count": 102,
   "id": "66410205",
   "metadata": {},
   "outputs": [],
   "source": [
    "def evaluate_model(true, predicted):\n",
    "    mae = mean_absolute_error(true, predicted)\n",
    "    mse = mean_squared_error(true, predicted)\n",
    "    rmse = np.sqrt(mean_squared_error(true, predicted))\n",
    "    r2_square = r2_score(true, predicted)\n",
    "    return mae, rmse, r2_square"
   ]
  },
  {
   "cell_type": "code",
   "execution_count": 103,
   "id": "d35f9f06",
   "metadata": {},
   "outputs": [
    {
     "name": "stdout",
     "output_type": "stream",
     "text": [
      "Linear Regression\n",
      "Model performance for Training set\n",
      "- Root Mean Squared Error: 5.5017\n",
      "- Mean Absolute Error: 4.1312\n",
      "- R2 Score: 0.4134\n",
      "----------------------------------\n",
      "Model performance for Test set\n",
      "- Root Mean Squared Error: 5.5017\n",
      "- Mean Absolute Error: 4.1380\n",
      "- R2 Score: 0.4219\n",
      "===================================\n",
      "\n",
      "\n",
      "Lasso\n",
      "Model performance for Training set\n",
      "- Root Mean Squared Error: 5.9143\n",
      "- Mean Absolute Error: 4.4481\n",
      "- R2 Score: 0.3221\n",
      "----------------------------------\n",
      "Model performance for Test set\n",
      "- Root Mean Squared Error: 5.9197\n",
      "- Mean Absolute Error: 4.4457\n",
      "- R2 Score: 0.3307\n",
      "===================================\n",
      "\n",
      "\n",
      "Ridge\n",
      "Model performance for Training set\n",
      "- Root Mean Squared Error: 5.5017\n",
      "- Mean Absolute Error: 4.1312\n",
      "- R2 Score: 0.4134\n",
      "----------------------------------\n",
      "Model performance for Test set\n",
      "- Root Mean Squared Error: 5.5017\n",
      "- Mean Absolute Error: 4.1380\n",
      "- R2 Score: 0.4219\n",
      "===================================\n",
      "\n",
      "\n",
      "K-Neighbors Regressor\n",
      "Model performance for Training set\n",
      "- Root Mean Squared Error: 1.9454\n",
      "- Mean Absolute Error: 1.0593\n",
      "- R2 Score: 0.9267\n",
      "----------------------------------\n",
      "Model performance for Test set\n",
      "- Root Mean Squared Error: 2.7181\n",
      "- Mean Absolute Error: 1.5492\n",
      "- R2 Score: 0.8589\n",
      "===================================\n",
      "\n",
      "\n",
      "Decision Tree\n",
      "Model performance for Training set\n",
      "- Root Mean Squared Error: 0.0000\n",
      "- Mean Absolute Error: 0.0000\n",
      "- R2 Score: 1.0000\n",
      "----------------------------------\n",
      "Model performance for Test set\n",
      "- Root Mean Squared Error: 3.7223\n",
      "- Mean Absolute Error: 1.7871\n",
      "- R2 Score: 0.7354\n",
      "===================================\n",
      "\n",
      "\n",
      "Random Forest Regressor\n",
      "Model performance for Training set\n",
      "- Root Mean Squared Error: 0.9326\n",
      "- Mean Absolute Error: 0.5555\n",
      "- R2 Score: 0.9831\n",
      "----------------------------------\n",
      "Model performance for Test set\n",
      "- Root Mean Squared Error: 2.5734\n",
      "- Mean Absolute Error: 1.5405\n",
      "- R2 Score: 0.8735\n",
      "===================================\n",
      "\n",
      "\n",
      "XGBRegressor\n",
      "Model performance for Training set\n",
      "- Root Mean Squared Error: 2.7206\n",
      "- Mean Absolute Error: 1.9278\n",
      "- R2 Score: 0.8565\n",
      "----------------------------------\n",
      "Model performance for Test set\n",
      "- Root Mean Squared Error: 3.3511\n",
      "- Mean Absolute Error: 2.3179\n",
      "- R2 Score: 0.7855\n",
      "===================================\n",
      "\n",
      "\n",
      "CatBoosting Regressor\n",
      "Model performance for Training set\n",
      "- Root Mean Squared Error: 2.9636\n",
      "- Mean Absolute Error: 2.1281\n",
      "- R2 Score: 0.8298\n",
      "----------------------------------\n",
      "Model performance for Test set\n",
      "- Root Mean Squared Error: 3.3087\n",
      "- Mean Absolute Error: 2.3348\n",
      "- R2 Score: 0.7909\n",
      "===================================\n",
      "\n",
      "\n",
      "AdaBoost Regressor\n",
      "Model performance for Training set\n",
      "- Root Mean Squared Error: 5.2406\n",
      "- Mean Absolute Error: 4.3426\n",
      "- R2 Score: 0.4677\n",
      "----------------------------------\n",
      "Model performance for Test set\n",
      "- Root Mean Squared Error: 5.2892\n",
      "- Mean Absolute Error: 4.3896\n",
      "- R2 Score: 0.4657\n",
      "===================================\n",
      "\n",
      "\n"
     ]
    }
   ],
   "source": [
    "models = {\n",
    "    \"Linear Regression\": LinearRegression(),\n",
    "    \"Lasso\": Lasso(),\n",
    "    \"Ridge\": Ridge(),\n",
    "    \"K-Neighbors Regressor\": KNeighborsRegressor(),\n",
    "    \"Decision Tree\": DecisionTreeRegressor(),\n",
    "    \"Random Forest Regressor\": RandomForestRegressor(),\n",
    "    \"XGBRegressor\": XGBRegressor(), \n",
    "    \"CatBoosting Regressor\": CatBoostRegressor(verbose=False),\n",
    "    \"AdaBoost Regressor\": AdaBoostRegressor()\n",
    "}\n",
    "model_list = []\n",
    "r2_list =[]\n",
    "rmse_list =[]\n",
    "mae_list =[]\n",
    "\n",
    "for i in range(len(list(models))):\n",
    "    model = list(models.values())[i]\n",
    "    model.fit(X_train, y_train) # Train model\n",
    "\n",
    "    # Make predictions\n",
    "    y_train_pred = model.predict(X_train)\n",
    "    y_test_pred = model.predict(X_test)\n",
    "    \n",
    "    # Evaluate Train and Test dataset\n",
    "    model_train_mae , model_train_rmse, model_train_r2 = evaluate_model(y_train, y_train_pred)\n",
    "\n",
    "    model_test_mae , model_test_rmse, model_test_r2 = evaluate_model(y_test, y_test_pred)\n",
    "\n",
    "    \n",
    "    print(list(models.keys())[i])\n",
    "    model_list.append(list(models.keys())[i])\n",
    "    \n",
    "    print('Model performance for Training set')\n",
    "    print(\"- Root Mean Squared Error: {:.4f}\".format(model_train_rmse))\n",
    "    print(\"- Mean Absolute Error: {:.4f}\".format(model_train_mae))\n",
    "    print(\"- R2 Score: {:.4f}\".format(model_train_r2))\n",
    "\n",
    "    print('----------------------------------')\n",
    "    \n",
    "    print('Model performance for Test set')\n",
    "    print(\"- Root Mean Squared Error: {:.4f}\".format(model_test_rmse))\n",
    "    print(\"- Mean Absolute Error: {:.4f}\".format(model_test_mae))\n",
    "    print(\"- R2 Score: {:.4f}\".format(model_test_r2))\n",
    "    rmse_list.append(model_test_rmse)\n",
    "    mae_list.append(model_test_mae)\n",
    "    r2_list.append(model_test_r2)\n",
    "    \n",
    "    print('='*35)\n",
    "    print('\\n')"
   ]
  },
  {
   "cell_type": "code",
   "execution_count": 72,
   "id": "aa77bda5",
   "metadata": {},
   "outputs": [
    {
     "data": {
      "text/plain": [
       "array([ 8.066972  ,  7.402657  , 14.167198  , ..., 20.40898521,\n",
       "        9.705817  ,  7.248055  ])"
      ]
     },
     "execution_count": 72,
     "metadata": {},
     "output_type": "execute_result"
    }
   ],
   "source": [
    "models['Random Forest Regressor'].predict(X_test)"
   ]
  },
  {
   "cell_type": "markdown",
   "id": "ab9fb613",
   "metadata": {},
   "source": [
    "# Results"
   ]
  },
  {
   "cell_type": "code",
   "execution_count": 104,
   "id": "5cbb4dc7",
   "metadata": {},
   "outputs": [],
   "source": [
    "r2_scores = pd.DataFrame(list(zip(model_list, r2_list)), columns=['Model Name', 'R2_Score']).sort_values(by=[\"R2_Score\"],ascending=False)"
   ]
  },
  {
   "cell_type": "code",
   "execution_count": 105,
   "id": "974b5b4a",
   "metadata": {},
   "outputs": [
    {
     "name": "stdout",
     "output_type": "stream",
     "text": [
      "                Model Name  R2_Score\n",
      "5  Random Forest Regressor  0.873508\n",
      "3    K-Neighbors Regressor  0.858883\n",
      "7    CatBoosting Regressor  0.790905\n",
      "6             XGBRegressor  0.785507\n",
      "4            Decision Tree  0.735356\n",
      "8       AdaBoost Regressor  0.465671\n",
      "0        Linear Regression  0.421869\n",
      "2                    Ridge  0.421862\n",
      "1                    Lasso  0.330687\n"
     ]
    }
   ],
   "source": [
    "print(r2_scores)"
   ]
  },
  {
   "cell_type": "code",
   "execution_count": 106,
   "id": "51679091",
   "metadata": {},
   "outputs": [
    {
     "name": "stdout",
     "output_type": "stream",
     "text": [
      "                Model Name  RMSE_Score\n",
      "1                    Lasso    5.919656\n",
      "2                    Ridge    5.501706\n",
      "0        Linear Regression    5.501676\n",
      "8       AdaBoost Regressor    5.289151\n",
      "4            Decision Tree    3.722315\n",
      "6             XGBRegressor    3.351105\n",
      "7    CatBoosting Regressor    3.308667\n",
      "3    K-Neighbors Regressor    2.718138\n",
      "5  Random Forest Regressor    2.573439\n"
     ]
    }
   ],
   "source": [
    "rmse_scores = pd.DataFrame(list(zip(model_list, rmse_list)), columns=['Model Name', 'RMSE_Score']).sort_values(by=[\"RMSE_Score\"],ascending=False)\n",
    "print(rmse_scores)"
   ]
  },
  {
   "cell_type": "code",
   "execution_count": 107,
   "id": "1fc987a6",
   "metadata": {},
   "outputs": [
    {
     "name": "stdout",
     "output_type": "stream",
     "text": [
      "                Model Name  MAE_Score\n",
      "1                    Lasso   4.445667\n",
      "8       AdaBoost Regressor   4.389599\n",
      "2                    Ridge   4.137988\n",
      "0        Linear Regression   4.137959\n",
      "7    CatBoosting Regressor   2.334767\n",
      "6             XGBRegressor   2.317914\n",
      "4            Decision Tree   1.787095\n",
      "3    K-Neighbors Regressor   1.549249\n",
      "5  Random Forest Regressor   1.540465\n"
     ]
    }
   ],
   "source": [
    "mae_scores = pd.DataFrame(list(zip(model_list, mae_list)), columns=['Model Name', 'MAE_Score']).sort_values(by=[\"MAE_Score\"],ascending=False)\n",
    "print(mae_scores)"
   ]
  },
  {
   "cell_type": "code",
   "execution_count": 108,
   "id": "80344115",
   "metadata": {},
   "outputs": [
    {
     "name": "stdout",
     "output_type": "stream",
     "text": [
      "1.5404651317870186\n"
     ]
    }
   ],
   "source": [
    "# Fetch the MAE score associated with the Random Forest Regressor\n",
    "random_forest_mae = mae_scores.loc[mae_scores['Model Name'] == 'Random Forest Regressor', 'MAE_Score'].values[0]\n",
    "\n",
    "# Print the MAE score associated with the Random Forest Regressor\n",
    "print(random_forest_mae)"
   ]
  },
  {
   "cell_type": "markdown",
   "id": "d225df29",
   "metadata": {},
   "source": [
    "# Setting up mlflow server"
   ]
  },
  {
   "cell_type": "code",
   "execution_count": 192,
   "id": "b8cac0bf",
   "metadata": {},
   "outputs": [
    {
     "data": {
      "text/plain": [
       "<Experiment: artifact_location='file:///C:/Users/Sourabh.Bharti/OneDrive%20-%20Munster%20Technological%20University/Desktop/EWELD/mlruns/537504258801217616', creation_time=1710930430591, experiment_id='537504258801217616', last_update_time=1710930430591, lifecycle_stage='active', name='energy-prediction-regression-problem', tags={'best_model': 'Random Forest'}>"
      ]
     },
     "execution_count": 192,
     "metadata": {},
     "output_type": "execute_result"
    }
   ],
   "source": [
    "#for setting up mlflow local server\n",
    "mlflow.set_tracking_uri('http://localhost:5000')\n",
    "\n",
    "#for setting up mlflow on GCP\n",
    "#os.environ['GOOGLE_APPLICATION_CREDENTIALS']='alert-maker-414421-2cedfe00d0a2.json'\n",
    "\n",
    "#mlflow.set_tracking_uri('http://34.105.245.75:5000')\n",
    "\n",
    "mlflow.set_experiment(\"energy-prediction-regression-problem\")"
   ]
  },
  {
   "cell_type": "markdown",
   "id": "628ea22c",
   "metadata": {},
   "source": [
    "# Logging and Visualization"
   ]
  },
  {
   "cell_type": "code",
   "execution_count": 193,
   "id": "3ec3dfab",
   "metadata": {},
   "outputs": [],
   "source": [
    "dataset: PandasDataset = mlflow.data.from_pandas(merged_data.head())"
   ]
  },
  {
   "cell_type": "code",
   "execution_count": 194,
   "id": "4a48488f",
   "metadata": {},
   "outputs": [
    {
     "name": "stdout",
     "output_type": "stream",
     "text": [
      "MLFlow Run ID:  77a9434daee1421d936ec5e4919d00e9\n"
     ]
    }
   ],
   "source": [
    "with mlflow.start_run(run_name = run_name) as mlflow_run:\n",
    "    mlflow.set_experiment_tag(\"second best_model\", \"K-Neighbors Regressor\")\n",
    "    mlflow.set_tag(\"tag2\", \"K-Neighbors Regressor\")\n",
    "    \n",
    "    mlflow.sklearn.log_model(models['K-Neighbors Regressor'], \"knnmodel\")\n",
    "        \n",
    "    mlflow.log_metric(\"test_RMSE\", rmse_scores.loc[rmse_scores['Model Name'] == 'K-Neighbors Regressor', 'RMSE_Score'].values[0])\n",
    "    mlflow.log_metric(\"test_MAE\", mae_scores.loc[mae_scores['Model Name'] == 'K-Neighbors Regressor', 'MAE_Score'].values[0])\n",
    "    mlflow.log_metric(\"test_R2_Score\", r2_scores.loc[r2_scores['Model Name'] == 'K-Neighbors Regressor', 'R2_Score'].values[0])   \n",
    "    \n",
    "    mlflow.log_input(dataset, context=\"training\")\n",
    "    \n",
    "    mlflow_run_id = mlflow_run.info.run_id\n",
    "    print(\"MLFlow Run ID: \", mlflow_run_id)"
   ]
  },
  {
   "cell_type": "code",
   "execution_count": 131,
   "id": "aa18192b",
   "metadata": {},
   "outputs": [
    {
     "data": {
      "text/html": [
       "<div>\n",
       "<style scoped>\n",
       "    .dataframe tbody tr th:only-of-type {\n",
       "        vertical-align: middle;\n",
       "    }\n",
       "\n",
       "    .dataframe tbody tr th {\n",
       "        vertical-align: top;\n",
       "    }\n",
       "\n",
       "    .dataframe thead th {\n",
       "        text-align: right;\n",
       "    }\n",
       "</style>\n",
       "<table border=\"1\" class=\"dataframe\">\n",
       "  <thead>\n",
       "    <tr style=\"text-align: right;\">\n",
       "      <th></th>\n",
       "      <th>Column</th>\n",
       "      <th>Non-Null Count</th>\n",
       "      <th>Data Type</th>\n",
       "    </tr>\n",
       "  </thead>\n",
       "  <tbody>\n",
       "    <tr>\n",
       "      <th>Time</th>\n",
       "      <td>Time</td>\n",
       "      <td>44682</td>\n",
       "      <td>object</td>\n",
       "    </tr>\n",
       "    <tr>\n",
       "      <th>Temperature(F)</th>\n",
       "      <td>Temperature(F)</td>\n",
       "      <td>44682</td>\n",
       "      <td>float64</td>\n",
       "    </tr>\n",
       "    <tr>\n",
       "      <th>Dew Point(F)</th>\n",
       "      <td>Dew Point(F)</td>\n",
       "      <td>44682</td>\n",
       "      <td>float64</td>\n",
       "    </tr>\n",
       "    <tr>\n",
       "      <th>Humidity(%)</th>\n",
       "      <td>Humidity(%)</td>\n",
       "      <td>44682</td>\n",
       "      <td>float64</td>\n",
       "    </tr>\n",
       "    <tr>\n",
       "      <th>Wind</th>\n",
       "      <td>Wind</td>\n",
       "      <td>44682</td>\n",
       "      <td>object</td>\n",
       "    </tr>\n",
       "    <tr>\n",
       "      <th>Wind Speed(mph)</th>\n",
       "      <td>Wind Speed(mph)</td>\n",
       "      <td>44682</td>\n",
       "      <td>float64</td>\n",
       "    </tr>\n",
       "    <tr>\n",
       "      <th>Wind Gust(mph)</th>\n",
       "      <td>Wind Gust(mph)</td>\n",
       "      <td>44682</td>\n",
       "      <td>float64</td>\n",
       "    </tr>\n",
       "    <tr>\n",
       "      <th>Pressure(in)</th>\n",
       "      <td>Pressure(in)</td>\n",
       "      <td>44682</td>\n",
       "      <td>float64</td>\n",
       "    </tr>\n",
       "    <tr>\n",
       "      <th>Value</th>\n",
       "      <td>Value</td>\n",
       "      <td>44682</td>\n",
       "      <td>float64</td>\n",
       "    </tr>\n",
       "  </tbody>\n",
       "</table>\n",
       "</div>"
      ],
      "text/plain": [
       "                          Column  Non-Null Count Data Type\n",
       "Time                        Time           44682    object\n",
       "Temperature(F)    Temperature(F)           44682   float64\n",
       "Dew Point(F)        Dew Point(F)           44682   float64\n",
       "Humidity(%)          Humidity(%)           44682   float64\n",
       "Wind                        Wind           44682    object\n",
       "Wind Speed(mph)  Wind Speed(mph)           44682   float64\n",
       "Wind Gust(mph)    Wind Gust(mph)           44682   float64\n",
       "Pressure(in)        Pressure(in)           44682   float64\n",
       "Value                      Value           44682   float64"
      ]
     },
     "execution_count": 131,
     "metadata": {},
     "output_type": "execute_result"
    }
   ],
   "source": [
    "summary_df"
   ]
  },
  {
   "cell_type": "markdown",
   "id": "6ae82e84",
   "metadata": {},
   "source": [
    "# Fetch and predict using logged model"
   ]
  },
  {
   "cell_type": "code",
   "execution_count": 141,
   "id": "8fed01b0",
   "metadata": {},
   "outputs": [
    {
     "data": {
      "text/plain": [
       "array([ 7.710746  ,  7.056054  , 15.519899  , ..., 21.37804312,\n",
       "        9.596709  ,  7.546517  ])"
      ]
     },
     "execution_count": 141,
     "metadata": {},
     "output_type": "execute_result"
    }
   ],
   "source": [
    "logged_model = 'runs:/4c711ca74ebb49999bf07121b33c5b16/model'\n",
    "\n",
    "# Load model as a PyFuncModel.\n",
    "loaded_model = mlflow.pyfunc.load_model(logged_model)\n",
    "\n",
    "# Predict on a Pandas DataFrame.\n",
    "import pandas as pd\n",
    "loaded_model.predict(X_test)"
   ]
  },
  {
   "cell_type": "markdown",
   "id": "2ea64214",
   "metadata": {},
   "source": [
    "# Another way of fetching the model and predicting"
   ]
  },
  {
   "cell_type": "code",
   "execution_count": 142,
   "id": "052d7d41",
   "metadata": {},
   "outputs": [
    {
     "data": {
      "text/plain": [
       "array([ 7.710746  ,  7.056054  , 15.519899  , ..., 21.37804312,\n",
       "        9.596709  ,  7.546517  ])"
      ]
     },
     "execution_count": 142,
     "metadata": {},
     "output_type": "execute_result"
    }
   ],
   "source": [
    "import mlflow.pyfunc\n",
    "model_name = 'Random Forest'\n",
    "model_version = 1\n",
    "\n",
    "loaded_model = mlflow.pyfunc.load_model(model_uri=f\"models:/{model_name}/{model_version}\")\n",
    "\n",
    "loaded_model.predict(X_test)\n"
   ]
  },
  {
   "cell_type": "markdown",
   "id": "68dc022a",
   "metadata": {},
   "source": [
    "# Transitioning an MLflow Model's stage"
   ]
  },
  {
   "cell_type": "code",
   "execution_count": 146,
   "id": "811c3efd",
   "metadata": {},
   "outputs": [
    {
     "name": "stderr",
     "output_type": "stream",
     "text": [
      "C:\\Users\\Sourabh.Bharti\\AppData\\Local\\Temp\\ipykernel_35200\\543789217.py:2: FutureWarning:\n",
      "\n",
      "``mlflow.tracking.client.MlflowClient.transition_model_version_stage`` is deprecated since 2.9.0. Model registry stages will be removed in a future major release. To learn more about the deprecation of model registry stages, see our migration guide here: https://mlflow.org/docs/2.11.2/model-registry.html#migrating-from-stages\n",
      "\n"
     ]
    },
    {
     "data": {
      "text/plain": [
       "<ModelVersion: aliases=[], creation_timestamp=1710932754483, current_stage='Production', description=None, last_updated_timestamp=1711019461773, name='Random Forest', run_id='58c4ab0d7de2499c8812c60234a71df1', run_link=None, source='file:///C:/Users/Sourabh.Bharti/OneDrive%20-%20Munster%20Technological%20University/Desktop/EWELD/mlruns/537504258801217616/58c4ab0d7de2499c8812c60234a71df1/artifacts/model', status='READY', status_message=None, tags={}, user_id=None, version=1>"
      ]
     },
     "execution_count": 146,
     "metadata": {},
     "output_type": "execute_result"
    }
   ],
   "source": [
    "client = mlflow.tracking.MlflowClient()\n",
    "client.transition_model_version_stage(\n",
    "    name = \"Random Forest\",\n",
    "    version=1,\n",
    "    stage=\"Production\"   \n",
    ")"
   ]
  },
  {
   "cell_type": "markdown",
   "id": "962040d3",
   "metadata": {},
   "source": [
    "# Serving an MLflow Model from Model Registry"
   ]
  },
  {
   "cell_type": "markdown",
   "id": "5c1e77a1",
   "metadata": {},
   "source": [
    "mlflow models serve --model-uri models:/\"Random Forest\"/\"Production\" -p 1234 --no-conda"
   ]
  },
  {
   "cell_type": "code",
   "execution_count": 171,
   "id": "95b569f6",
   "metadata": {},
   "outputs": [
    {
     "name": "stdout",
     "output_type": "stream",
     "text": [
      "<Response [200]>\n"
     ]
    }
   ],
   "source": [
    "import requests\n",
    "#for an instance prediction\n",
    "#lst = X_test[1].toarray().tolist()\n",
    "\n",
    "#for batch prediction\n",
    "lst = X_test.toarray().tolist()\n",
    "inference_request = {\n",
    "    \"dataframe_records\": lst\n",
    "}\n",
    "\n",
    "endpoint = \"http://127.0.0.1:1234/invocations\"\n",
    "response = requests.post(endpoint, json=inference_request)\n",
    "print(response)"
   ]
  },
  {
   "cell_type": "code",
   "execution_count": 172,
   "id": "b483843e",
   "metadata": {},
   "outputs": [
    {
     "name": "stdout",
     "output_type": "stream",
     "text": [
      "{\"predictions\": [7.710745999999997, 7.056053999999998, 15.519898999999992, 10.960625, 10.977218999999996, 9.259201000000008, 9.144728000000002, 8.797600000000001, 8.508779999999994, 13.251485999999993, 11.970481999999993, 4.466729000000002, 8.073899000000006, 7.380191999999998, 25.804290910007385, 10.125167000000003, 7.041605000000001, 30.347842018095278, 11.370888999999998, 9.548037999999996, 11.640997999999994, 17.66260999999999, 13.340289999999982, 30.184316117187493, 8.403954000000002, 5.9574260000000026, 12.906484000000004, 4.1784440000000025, 7.242190000000001, 11.705186999999992, 13.061067000000003, 7.444887999999999, 12.506960000000007, 5.368004000000001, 4.718679000000004, 7.758869000000004, 8.009742, 11.506208999999998, 3.9815919999999974, 11.217913999999997, 3.0728489999999966, 5.933892000000001, 21.306428062499975, 7.330455999999998, 7.813447, 10.418282999999995, 2.6861430000000026, 4.2372700000000005, 10.25585510083008, 8.475069999999995, 9.599919000000007, 3.888549000000001, 2.4491660000000013, 4.092852, 27.124425977886187, 5.111798999999993, 30.20914869560952, 6.603549000000004, 10.992727000000002, 11.105031000000004, 4.8426118333333275, 27.40158600000003, 9.919777999999996, 8.715255000000003, 4.8336330000000025, 12.01003850000001, 8.717369999999992, 8.669231000000003, 7.045376000000004, 9.04631399999999, 10.180796999999993, 7.772266999999999, 9.669095671087264, 4.831488000000003, 24.207853500000024, 11.192243999999995, 5.163139999999998, 13.898266375000007, 8.83504, 8.712025, 8.91153400000001, 7.474845, 17.897409000000017, 5.133696999999999, 9.110483999999996, 11.117337000000003, 13.477733999999998, 4.588143000000001, 8.672982, 8.204961000000004, 8.031660000000002, 9.904262999999993, 5.501170000000003, 21.08700225, 4.690837999999996, 5.090399999999995, 4.780688999999997, 3.741967, 3.2915959999999984, 6.768824000000002, 5.8531239999999976, 4.635230000000001, 10.468135385803228, 24.958706101562516, 12.824141, 10.956924999999991, 7.665805000000005, 7.378032000000006, 7.3368599999999935, 9.688165, 7.268394000000003, 10.675531000000003, 8.396334833333333, 13.208068571950879, 10.111257000000002, 10.501714666905768, 22.495176999999977, 8.125802999999998, 4.498285999999996, 5.7322479999999985, 4.592445999999995, 11.831616631301891, 9.084835999999997, 6.955500999999991, 11.969947000000008, 7.317062000000005, 9.366700999999997, 8.935061999999997, 8.540341000000002, 14.391856999999993, 7.994222000000001, 4.468346000000002, 5.124085000000003, 4.084840999999996, 12.27376999999999, 5.528451999999999, 2.590395000000003, 6.973684999999997, 8.040220999999995, 9.627737999999992, 10.166898, 9.275774000000002, 27.504261292383568, 5.431648999999998, 6.448954000000009, 15.691582999999996, 4.905871000000006, 31.007740390873156, 16.900944999999993, 7.486615999999998, 8.584194, 9.805311999999983, 7.00738400000001, 5.564296000000002, 9.439986000000003, 12.276422000000002, 7.141623999999994, 8.952186, 5.109678, 7.700591999999999, 3.320502000000001, 7.807554000000003, 5.652533999999996, 6.4618150000000005, 26.432078835999636, 11.755980000000012, 9.552851999999987, 7.0368169999999965, 11.38694700000001, 11.920203999999996, 5.265827000000002, 6.867259000000001, 3.8516500000000002, 8.195877000000005, 11.508913000000007, 13.375063999999998, 13.16112200000001, 24.821094109375, 2.6631710000000033, 8.843062, 11.383891193359373, 4.324478000000002, 9.171484999999999, 10.392606000000006, 6.989738999999998, 11.144631999999994, 13.028987999999993, 19.086966999999984, 8.243467000000008, 3.5948940000000005, 15.865429000000017, 15.266897000000005, 26.943790666652056, 4.204652999999997, 6.194896000000001, 10.258873999999993, 19.544831000000006, 5.061527999999992, 14.782985140624998, 17.766914999999987, 4.466190999999999, 7.094573000000001, 3.721668000000003, 30.083030978981437, 3.889051000000004, 28.85936149438037, 7.644428999999998, 5.466417999999994, 6.997207999999998, 12.64869099999999, 6.415274, 7.429382000000001, 11.174608000000001, 11.038198999999995, 9.624522000000002, 4.120133000000004, 8.310852000000004, 5.705492, 4.517513000000005, 30.168290513117537, 7.329920000000003, 14.020121999999994, 13.155034885742182, 7.130954999999996, 12.210108000000005, 7.827337000000003, 10.956346000000005, 10.608840500000007, 7.166225999999997, 12.870292666942964, 4.645891000000005, 8.778337999999996, 4.234610000000001, 13.027393999999997, 9.989850999999994, 3.9136669999999962, 23.280919109375006, 6.235030000000003, 7.92042899999999, 13.823265000000006, 9.755541000000012, 11.008785, 6.428118999999998, 5.822631000000001, 5.782513999999996, 21.26971731644117, 5.631170999999998, 10.027277000000002, 7.073180999999997, 8.88745, 4.489179000000002, 4.814392000000004, 10.351936000000006, 14.751288999999995, 3.9655649999999993, 3.890699000000002, 12.229352, 5.820508999999999, 23.193733304370554, 12.687202999999997, 22.7965038359375, 13.016691999999994, 5.9408530000000015, 4.488681000000003, 14.891945000000005, 10.753617000000009, 10.829589999999998, 7.905435000000009, 4.605782000000005, 28.075486018698154, 5.768602000000002, 8.626454999999998, 10.578204999999999, 5.774488999999997, 17.271081000000002, 12.881910999999993, 8.311965000000011, 9.596716999999996, 8.127954, 7.566325000000002, 10.953147999999993, 6.409933999999998, 3.3964179999999966, 18.483644000000005, 4.240473000000001, 10.205386000000006, 11.493917, 3.1573589999999974, 5.5091940000000035, 9.197141000000002, 31.606382269751272, 8.90350199999999, 6.996171000000007, 11.698751000000007, 3.901895999999995, 8.78959000000001, 6.842657000000008, 15.068549166666683, 28.685945220796714, 3.984285, 8.347781, 7.472711000000003, 4.688709000000003, 5.225713000000002, 7.636398999999999, 5.688377999999997, 20.03153800000001, 14.458719999999998, 8.600228000000008, 12.091381999999992, 9.031338, 12.310124999999998, 6.944792000000006, 6.276212999999998, 4.602046999999997, 4.454961000000001, 13.707762999999993, 7.299429999999997, 5.8322730000000025, 6.6672109999999964, 8.300181000000011, 3.703471999999999, 31.332590221792774, 15.689988000000003, 3.9559279999999943, 9.503109000000004, 10.438593999999997, 4.598852000000003, 6.935182999999999, 7.4524020000000055, 3.9992479999999944, 9.375816999999998, 9.734712000000004, 30.663429404985685, 4.607938999999999, 13.429108000000001, 9.359756999999995, 3.9013619999999998, 7.414429000000005, 4.968447999999996, 26.13964899947155, 9.970044999999988, 6.892922000000004, 17.19673100000001, 4.573712999999999, 12.070495999999991, 5.359447000000002, 3.786363999999998, 11.087387000000005, 10.705530999999992, 12.729455000000005, 4.334621000000004, 11.391194999999996, 7.460953000000003, 11.147831999999989, 19.996170000000003, 21.43186600000001, 6.192228000000001, 13.570273, 10.016586000000004, 6.9870490000000025, 10.319863443359369, 4.767876999999996, 12.899557000000005, 32.24917464776041, 21.349628948205886, 11.865647000000003, 11.231809999999998, 4.164521000000003, 9.58694983333334, 11.332391999999992, 9.044191999999999, 11.68431744335938, 18.694379999999995, 12.164624000000002, 22.371108999999997, 9.303036999999994, 9.656595, 9.880198999999994, 28.165938212436668, 13.954859999999991, 25.36775620839105, 4.303055000000004, 13.299651999999988, 6.841056, 6.323266999999998, 17.405319, 9.327153000000008, 18.737350651995296, 10.429507000000006, 7.094571999999996, 4.006726999999999, 9.255977000000003, 10.608692999999992, 8.638216999999996, 4.887670999999995, 2.7305480000000024, 11.864045999999991, 3.2209860000000043, 7.920938999999997, 6.6329649999999996, 6.6917969999999976, 12.442235999999996, 6.813767000000004, 5.586217999999997, 20.105916000000004, 4.772708000000006, 18.542865546874985, 7.289283999999996, 31.109415711184333, 4.302007000000004, 5.788951999999997, 6.689670000000002, 9.273113000000004, 3.8297030000000025, 12.097777000000006, 9.607917999999986, 10.763277000000002, 8.410364999999993, 9.046859000000008, 13.306064999999998, 8.987494999999996, 10.042235999999994, 7.590929, 11.700911000000005, 10.083441999999996, 5.081825999999997, 7.259301000000002, 8.793329000000002, 8.363277, 9.670548000000004, 7.2609129999999995, 4.261865000000006, 13.851628999999997, 8.806156999999997, 7.493604, 11.504600000000003, 10.747769999999997, 8.491132000000002, 7.638005, 23.85956940327373, 14.583869999999992, 11.437765999999996, 6.89293, 15.587654000002038, 11.556473000000004, 10.459446999999988, 23.192671999999998, 5.965452, 9.633088, 19.383023999999992, 8.030605999999999, 9.972731999999993, 27.787341937499992, 8.210309999999998, 10.493697999999997, 6.600351000000004, 25.93923455502319, 5.382427, 8.096383999999997, 11.985470999999988, 13.345106319580086, 9.920832000000003, 6.5056729999999945, 11.071342999999999, 6.806252000000001, 4.510070999999995, 8.801340999999992, 5.384217525207521, 4.525022000000005, 7.684540000000004, 4.127604999999997, 5.069544000000006, 6.428115999999999, 8.362768, 8.482035000000002, 9.147934999999999, 6.024826000000001, 25.240885428573588, 5.946193999999998, 7.258753999999991, 9.985044999999992, 4.610088999999999, 7.607504999999998, 21.805574755181766, 4.477978999999998, 5.3086419999999945, 10.349286000000006, 10.017125999999992, 8.055740000000004, 4.206240000000001, 3.5841870000000005, 25.520949250000005, 8.596503999999998, 8.983736000000007, 10.314524000000004, 29.069069509628306, 3.506101999999997, 11.521729000000002, 8.871945999999998, 4.933126, 13.270749, 20.902676718750012, 6.114677000000005, 5.384553000000007, 8.407667999999994, 5.039050000000005, 4.789266000000001, 23.804726890625005, 5.673932999999998, 14.87003, 6.149975999999998, 3.715211000000005, 13.623243999999998, 17.381811000000013, 16.048346999999982, 7.445964999999998, 11.476255000000002, 11.869368999999995, 3.884820000000002, 4.768939000000002, 5.427359, 4.436226000000003, 3.6783240000000013, 7.685071999999995, 7.866382999999997, 8.285738, 10.126760999999997, 12.818248999999991, 5.455724999999998, 10.729551999999988, 30.126687461727784, 7.734278999999997, 11.624430000000002, 3.788507000000002, 6.296517999999999, 9.31135, 9.329813999999997, 8.486326999999998, 15.63917533295076, 10.312897999999993, 6.475164999999999, 9.071460999999998, 5.838699999999996, 4.676403999999995, 4.010476999999997, 4.8165170000000055, 5.900754000000002, 10.924805, 10.624737000000016, 15.323061325172187, 7.797931000000002, 8.792797000000002, 12.050175000000008, 28.5234944207573, 5.640796000000002, 3.334405000000001, 16.70948599999999, 9.525289999999998, 7.973891000000006, 4.172571999999994, 4.141002999999995, 14.78336499999999, 6.983316999999997, 6.5773490000000026, 3.3804090000000007, 8.408766000000002, 7.758335999999998, 6.482669000000002, 4.612758999999996, 6.826058, 9.344800000000012, 15.031557000000006, 6.654363000000006, 17.04322299999999, 4.002981000000002, 8.731276000000005, 6.239316000000001, 8.725385, 11.155319999999994, 20.349825000000013, 16.769375000000014, 4.497210000000001, 8.638747000000006, 9.987701000000001, 30.891553930669144, 4.618089, 12.230424999999999, 6.383723000000008, 9.622559100830081, 8.778881, 4.272037000000003, 11.20667644335937, 5.645073999999999, 18.110294000000007, 5.536477999999993, 4.939044, 5.342323000000001, 31.590712496446407, 22.077031472251893, 12.212772000000005, 5.247666999999998, 5.080257999999997, 8.360605999999997, 17.861055000000004, 8.968254999999997, 9.178968, 5.499558000000004, 8.456879999999995, 29.677852221987386, 10.078627000000001, 11.936242000000009, 9.987174000000005, 11.767494062499997, 27.51776890308835, 27.795686416707703, 4.042060999999999, 8.230098000000003, 8.284139999999997, 9.988249999999992, 16.481061000000004, 4.296109000000003, 14.850772999999993, 24.6007816796131, 5.831199999999999, 9.894665000000002, 5.054034000000004, 4.5726399999999945, 24.217989749999997, 7.515501999999997, 19.25440300000001, 11.397630000000001, 28.317601117431597, 11.38317300000001, 8.606094000000006, 16.978565023437508, 5.979348000000003, 3.781553, 6.709995000000003, 11.25106199999999, 15.681972000000005, 8.935069000000004, 3.466493999999999, 10.098950000000007, 23.948808671875003, 10.779820999999988, 6.8998630000000025, 5.796401999999993, 14.238333319580072, 6.213096, 6.183686, 7.1132600000000075, 4.479546999999999, 4.302526, 17.450070468750006, 4.939056000000004, 5.154035000000001, 23.17810966281031, 9.92299, 9.388085000000007, 9.994657000000014, 18.057356057806007, 3.1616249999999986, 9.642704000000002, 23.041867652343754, 12.255568999999996, 5.817823999999999, 21.906840999999996, 6.780612000000007, 9.298257, 7.055000999999999, 5.655219999999999, 7.041084999999996, 7.197279000000005, 7.226673999999997, 9.789246000000006, 6.925568000000007, 11.089551000000005, 6.176727000000003, 30.327978846109204, 6.607287000000007, 6.459680999999998, 9.357615999999984, 14.709295937500007, 11.571474000000007, 9.216950999999993, 14.335160999999994, 13.226348999999995, 14.307248156249997, 4.792477000000002, 16.032323000000005, 4.784993000000001, 3.9157929999999976, 5.953137000000002, 3.848427999999998, 11.902537000000004, 10.760605999999997, 10.874651625000006, 8.971448000000004, 11.290665, 4.244761999999997, 8.679389000000004, 5.661109000000002, 9.686547999999995, 9.384357, 25.73985543749999, 4.638965, 28.953701640604432, 13.099039000000003, 4.731495999999998, 8.091035000000003, 11.348395000000007, 27.54337325, 5.395796999999995, 18.708006000000008, 12.144868, 17.294615, 12.664744999999998, 12.347016000000007, 8.74466299999999, 23.803040218815084, 30.262133831054708, 11.868333000000005, 11.108841999999997, 12.284989000000001, 5.194711000000003, 10.227324000000001, 11.358569000000003, 7.944492000000002, 4.891965000000001, 9.504185000000012, 10.250320999999992, 10.806602000000007, 13.506105000000007, 5.215014999999999, 8.084612999999996, 8.476155, 6.260158000000002, 10.523645000000002, 11.572537000000002, 5.010704999999997, 17.970841266276036, 3.0782100000000012, 5.7300910000000025, 6.910026, 5.762188999999998, 7.431536000000005, 23.945639312400388, 10.49636599999999, 10.452497000000005, 9.894635, 7.1100809999999965, 13.802972000000006, 4.438366999999999, 7.659386, 5.989539000000003, 5.930683999999993, 15.225691999999981, 20.443409, 5.146532000000002, 5.4193489999999995, 22.20260700000001, 8.917431999999993, 4.100351999999997, 5.180783000000002, 16.87817775, 10.8038993337398, 8.888527000000007, 9.439986000000001, 4.2490579999999945, 10.405464999999998, 5.343928000000001, 5.6151079999999975, 10.929083000000013, 2.5460260000000035, 17.641754999999993, 4.279529999999997, 7.673294000000004, 9.317501000000004, 9.640564999999995, 8.249352000000004, 23.75058272535611, 4.684950999999997, 4.245299999999995, 14.487594999999994, 8.132075000000004, 5.755244000000001, 8.727519999999995, 4.432483000000002, 11.896652999999997, 12.894389664456357, 10.120379999999992, 7.805405, 4.479569000000003, 6.445228999999995, 12.356660999999997, 10.183459999999998, 12.792132923977858, 3.263791999999997, 3.71202, 8.762844000000007, 7.445435999999996, 12.842329000000017, 4.801032999999998, 9.959890999999997, 4.968452, 2.380184000000004, 4.144726000000003, 8.951120000000001, 7.253445000000004, 11.35379811328126, 6.2382349999999995, 16.42650400000001, 3.7072179999999997, 25.137237834703622, 11.146215000000014, 8.450466, 13.038093000000014, 10.783614000000009, 4.987695000000003, 6.129652000000001, 9.040432000000003, 8.813654999999994, 10.202206000000006, 11.491778, 10.422820333333332, 3.269682999999999, 11.238241000000011, 11.13714700000001, 11.268180000000005, 8.28307799999999, 10.290980999999995, 8.532850000000002, 15.49520357122517, 10.226778000000003, 12.173201999999998, 6.313659999999996, 15.484598999999982, 16.055304999999986, 6.888114000000001, 18.74468299999998, 9.030264000000003, 3.9602179999999962, 8.686907000000001, 8.717394000000002, 4.721318000000003, 20.416659000000028, 10.594235999999993, 10.564310000000004, 9.424999999999992, 3.9415189999999973, 24.587189166741084, 6.939986, 9.011570999999996, 7.845517000000002, 6.281562999999998, 7.593070000000008, 9.127095000000002, 10.008031000000006, 6.3976329999999955, 6.542040000000002, 13.743049000000003, 3.238675, 6.462882999999996, 6.138217, 9.737917999999993, 9.51223100000001, 11.866721000000002, 8.672984999999994, 31.63536620731604, 18.642222999999987, 5.447704000000003, 25.632999306832925, 4.723444000000004, 5.210208000000002, 10.149232000000001, 16.979036000000004, 7.321353999999996, 11.888107000000005, 24.47080279162947, 12.838012999999998, 20.581407000000024, 4.397757000000004, 4.00621, 7.7444440000000005, 31.30255297985509, 6.566649, 7.4994330000000025, 10.821053999999995, 7.083327999999998, 7.848187000000009, 7.402122000000004, 7.687194000000001, 5.627410999999998, 3.871980000000005, 9.131891999999997, 6.980101000000002, 3.883179999999998, 9.546966000000003, 10.997006, 11.685377000000006, 6.667222999999998, 7.966951000000002, 8.742007000000003, 4.958277999999996, 14.998943000000013, 9.416985999999987, 8.828078000000001, 9.119052, 26.199727395960814, 6.172441000000003, 9.888755000000003, 9.965789000000008, 12.211723113281261, 4.691900000000001, 5.204865000000004, 6.081523, 6.415825000000002, 7.232544000000001, 5.633311999999998, 13.53510825, 5.058313000000004, 4.740056999999997, 6.173512000000004, 10.579277999999993, 4.016923000000003, 4.613815000000008, 11.100237000000003, 18.914201000000002, 31.910703111799503, 5.618861999999999, 5.58996700000001, 4.272580000000002, 10.777148000000004, 30.274327953281322, 4.444267999999999, 5.106971000000005, 5.717250000000003, 9.010477999999999, 11.837303000000006, 8.828618000000004, 10.466953, 28.001661792857163, 19.636276999999986, 21.45589415442467, 8.164846, 10.191489999999998, 8.09424, 7.1164859999999965, 5.166375000000001, 6.508891000000005, 7.191380000000004, 10.05240400000001, 10.403832000000001, 31.608018373307683, 32.10596898399737, 18.26915500000001, 9.192868000000015, 9.895147999999995, 4.806389999999999, 5.000536, 6.833021000000005, 27.284742350350527, 9.522886000000005, 4.932603, 10.400102999999994, 9.944888999999982, 7.480734000000001, 15.155105999999988, 8.273431999999993, 12.191384000000003, 3.873538000000003, 28.387169718749988, 6.793427999999994, 6.814835999999999, 5.743478000000003, 12.603774000000003, 16.99562600000002, 3.6799160000000004, 30.73865574395753, 11.091690000000003, 14.076282999999991, 12.36147200000001, 8.552098999999993, 9.132427000000005, 4.106236000000001, 4.659293000000002, 27.46525200000003, 5.510259000000002, 9.68390100000001, 5.288847000000007, 10.693754000000004, 13.368646999999996, 3.9195550000000043, 17.13377600000001, 15.430316499999998, 4.405233999999997, 6.1189510000000045, 20.438876250000007, 8.347776, 6.071336999999995, 7.045887000000001, 7.955169999999999, 10.381341999999984, 6.820700999999996, 12.484509000000008, 3.1199029999999977, 4.178458999999993, 8.043962999999996, 8.161632, 21.78227869017792, 4.6314790000000015, 12.13254500000001, 7.2459370000000085, 4.021737999999998, 26.97637300000002, 4.942254999999994, 9.380625, 7.011118, 6.828202, 12.314944999999993, 11.199758000000005, 20.782231406249995, 4.172000000000004, 8.668701000000004, 4.049519999999998, 6.760794000000007, 10.727406000000007, 7.137356, 30.780935499999963, 11.026442999999995, 3.9425749999999966, 20.96801184461805, 4.605263, 6.009829000000003, 30.64880962216803, 31.783332225759086, 11.051545000000003, 6.563434, 5.959543, 5.864874000000003, 8.838798000000002, 9.221229999999997, 3.725393000000002, 4.9347379999999985, 14.006791187499989, 4.498288, 7.899027000000005, 10.371735, 13.060029000000004, 10.352456, 9.047409, 9.402544999999987, 29.676850175017627, 8.028981000000007, 6.668293999999991, 11.692873000000004, 4.3710149999999945, 9.547505000000003, 3.0413119999999996, 8.125269000000008, 26.65754618749997, 17.297816999999984, 9.074661, 5.123568999999996, 12.37163399999999, 12.188155000000009, 7.191382000000005, 5.105371000000002, 5.519382999999997, 7.688817999999995, 22.438495999999986, 6.8014509999999975, 10.255666999999995, 8.720581, 4.6036679999999945, 6.870457999999993, 15.13307425878907, 4.369385000000001, 25.21652025878906, 12.638805000000009, 7.9974349999999905, 10.627937999999993, 7.075837999999999, 6.368749999999998, 9.552304999999995, 11.082592000000009, 4.923507999999997, 9.297706999999999, 7.204208999999996, 10.588892000000001, 8.901926000000001, 10.610833999999997, 3.789067999999995, 21.714625886714686, 5.669658999999997, 8.594891000000004, 18.298564999999996, 6.008229000000004, 12.804869000000005, 4.421274999999996, 10.142275000000016, 6.055308999999997, 5.679831, 11.41421199999999, 28.000371361185316, 9.949692000000002, 4.4324850000000025, 12.191919, 9.60601466666666, 28.076590085936967, 4.421801000000001, 28.13457836363006, 4.824031999999995, 7.825224, 6.375143000000003, 3.5376490000000005, 10.154030000000013, 4.443711000000002, 4.279515000000001, 13.95611166445637, 6.9367699999999965, 9.677460000000005, 9.295050000000002, 10.247114000000005, 9.600986000000002, 4.1372709999999975, 25.30374931604752, 10.430577000000005, 10.134240999999998, 8.38896100000001, 4.070391000000002, 5.157279, 6.3329029999999955, 27.61684974195881, 7.180680000000001, 10.433230000000007, 7.540666000000008, 31.56771984086679, 15.017104, 10.578201999999997, 4.573695000000001, 9.796741000000004, 13.647314999999999, 17.584517, 13.24991600000001, 6.167089999999996, 4.171480000000001, 5.240166, 27.24600115124861, 30.419886855754662, 4.170934999999997, 16.57053462117312, 8.16698500000001, 4.983944, 5.685171000000002, 6.977425000000002, 5.081281999999995, 20.161742578124986, 12.050712999999995, 4.970053999999996, 8.313003999999992, 4.431962999999997, 24.305427341964236, 23.09419049609374, 8.580462000000011, 5.271829999999999, 9.449621999999998, 9.492399999999993, 3.288926999999999, 9.508976999999998, 7.8385689999999935, 10.374410000000012, 4.143676999999998, 10.350884999999995, 2.5796990000000015, 13.868216000000004, 6.900407000000005, 8.992828000000003, 10.524705000000006, 6.362318000000005, 8.732993, 4.670006999999999, 8.040769999999997, 11.062270999999994, 24.79224456542969, 8.832910999999998, 8.709888999999999, 12.234713999999986, 5.500106, 8.377193000000002, 21.844081064285277, 6.341480000000001, 13.460624000000003, 7.761554000000001, 4.635220000000002, 14.71140940625, 9.264547000000002, 7.936465999999992, 8.270755000000005, 12.903834999999992, 26.243679582206582, 11.68003400000001, 9.697253000000002, 8.864494999999998, 5.857965000000004, 16.184578297851573, 5.262630999999999, 14.845948000000012, 11.580556999999999, 10.088770000000013, 27.090280278684773, 5.7557709999999975, 5.0160490000000015, 27.722541281249995, 29.307038562499997, 12.557491999999998, 11.994543, 7.422981999999995, 7.346500999999996, 8.515727000000005, 7.988337000000002, 13.935051999999983, 6.276737000000002, 13.985373000000012, 3.242929999999999, 8.960733000000003, 15.012712249999995, 5.040113, 7.041619999999995, 8.910468, 9.388642000000006, 10.918387000000003, 7.430985000000003, 4.250099, 5.7541649999999995, 9.718139999999995, 8.570825000000003, 9.484383999999997, 6.387439000000001, 30.56980772656253, 5.663263999999999, 21.777943999999984, 6.338764999999999, 6.51797, 22.242681941294666, 6.172447999999998, 19.897475750016266, 30.954258047044178, 5.8574170000000025, 6.460201999999996, 6.000748000000001, 9.657682999999984, 9.438912000000002, 8.143984000000003, 5.866502, 2.687743000000002, 16.570409113281244, 12.684001999999996, 7.643876000000003, 25.134256000000015, 8.800286, 5.244983999999997, 9.432516000000016, 9.973802000000003, 2.8353609999999985, 18.153082999999988, 28.116719999999983, 3.814719, 4.551232000000003, 7.809695999999999, 4.909608999999996, 15.296306999999999, 10.098414999999989, 21.787545999999992, 9.200345000000006, 15.37420143058012, 8.094245999999993, 3.8933390000000028, 11.463945000000008, 6.304015, 4.071454, 29.46884016507447, 5.166890000000002, 4.797824000000003, 10.842939999999997, 6.1296370000000024, 5.774495999999999, 3.759605999999999, 12.774393000000002, 10.003214999999992, 21.51183750000001, 5.064730000000009, 5.567504999999996, 14.107840000000003, 12.673841999999995, 8.568152, 6.290109999999998, 17.463538616102415, 30.452920811355867, 4.600987, 4.927809000000005, 6.738345000000002, 29.07001389059968, 3.5483240000000014, 20.144212375, 9.180049999999998, 8.809373000000003, 9.238339000000002, 4.426083, 24.956090065785535, 9.401477000000005, 9.564090999999998, 4.1805590000000015, 12.785096999999999, 4.480106000000002, 17.917781187499994, 7.376457999999998, 3.2723540000000013, 11.317907999999994, 25.82820573663331, 6.577899999999995, 9.045787999999998, 9.642178000000007, 4.281653000000005, 8.271288999999998, 29.253888937605833, 9.441053, 13.458321537230486, 12.379629999999995, 8.986941999999997, 19.199144222658298, 14.256502999999986, 9.231393666475379, 10.736545, 8.183574, 5.081839000000005, 10.913014999999996, 25.467214250000026, 8.100135000000002, 14.336234000000005, 3.191591, 3.6836760000000033, 29.83828565256104, 7.221870000000001, 8.150421999999992, 4.533608000000002, 9.429286999999999, 4.8010300000000035, 3.7911749999999977, 11.025361000000009, 8.677253999999998, 17.90971500000001, 4.436227999999997, 6.619601000000002, 19.597248000000008, 9.533075000000002, 8.383083000000001, 11.158001499999996, 9.026008000000004, 9.276311, 7.8235770000000056, 13.337093999999993, 13.053565, 9.042565000000003, 4.450679999999998, 31.517818683050113, 4.709047000000007, 13.79373949999999, 27.412013125000016, 9.535209999999996, 15.443591666942956, 12.345426999999994, 8.992294999999997, 7.3662790000000005, 6.676847000000001, 4.895692999999999, 7.482871000000001, 19.34958, 3.8532459999999986, 11.569322, 7.502680999999999, 10.847765000000004, 10.378168999999993, 28.168881813161853, 6.882764999999998, 9.013149999999994, 8.479894999999988, 28.046994607320986, 13.944715000000004, 11.602487000000002, 5.150305000000002, 5.570167999999999, 3.702925000000004, 30.972455343383817, 4.671054000000002, 3.790655000000003, 8.49037033333333, 16.404577000000014, 30.012693491780656, 5.628462, 29.08770245383118, 14.466961907142643, 7.0539379999999925, 7.747651999999997, 12.889923999999986, 4.3276660000000025, 22.726499043080338, 25.926490947959895, 10.135306000000003, 10.971332000000002, 8.087304000000001, 7.999063000000009, 14.669982000000005, 13.56921399999999, 10.427371999999991, 9.508467000000001, 9.847555999999999, 3.856447999999996, 13.603987, 4.588704000000007, 9.635224999999998, 5.695338000000004, 4.760927000000004, 5.860603999999999, 19.12403118749999, 6.819132999999996, 9.036143, 6.251599000000003, 10.551461000000003, 7.0913649999999935, 12.108483000000012, 15.679806999999991, 5.300045999999997, 9.625058000000008, 11.420091000000003, 10.814606000000001, 29.87626867406492, 11.140896000000012, 9.541072000000009, 5.612954999999997, 3.631226999999997, 29.492893655234887, 28.335461999999996, 13.057356000000002, 14.192334999999996, 7.817196, 7.399441000000005, 14.514873000000025, 10.113932999999994, 8.664425000000005, 3.3146130000000023, 13.449045100830064, 4.290747999999999, 5.597441999999997, 6.2189870000000065, 10.678214999999993, 23.109774999999996, 12.006845000000016, 9.157041999999992, 27.02574514137369, 4.152208999999998, 17.16517099999999, 19.042853000000022, 4.436795, 5.129439999999996, 5.583565, 14.050076000000011, 10.086647000000001, 13.513591999999994, 4.8545330000000035, 6.450573000000005, 11.374640999999995, 6.818566999999997, 22.380724, 30.296898808386047, 4.348518000000001, 26.283368486328115, 5.8627550000000035, 4.598330000000001, 9.415920999999996, 9.517562000000014, 11.300278000000002, 10.930673000000008, 7.526369737396237, 4.665713000000002, 10.797514999999999, 13.035408999999994, 9.718656999999997, 4.424474000000003, 11.889688, 28.66856534696167, 28.661710786533167, 7.179076000000005, 11.757060000000001, 13.884800000000011, 4.946520000000001, 7.7166330000000025, 12.459879000000017, 8.025231999999995, 16.28903500000001, 10.886295, 11.409389000000001, 11.407778, 4.176811000000001, 5.685175999999998, 6.521183, 5.104825999999994, 13.100159999999985, 26.966640140720806, 4.8946119999999915, 23.76873225, 6.379987000000004, 6.133920999999999, 2.9054330000000035, 5.502246999999996, 11.915380000000006, 19.572656999999996, 3.6997480000000014, 27.512846115705983, 8.308732999999998, 4.537841000000004, 27.968518601952436, 5.716744, 7.460418999999998, 25.478712999902378, 8.954325, 4.620248, 13.102790999999991, 6.556486, 13.538736000000004, 4.414339000000004, 5.507600999999999, 8.758021, 4.256527999999997, 9.935817000000004, 12.835903000000004, 24.107799265625005, 25.365901516976596, 27.340082437500026, 8.948975000000008, 9.216954000000003, 7.735886000000009, 8.772451999999992, 8.028468000000005, 30.214626213217876, 9.698870999999999, 9.949738999999997, 3.659066000000001, 6.962989999999996, 14.380106999999995, 9.641083999999996, 9.442137000000002, 12.841765000000008, 8.207108999999997, 9.682824000000005, 8.302859999999999, 26.05025457479498, 12.88941899999999, 4.472611, 8.25150099999999, 5.006946999999998, 6.5607770000000025, 25.336833843750014, 6.854395000000007, 7.590923000000011, 13.278244000000004, 4.216404000000008, 27.395854527278285, 13.033271999999993, 9.004051000000002, 14.991441000000009, 6.253724, 8.277179999999994, 11.868333000000009, 8.252556999999998, 8.978584100830075, 14.053278000000008, 7.344350000000002, 5.649872, 4.322844, 13.156833999999998, 16.24039200000001, 9.054357999999993, 27.68941448086637, 10.26369700000001, 11.865642999999999, 8.61948799999999, 14.56889, 12.299422999999988, 4.021736999999999, 5.757941999999999, 22.85664420655212, 7.879745000000005, 24.51806799999999, 4.437843000000003, 4.3276819999999985, 4.369940000000002, 8.657476999999995, 10.168482000000001, 3.773535999999997, 7.769010999999997, 7.142704999999996, 8.136500000000005, 4.225503999999999, 11.724987000000006, 5.885240999999997, 6.9201990000000055, 12.870336749999996, 4.974843000000002, 8.150401999999998, 10.060445999999999, 12.099930999999996, 6.115734999999998, 4.911745999999999, 11.497645000000002, 10.439857193359371, 5.185616999999994, 13.757489000000012, 12.074241999999996, 9.164531000000004, 6.424370000000003, 24.350486488281245, 4.1939400000000004, 4.706336, 4.680682000000001, 4.047397, 8.807570999999998, 9.288092999999998, 5.888418999999998, 10.341794999999998, 4.394536999999999, 10.407583999999996, 3.701329, 11.431340999999996, 6.4810630000000025, 9.794096999999988, 5.680901000000003, 5.298466999999996, 4.057541000000001, 7.967472999999995, 10.540738999999999, 5.72545383333333, 7.880293999999999, 11.800387999999993, 13.59861299999999, 16.19456836941528, 31.16833543531945, 6.725511, 13.362757000000004, 8.442429999999996, 4.594030000000001, 12.986471000000002, 27.517478691070533, 6.999898000000002, 7.043216000000001, 5.1005530000000014, 8.756404000000005, 13.157920000000006, 20.02942300000001, 7.2384729999999955, 18.226194714266235, 8.602905000000012, 8.541393000000006, 4.3699410000000025, 6.055836, 12.1806825, 18.06268499999999, 4.308407999999997, 10.589417000000012, 10.359455000000011, 10.654139000000004, 28.017946074613683, 12.08120799999999, 6.908433999999999, 10.205397, 10.370153000000006, 11.532951000000004, 4.553910000000002, 18.213001999999992, 6.465555999999997, 5.3332220000000055, 5.06685300000001, 6.209876999999995, 7.994231, 6.320080999999998, 29.413266000000018, 7.214907999999999, 10.348197999999998, 3.9976410000000002, 18.24037347503921, 6.268202999999997, 5.281366000000007, 5.100542999999996, 5.158851000000003, 4.967395999999996, 6.093277999999997, 7.578632, 7.686120999999999, 10.547193000000004, 5.167963000000004, 11.914332000000002, 10.673416999999999, 4.834736999999999, 13.917935000000016, 11.475195000000001, 8.743588000000004, 6.483734000000001, 8.884788000000002, 8.081402, 9.215326999999997, 10.437541000000003, 13.861246000000003, 4.034566000000001, 28.638657692204628, 8.619476000000006, 4.525536000000003, 8.828093999999995, 19.12655241493056, 7.554562, 8.972525999999995, 8.614690000000007, 7.860496000000008, 7.227205999999996, 7.309576000000002, 21.392626765624993, 10.87022899999999, 2.854076999999995, 14.50201599999999, 8.877298999999999, 4.553922999999998, 10.460539999999991, 4.600456999999998, 8.778369999999995, 12.805573949584957, 3.9912579999999993, 8.529634999999999, 7.685062999999994, 13.018001625000004, 4.741125999999998, 5.475519000000003, 5.618316000000001, 8.904045000000002, 7.477543000000008, 13.109757000000002, 8.443524000000002, 6.879552999999999, 10.802304000000003, 8.218335000000005, 11.885419999999993, 22.327766999999998, 4.150091999999998, 22.656930564127595, 9.554968999999998, 12.311721000000004, 14.191412499999997, 9.09142566445636, 21.518548999999993, 14.503625000000001, 8.871940999999994, 9.219088999999999, 7.495735000000002, 9.573168999999995, 9.43465800000001, 11.604633, 7.294095000000006, 12.431009000000003, 9.162279833333328, 3.940418000000002, 11.877939, 14.281124999999998, 27.15656278531631, 4.444811000000004, 8.75160400000001, 11.993474000000008, 9.836325000000002, 8.231186000000003, 25.49120896519853, 10.15834300000001, 11.054248000000003, 9.095001999999994, 8.92595799999999, 4.233537999999999, 27.78616399999999, 18.93882500000001, 9.231384999999992, 4.778582999999998, 4.724541999999999, 7.370857166666659, 11.136076999999998, 4.600987999999999, 13.121527999999998, 5.441276, 2.861576, 14.986281658660879, 6.697165999999993, 3.7136279999999964, 4.6084790000000035, 4.308431000000001, 11.447890000000003, 5.7343790000000014, 12.943936000000006, 5.573933999999997, 11.610493000000012, 4.213190000000008, 26.20679829626339, 6.534557999999997, 8.509309, 11.822844999999997, 7.817169000000003, 6.034461999999999, 4.917110999999998, 23.792629956633085, 8.097452999999994, 12.857899166666666, 8.424798000000001, 10.880396999999999, 4.505210000000006, 9.727233999999996, 20.462437864566308, 10.738663999999995, 4.779088000000003, 10.972934999999998, 6.034444999999996, 12.256626999999998, 9.204645000000001, 10.803382000000006, 4.436770000000003, 15.446636000000002, 3.9928139999999996, 23.298023000000008, 5.770763000000001, 6.935703999999996, 7.2951530000000036, 27.3056454709154, 11.18351232891273, 15.016582999999999, 9.485455, 25.206110365947183, 7.567926, 9.335163999999999, 10.504923000000003, 12.403180000000004, 3.881585000000004, 7.469524000000004, 9.796198999999998, 12.007907499999995, 6.8667039999999995, 13.269688667049225, 17.391981000000005, 6.131802, 14.459230000000007, 7.741768999999993, 12.719844999999998, 4.5613940000000035, 11.707852000000004, 6.926075000000003, 8.714701000000005, 17.587786249934922, 4.0318459999999945, 25.35385933338646, 19.281136000000014, 5.058584, 9.967909999999996, 11.64633699999999, 5.527910999999993, 8.000091000000001, 9.93118867108725, 10.159934, 4.824055000000007, 9.874838000000004, 3.2263740000000007, 4.619717000000006, 8.199597000000006, 4.780171, 19.158376687500002, 5.447177999999993, 6.825528, 6.089536999999999, 5.758455000000001, 19.526513103387835, 6.571445999999996, 4.703141000000001, 3.5365790000000015, 4.994138999999999, 9.878575000000001, 20.742402999999978, 4.000326, 25.40430912939452, 3.941463999999996, 12.237388000000001, 3.938819999999996, 8.683681000000002, 8.684754999999997, 8.416765000000003, 29.627508887599653, 8.361674999999998, 9.684967999999998, 7.210645000000002, 19.365105999999997, 9.446935999999988, 15.947279999999996, 3.866612000000003, 10.144963000000008, 3.229039000000002, 21.563767078164513, 12.661524999999994, 8.619482000000007, 9.956672000000005, 6.880073999999999, 10.050279000000003, 6.8763089999999965, 4.7978210000000026, 23.696881874999978, 11.407796999999995, 4.099790999999997, 7.242189999999999, 13.10567775, 6.478943999999999, 6.928758000000003, 7.571671000000001, 9.934727999999993, 7.249655000000008, 10.414532, 7.495726000000003, 11.251069000000012, 4.834713000000002, 22.80114900000001, 19.607391999999976, 11.626559000000013, 5.552524999999998, 25.88795872439659, 8.512522, 9.711171000000009, 13.117234999999994, 4.068264000000004, 9.512739999999999, 14.575325999999995, 9.096064000000004, 29.97700192187499, 7.607501, 8.029532999999997, 9.39772399999999, 11.536700000000012, 13.960202999999993, 7.286054999999997, 10.84831300000001, 10.561073999999998, 4.444279999999999, 5.416127999999999, 12.384481999999991, 6.775236000000004, 11.415824999999995, 9.887663999999994, 6.5286530000000065, 7.256623999999993, 4.231922999999998, 4.919774000000005, 11.701974000000009, 14.476370999999999, 29.514989438804584, 5.488309000000003, 4.976472999999997, 24.12924044726562, 9.203021999999992, 9.057549999999999, 4.521846999999997, 3.503959, 4.702609999999998, 5.898598000000003, 4.729348, 8.110801000000002, 5.080097833333329, 10.551998000000003, 4.3988010000000015, 13.195712790901538, 23.16145326562501, 7.368402, 27.326197813803287, 10.457845999999995, 10.173300999999999, 6.108254999999996, 8.674029999999997, 10.019798999999995, 9.716529000000003, 11.720678999999995, 9.375814999999994, 23.485235424107078, 4.612755999999999, 4.390781999999997, 9.065044000000004, 15.840816999999992, 4.235134999999999, 4.101397, 9.559794999999996, 4.154338000000003, 3.4429969999999988, 7.892597999999998, 9.719736000000012, 11.286385000000003, 9.619177999999998, 4.681734999999998, 6.640453000000003, 7.0977529999999955, 5.205392000000004, 11.310965000000001, 4.536235000000006, 11.384267000000001, 4.702606000000002, 5.281356000000001, 4.522371000000003, 17.81556821351433, 19.65450424999999, 28.084331660644526, 8.353673000000006, 12.305848999999998, 8.345090999999995, 4.835263000000005, 7.4829029999999985, 4.007281999999999, 4.721318000000005, 14.735788000000003, 17.060876999999998, 7.9091830000000005, 5.641842999999995, 6.066544999999994, 10.913566000000014, 11.438819999999989, 4.398809999999995, 10.489954000000019, 11.891319000000003, 18.265949499999998, 7.961587000000004, 9.019569667049232, 8.975169000000001, 4.771086000000002, 5.392579000000005, 8.410888999999997, 5.225166000000002, 8.482575000000008, 6.651714000000001, 5.157787999999998, 8.991738, 17.56471231958009, 8.947899000000001, 31.390380951561866, 9.663570000000004, 4.8090579999999985, 12.876283499999994, 6.182623999999996, 8.819025000000007, 6.841584999999996, 3.7548389999999974, 6.814298000000003, 9.249564999999995, 7.647612000000005, 12.663680000000001, 9.557657, 9.948664000000008, 12.393013999999987, 10.84920732228184, 12.750499028564452, 10.272240000000004, 11.68645199999999, 31.094146242183776, 22.42427678744157, 3.458478000000002, 7.459998999999998, 17.336318999999996, 14.141536, 10.432194999999997, 7.377496999999997, 10.752049999999997, 12.119175000000002, 22.81546527343749, 6.727664, 3.145036000000001, 5.658984, 16.580011000000002, 5.739200999999995, 13.843086999999993, 7.905967000000001, 9.819388664456357, 10.443948999999998, 13.100128999999997, 12.218124000000003, 9.252765000000009, 13.054150000000002, 6.876347999999997, 8.361137000000001, 10.138006999999998, 9.833127000000006, 7.067254999999996, 28.361682999999985, 4.465125000000002, 5.083429999999997, 10.02407599999999, 32.540382392451306, 10.787863, 7.379638, 4.584942999999998, 9.12815499999999, 10.311483671087267, 5.767544000000003, 10.633653685714728, 9.580651, 5.466402999999997, 11.977960000000005, 11.385864999999994, 9.81279, 13.728622999999992, 4.024395000000002, 7.044277000000007, 11.314194000000002, 16.145165000000006, 9.687629000000003, 10.348214999999998, 9.229795999999997, 11.638847999999998, 11.838398, 23.898878337890622, 4.854492000000002, 7.7107379999999965, 10.38135899999999, 17.925461468750008, 7.9701520000000015, 6.497660999999996, 7.436893999999996, 23.265600436978794, 5.698535, 12.129327999999997, 8.901386999999994, 11.874189999999999, 10.896968000000008, 10.779864999999996, 5.612445999999995, 5.715666000000006, 6.570942, 26.5671212461311, 8.105992999999996, 4.382750000000002, 29.262370388596754, 11.104742333333334, 9.732019000000005, 15.640779000000004, 7.320290000000011, 8.988531000000002, 9.214817000000005, 3.857499999999994, 4.611151000000003, 4.522896999999998, 4.236219999999996, 10.725815999999995, 8.239745000000005, 10.073821000000004, 17.199398000000006, 9.899973999999991, 30.715551171922808, 10.774495, 4.304664999999999, 6.112538999999997, 5.105908000000001, 26.120052124999987, 6.531897999999993, 6.387451999999995, 11.193845000000012, 8.956989999999996, 13.114111750000001, 7.742855999999998, 9.460319999999996, 6.140364000000001, 3.619489000000002, 7.3010379999999975, 4.751818, 22.855703500000004, 10.363179999999998, 11.628695000000004, 5.182930000000006, 6.2906419999999965, 4.139935999999995, 7.661513, 25.582033909440778, 30.051761628433347, 19.482512938110347, 3.9997919999999976, 9.612220000000002, 3.3574200000000043, 5.273859, 10.759005000000007, 26.28687995029795, 3.777805999999997, 12.968007999999996, 13.589009999999991, 6.078835000000003, 8.950044000000004, 25.139884250000005, 9.680135, 18.65053200000002, 26.7759405879464, 5.6808830000000015, 4.633090000000005, 9.226031000000004, 8.194800999999993, 13.623775000000006, 8.072307999999994, 10.418287, 19.752894999999977, 8.044509999999997, 6.818860666666657, 11.085268000000006, 11.037662000000005, 14.912291000000009, 10.650408000000004, 10.328437999999998, 8.071226999999993, 4.607944999999997, 10.069002999999993, 14.125166749999998, 9.025992, 28.635435576299333, 10.707113999999999, 8.814720999999993, 4.856676, 11.882755999999999, 9.397211999999998, 10.393652000000007, 8.633412999999996, 12.393037999999992, 8.690086999999997, 8.845742999999993, 12.696841999999997, 6.811613000000003, 5.6905079999999995, 20.330008875000004, 9.660904999999996, 12.648145, 5.392611999999999, 2.9321880000000005, 10.725821999999999, 5.035855999999998, 5.149228999999995, 30.563939600048062, 4.008375999999996, 26.39679146875001, 3.1915920000000018, 5.094131999999999, 10.347663999999995, 13.054685999999997, 7.374857000000005, 21.326489218749998, 11.05102611328125, 8.548368999999997, 4.184329999999997, 4.137268000000001, 9.075219999999998, 4.545365999999999, 4.038840999999994, 5.239100999999997, 10.542909999999996, 8.477745000000004, 8.175027000000004, 10.445568000000005, 10.572971624999994, 13.587370333333338, 11.666673999999992, 14.812258997789707, 8.977868000000006, 9.862537000000001, 15.035839000000003, 5.876652999999999, 5.034767000000004, 4.660902999999991, 24.466140596679676, 7.287129999999999, 12.509087000000005, 25.56647535583504, 9.096065000000003, 4.035083999999999, 9.96148999999999, 4.1228039999999995, 4.502036000000003, 3.386278000000003, 26.99616000000002, 13.52908299999999, 5.321477000000004, 8.529090999999992, 7.100986999999988, 8.681003999999996, 4.3495769999999965, 20.877781838074576, 14.095545999999992, 9.205714000000002, 26.4520106895752, 11.635637000000008, 4.405776999999998, 21.79397699999998, 9.208385999999999, 9.033487999999998, 4.353880000000001, 16.264954999999993, 20.48510773643972, 8.705599999999995, 8.575081999999998, 5.4396559999999985, 21.149443, 9.738979000000002, 9.686039999999998, 11.163884999999995, 5.557868999999996, 20.839225000000006, 8.059482999999993, 7.281246000000003, 3.0648370000000007, 5.5664560000000005, 11.786486000000007, 9.422362000000003, 25.824772302096612, 15.060430000000004, 19.378474000000022, 25.183955789910215, 4.221730999999997, 6.159606999999999, 8.471332000000007, 5.627767000000001, 15.526517773437496, 16.154081259732674, 8.468647000000004, 5.320936999999997, 12.038408000000004, 4.400939000000006, 5.251927000000003, 3.4162639999999955, 4.222849999999995, 11.042485999999995, 4.80692, 8.587404000000003, 21.066294459894852, 11.692340000000003, 13.102810000000003, 4.800487000000007, 4.4683449999999985, 4.643239000000001, 6.3029660000000005, 6.6624029999999985, 13.391617000000013, 4.296636000000002, 18.95379000000001, 19.619171000000005, 9.283820000000011, 8.894422999999993, 10.486201999999999, 14.196099000000011, 8.505560000000001, 9.19129600000001, 28.115929628127695, 27.167827807285686, 4.591906000000005, 7.0475050000000055, 9.995168000000007, 7.472689999999993, 3.974658999999998, 26.890000619646965, 4.582260000000006, 7.778143000000001, 11.781118, 8.866070000000002, 4.857197, 10.016575999999997, 12.012725999999995, 10.113399999999999, 4.2506339999999945, 10.261554999999994, 5.237493000000001, 7.501599999999993, 6.352699000000001, 4.713849000000001, 29.94106808593748, 9.271490999999992, 6.824987000000004, 23.555684687053663, 13.982638187500005, 8.765507, 5.838162000000002, 4.591352000000005, 8.955916, 7.069966999999998, 4.819197000000004, 6.032307999999992, 4.652342999999998, 8.268609000000007, 4.126033000000001, 6.293862000000006, 12.821454000000001, 11.48588099999999, 9.728284000000004, 12.772775332950769, 11.787038000000006, 5.252969999999998, 10.816253000000012, 8.337623999999991, 24.48193308299134, 6.254296000000002, 10.639165000000002, 12.751400999999998, 5.497976999999999, 6.346266999999994, 12.565791999999998, 3.7120069999999976, 11.167098999999991, 6.218968000000003, 7.8027400000000044, 29.947273373042744, 9.170934000000003, 3.5515779999999983, 15.485125999999996, 32.05631011043547, 3.854852999999995, 23.710496736747793, 9.504704999999996, 5.07864, 17.482728704598863, 14.644311999999998, 9.546436000000005, 5.089325000000007, 30.523460374999996, 4.541093999999997, 4.411622999999998, 8.096925, 12.173750000000007, 4.054879999999995, 4.674769000000004, 11.272501000000007, 10.55038, 11.493915999999988, 8.770892000000014, 9.778576999999995, 6.511024999999994, 7.5230049999999995, 12.253433000000014, 9.120679000000004, 10.110724, 9.504691000000008, 5.354612000000007, 4.694049999999997, 5.833350000000001, 6.330783999999999, 19.911741999999993, 9.025999, 12.482350000000006, 25.77610423075264, 9.20574000000001, 9.883930999999992, 6.731934000000001, 4.548571999999997, 4.030818000000004, 9.970596999999996, 3.4280020000000047, 22.378043000000005, 29.983028513785662, 4.288096999999999, 8.830795, 28.86992718328937, 8.697056000000002, 12.565798999999997, 14.356011999999998, 6.107741, 4.373139999999998, 3.244004999999999, 11.101840666857946, 4.515950999999999, 10.056702000000005, 12.412814999999993, 5.304905000000006, 9.530927999999996, 4.738435000000001, 5.241218999999996, 18.238664000000014, 16.3350921875, 28.152699985773303, 11.339859999999998, 9.289704000000008, 3.654797999999999, 8.91259099999999, 7.793102999999998, 11.616381999999989, 13.645168000000002, 8.64088899999999, 11.458598000000006, 25.336434000000004, 10.645087000000014, 18.92740344215393, 7.623546000000005, 8.193202000000003, 9.375808000000001, 8.505040000000001, 4.116404999999998, 4.197170999999994, 10.27548000000001, 4.3694000000000015, 8.462788000000007, 12.546543443359388, 8.468122999999991, 19.07824135039951, 27.328216659179684, 31.022147712152083, 6.501905999999998, 18.28680200000001, 6.777389000000003, 5.785186000000002, 15.25434899999999, 8.266463000000007, 5.579263999999999, 4.924577000000002, 8.173935000000009, 10.28722099999999, 8.018279000000005, 5.255149000000002, 4.258111999999999, 9.254384999999992, 6.145151999999997, 8.890678, 7.236833000000002, 9.085554671087273, 30.20644131644758, 8.31248199999999, 4.847559, 4.253847999999999, 8.42534, 6.896662999999997, 10.528993999999996, 8.267015000000004, 2.7781450000000034, 4.232459, 25.325063312500014, 10.355175, 11.22610276160717, 4.260782999999996, 24.971649999999958, 9.285940999999998, 4.234584, 4.057005, 10.122492000000001, 23.267806446762428, 25.125506666517865, 10.886298000000002, 5.990598000000001, 14.905321000000004, 10.859002999999989, 5.552516000000005, 10.516158, 9.654993999999988, 14.197699, 7.148053999999999, 20.615118999999982, 9.385439000000012, 14.445872000000001, 10.279750999999997, 5.508663000000001, 9.725599999999998, 5.587300999999999, 9.520751999999996, 9.61222000000001, 4.763071000000002, 9.974330999999996, 6.386925999999996, 12.025039000000008, 10.920507000000002, 24.944697779153188, 31.90654122324492, 25.62125734374999, 5.088803000000005, 6.303494000000001, 7.932171999999993, 8.98855800000001, 19.676378500000002, 4.832046000000002, 6.734067999999999, 4.017464999999996, 15.22137812500001, 9.249035999999995, 5.826904999999997, 5.281343, 4.565682999999999, 4.815470000000006, 7.412261999999999, 3.4205150000000004, 5.3225399999999965, 7.195129, 12.012733000000004, 10.198979000000008, 6.940535000000009, 7.0999319999999955, 6.995081000000007, 15.179300125000012, 7.895271999999997, 28.757812633894332, 12.017525000000004, 4.087532000000001, 26.029692694955045, 4.595111, 9.013155000000001, 7.693104, 5.916237999999998, 10.921053000000011, 8.716842999999997, 5.826923999999999, 10.320377999999982, 10.571785000000002, 8.413568000000005, 13.868754000000003, 9.438375999999991, 7.944488000000002, 8.977324000000001, 7.103134000000006, 11.513164999999997, 15.877748999999993, 5.842943, 12.390365000000001, 5.740261999999996, 9.066638000000006, 4.715448999999994, 10.608714999999988, 4.104096999999998, 9.424476999999998, 10.818902188499449, 5.554120000000003, 6.536162999999996, 11.836228999999998, 8.833982999999993, 10.794287000000008, 19.359632336830142, 9.474224999999995, 9.278445000000001, 8.508249999999997, 32.65658816469576, 9.11477399999999, 5.232693999999994, 5.831196000000003, 5.327882000000002, 4.481706000000003, 8.625918999999993, 30.342013501793936, 11.407252999999995, 20.09253100000001, 8.70314633333333, 26.440192915044154, 4.251723999999999, 11.738777166666678, 4.446433000000003, 13.852589156249998, 8.644616000000003, 9.673175999999998, 11.446829000000012, 4.177929999999997, 4.317501000000003, 8.760703000000008, 8.132759, 6.894518, 10.282390000000015, 8.79118999999999, 9.51271899999999, 14.973795999999984, 15.652557999999997, 8.874617000000008, 8.138107, 7.041081, 10.398479999999996, 12.471124000000005, 8.512527999999998, 14.68602244335937, 6.785390999999997, 18.324236999999997, 24.400962000000014, 24.463500539316712, 11.177797000000004, 20.668778148925774, 3.053052999999998, 12.110091000000011, 10.61885999999999, 4.165053000000006, 4.210519999999994, 8.707215999999988, 12.173183000000005, 22.526619, 11.258039000000002, 6.573062000000001, 8.40769, 9.60313400000001, 11.604591999999993, 11.823402999999994, 10.724229000000003, 4.533062000000002, 7.282834000000005, 20.89094621874999, 5.066879000000002, 28.186149488996712, 24.568102874999994, 7.320825000000003, 9.182722000000004, 9.992521, 4.796757, 9.673218999999996, 11.011461999999996, 16.44469699999999, 4.812252000000007, 8.209227, 6.427570999999997, 9.338900000000008, 23.957004, 6.6864709999999965, 11.12342085717774, 3.808282000000001, 9.558195000000001, 8.77249399999999, 5.3273449999999976, 15.985236999999993, 8.984256, 8.265403000000001, 6.950669999999998, 25.653724254152138, 4.263483, 5.2835, 31.0411807372659, 6.187446999999999, 4.249566000000003, 16.89694699999999, 8.747887000000002, 5.506544000000003, 26.32093771776118, 26.51315800000001, 12.675434999999993, 18.69964853377977, 31.781782156120258, 8.943073999999998, 7.068364000000003, 4.622934, 9.495077000000006, 12.725715000000005, 10.275993999999999, 6.334516, 13.291083999999998, 9.735235999999995, 9.947230100830076, 24.488728634161326, 7.674896000000005, 11.808942999999994, 28.76080775000001, 5.491025999999997, 27.469237820312483, 6.089001999999996, 24.804685085681985, 18.66282200000001, 11.811080000000006, 9.112654000000003, 4.5448210000000016, 6.105594000000002, 6.868313999999997, 8.314073999999998, 11.180460999999998, 4.261347000000001, 14.967912999999994, 9.010496000000007, 4.299305000000004, 6.3419959999999955, 4.223339999999998, 6.368207000000001, 21.446703750000005, 7.324578000000003, 7.217067999999996, 8.696530999999998, 10.549326000000008, 7.8327020000000065, 8.445124, 4.512733999999998, 26.841048128084996, 4.152236000000003, 4.065592999999997, 4.869469000000006, 12.266799999999996, 11.243566999999999, 4.1088859999999965, 7.441693999999997, 8.042893999999995, 17.312785999999985, 7.4807570000000005, 11.434535, 2.86157, 11.271400999999994, 8.669755999999996, 7.589868000000013, 5.305955000000001, 12.055512999999992, 11.642610999999986, 5.657368000000004, 10.305937000000007, 7.588812000000002, 5.9098139999999955, 5.6183589999999946, 7.571672000000003, 7.63143816666666, 15.966801500000013, 8.883175999999999, 12.188176000000007, 4.408452, 9.930998, 13.885329000000002, 4.758779, 22.04451674999999, 9.763591000000005, 12.291413000000004, 4.489728000000002, 12.763712000000007, 10.371741999999992, 6.417956999999998, 9.812263999999997, 7.287642999999996, 4.737893000000002, 13.403945999999994, 13.331750000000008, 11.529743000000003, 11.760268000000003, 5.3663900000000035, 10.90715099999999, 8.16860600000001, 7.726268000000002, 4.836861000000004, 26.646355, 10.431121000000001, 5.426297000000002, 21.046765000000008, 5.028870000000008, 10.331618999999996, 16.760040053192146, 13.954419770833338, 29.645045588775606, 6.1275219999999955, 8.102268999999993, 9.382766000000002, 20.042249000000016, 9.262951000000001, 9.658747999999994, 4.186989999999997, 4.264546, 6.924477999999999, 10.224087999999998, 12.564186999999993, 7.222412000000007, 8.454216, 9.617579999999995, 13.455808, 23.2855, 6.869916000000001, 3.1825340000000035, 11.405647000000002, 4.972197999999995, 22.90007900000002, 4.416986, 4.287014000000002, 6.866178999999997, 12.537014655273445, 8.551019000000004, 4.3795330000000074, 19.231921, 11.236094000000003, 9.46031400000001, 10.689987000000004, 4.937454999999996, 12.684531984527903, 4.8309920000000055, 26.926751412885977, 4.835797000000002, 22.93465090626017, 4.760385, 20.95512014524672, 4.8192129999999995, 18.573497999999997, 8.109227000000011, 9.842210000000001, 4.0281220000000015, 11.068148999999998, 23.391982975164655, 20.74346500000002, 10.721013000000001, 12.023970000000002, 10.340177000000008, 19.784146749999984, 9.632562000000016, 7.909707999999996, 19.348707529762272, 20.908141020982143, 9.667304000000003, 3.866054000000002, 6.1708459999999965, 3.9623439999999994, 5.675527999999998, 24.056130333386474, 7.174253999999999, 26.94978202907368, 19.107303999999985, 10.776102999999996, 12.284448542846675, 3.876229999999995, 10.246041000000005, 7.787762999999997, 6.369296000000002, 18.524124062500004, 3.8232820000000007, 5.4279020000000004, 19.075198999999994, 5.620452, 4.465671000000001, 6.756532000000005, 8.129563000000005, 7.279097000000004, 5.421486000000001, 12.637112428573616, 4.296088000000001, 8.648916000000007, 10.353010000000001, 10.580346999999996, 20.397951999999997, 9.132439999999995, 12.633433625, 29.75075638698005, 9.924591999999997, 7.464690999999998, 8.283058999999993, 9.733627999999998, 12.895273999999997, 9.985016000000002, 9.731469999999987, 3.917959999999995, 10.049764, 8.692246999999995, 27.865503525030814, 7.313860999999995, 5.343952999999995, 4.551781000000001, 6.385857999999998, 16.267131999999986, 4.270432000000002, 11.254822999999995, 5.989521999999997, 17.343280000000004, 10.677683999999992, 6.4061660000000025, 7.941804999999995, 10.125687000000008, 8.967176999999996, 22.14665977914428, 9.604739, 8.586341000000008, 7.574887999999999, 9.239973999999991, 16.248893317708333, 14.076816999999988, 5.132124999999999, 10.126229, 9.612217000000001, 5.398494000000003, 7.108494000000002, 10.341783, 8.434964000000006, 10.426844999999998, 8.561191000000003, 10.583031999999998, 10.737046999999997, 9.687660000000008, 10.578211999999992, 5.051346000000004, 9.687092999999997, 7.718240999999995, 4.691361999999999, 4.257075000000001, 8.171792000000003, 9.960410000000001, 12.322417667049237, 7.7428290000000075, 4.633607000000005, 3.601336000000003, 25.533624115692124, 4.32392, 4.844367999999996, 4.550731000000004, 8.820614999999993, 30.658755093750013, 18.825949, 7.625695000000002, 9.808537, 4.924052999999997, 6.3602039999999995, 4.482770999999998, 5.508119999999996, 8.903528999999994, 4.703145000000003, 9.889286999999996, 5.819959999999998, 4.063974999999997, 9.204104000000008, 5.9889660000000005, 9.795673000000004, 13.364880999999986, 10.199508999999997, 25.13165362499999, 12.048578998278474, 7.526742999999995, 13.457959999999993, 7.233616000000004, 20.097338, 4.873775999999999, 8.663333000000005, 12.168387999999998, 23.537536897311366, 4.5544480000000025, 4.926189999999994, 8.89248367108727, 8.571901999999998, 8.967699000000001, 12.570616, 10.124355999999997, 16.20989366704923, 10.625803999999999, 10.15511999999999, 4.619167000000001, 16.085247999999982, 9.758778, 10.669133999999994, 10.346599999999997, 9.77321, 7.064617000000004, 5.865418999999999, 9.128144000000004, 28.135940057087236, 12.295157999999988, 13.287860999999996, 8.409276000000002, 5.1663440000000005, 8.040778000000008, 17.974961360839846, 10.493142999999993, 11.007155999999995, 4.795688999999999, 13.986931000000002, 4.3993259999999985, 11.240388000000006, 5.062591000000008, 10.670726999999998, 8.925966000000003, 10.043858999999994, 4.444803000000004, 5.066320000000004, 14.498030999999994, 5.059388999999996, 12.403715000000009, 11.812701999999994, 3.8569710000000015, 8.752672999999993, 4.644840000000001, 20.391529999999992, 17.001494000000005, 9.466731, 4.246914999999998, 3.8853270000000024, 29.600825050264927, 10.952612999999996, 5.497423000000001, 13.832905000000007, 5.3262670000000005, 8.272349000000002, 3.669748999999996, 18.75641399999999, 16.466069000000022, 8.729658999999984, 7.051238, 10.719411000000006, 10.457588999999999, 24.036678999999985, 10.25111633333333, 4.297192000000004, 5.163130999999996, 3.857511, 6.448441999999995, 31.927100115216746, 4.426082999999998, 10.896999000000008, 10.999144000000001, 9.484919999999994, 6.449505000000001, 9.341038999999997, 9.919242999999987, 6.1729949999999985, 8.753202000000005, 9.764653999999998, 7.228289, 11.337712999999997, 9.928865000000014, 6.753848999999997, 4.577446000000005, 5.081855000000005, 4.014218999999999, 10.342344000000008, 8.436038999999992, 7.954632000000012, 23.180582363769528, 8.548371999999997, 8.510359999999999, 30.207249593749978, 17.20850199999998, 5.114994000000003, 9.936347999999999, 10.435900000000014, 13.689031, 9.874290999999992, 3.825949999999994, 5.355685999999999, 9.936363000000005, 8.383606999999998, 9.250648999999997, 4.879129000000002, 8.064292999999997, 5.717816999999997, 4.469423000000003, 9.120671000000007, 4.867897999999998, 5.885766000000003, 10.379214000000008, 9.873228999999997, 9.423925000000004, 12.555621, 14.571037999999998, 16.753847999999987, 7.547601999999999, 29.46984725721131, 9.296105999999996, 5.627945999999995, 16.771610688463618, 3.6296689999999967, 13.710428000000002, 8.969836000000003, 8.252039999999997, 4.931555000000006, 4.563036999999997, 5.930152999999999, 4.068803000000001, 3.9661180000000047, 9.058100000000001, 3.8243259999999952, 4.928867999999997, 7.014860000000001, 9.042043000000001, 8.497541000000005, 3.7842519999999995, 5.735999000000001, 10.873460000000007, 9.425021999999993, 5.499589000000001, 8.26380600000001, 11.610777000000006, 9.178970999999995, 29.17587864062499, 4.267236999999999, 4.527716000000006, 9.446941999999998, 5.230553000000009, 10.696417000000002, 11.54363200000001, 6.039257999999993, 24.285242265625005, 11.074578000000004, 27.021053814801174, 4.464046000000005, 5.1048569999999955, 21.669333000000005, 28.045855670346974, 3.9361520000000025, 9.284870999999994, 9.844358999999995, 10.223051000000003, 12.194578, 13.439245000000001, 11.266047, 8.114541999999998, 15.288299999999994, 8.270479000000005, 12.267341999999994, 5.211808999999997, 12.37317325000001, 10.900203999999999, 9.774282999999995, 8.793326000000004, 6.722294000000001, 14.40469600000001, 5.979893999999993, 3.906184999999999, 9.743284999999993, 5.127312000000001, 21.832487000000004, 6.418477999999997, 9.905329999999998, 3.795996999999994, 30.41450911772993, 4.764677999999998, 14.507373000000003, 7.316520999999995, 8.681539000000004, 5.013891999999998, 14.827230000000009, 9.146348, 22.060646325221427, 3.3638319999999964, 4.687628999999996, 8.944692000000007, 30.489318532600578, 23.98855699999997, 4.659813999999995, 5.504380999999996, 7.312241, 7.376435000000003, 9.518071999999995, 10.559999000000007, 22.613379999999996, 8.976428965400338, 14.932070000000003, 7.7535179999999935, 14.343185000000004, 4.493485, 29.300872459765227, 6.525991999999999, 9.796203999999996, 5.092542999999997, 5.841900999999996, 14.766272000000004, 21.35581984375002, 11.506217000000001, 12.250738443359383, 9.506845, 14.39024999999999, 13.033277999999987, 5.525804999999995, 8.783165999999994, 11.243576000000003, 6.958711000000003, 5.240688999999998, 12.467367999999997, 3.529664000000001, 8.941478, 6.822336, 6.301359000000003, 4.572106000000005, 11.09917500000001, 10.809274999999989, 4.715992999999998, 29.239959, 22.449905351263457, 9.741119999999999, 8.985875999999996, 8.877819999999993, 19.956684000000003, 5.574454999999992, 4.4544530000000035, 5.898077000000005, 13.772999999999998, 4.339981000000002, 5.057246000000001, 5.372820999999998, 11.003971000000002, 4.2838030000000025, 8.374524000000006, 9.313752, 7.062479000000003, 9.320179000000003, 5.063656000000001, 8.228491000000007, 6.261252000000004, 4.4875880000000015, 11.557564, 25.3932599495712, 7.263599000000002, 15.802837000000002, 15.943532999999988, 25.429396968629877, 14.065573999999996, 11.880085000000001, 9.408418999999993, 6.056918999999999, 7.694147999999997, 4.848091999999997, 3.8024110000000007, 4.732029999999997, 13.532838999999994, 8.222075000000004, 4.898901000000003, 9.777489999999991, 20.943800249999985, 15.683302749999998, 24.949904337239612, 3.6365850000000006, 4.381687999999994, 3.3943029999999994, 6.614785, 5.644528000000003, 4.279539, 16.561284000000004, 8.524804000000007, 29.654868617057787, 7.206351, 20.141762999999983, 8.020431, 10.384032000000005, 5.954751, 15.376039000000008, 18.704539000000008, 27.825319373458868, 9.936357999999998, 6.975837, 6.66615, 29.470733808043455, 3.7371499999999997, 8.142906999999994, 30.33959041803715, 4.7956670000000035, 4.250639000000003, 5.293125000000004, 23.04275583958348, 11.962455, 10.53221611328125, 4.152229999999998, 10.455164999999997, 2.911853000000001, 16.321671999999985, 27.406684105998675, 8.140234999999999, 10.005326999999996, 25.321925643901814, 4.883407000000002, 8.490054999999995, 8.810444999999998, 7.258217999999997, 9.115338, 9.011522999999992, 5.098408999999998, 25.14889539350547, 4.941131999999994, 4.850235999999997, 18.27503300000002, 21.881505768615717, 4.8791110000000035, 4.435709, 21.32561299999998, 10.720484999999995, 9.245296999999997, 5.019786999999996, 13.461164000000002, 4.916036000000007, 8.299092999999996, 9.705302000000003, 7.689870000000002, 32.025839856906096, 10.449290999999993, 23.677609960842023, 31.12213128306156, 2.997444000000002, 9.904785999999996, 4.405243999999999, 8.32211900000001, 4.116381, 3.6981069999999976, 5.210194999999999, 11.230747000000003, 13.015099999999995, 8.414094999999996, 8.716295, 10.096707571592223, 10.84565100000001, 4.975394999999999, 11.407261, 9.571015999999993, 32.1450318399977, 30.16718107188158, 3.744113000000001, 4.9845029999999975, 4.962575999999999, 5.227858000000002, 8.386306000000001, 7.889395000000005, 9.68068, 11.022687000000001, 5.420443999999998, 5.426295000000003, 9.357622999999997, 12.213306999999995, 30.679173296874968, 6.698721000000002, 10.052427999999994, 10.413986, 12.246490000000009, 4.8523879999999995, 3.374509000000002, 8.046093000000008, 4.090187999999999, 6.169776000000008, 27.179497845236828, 6.153720000000001, 4.360830999999999, 17.120254999999997, 11.971015000000005, 4.0404189999999955, 13.667105000000003, 12.411725000000006, 8.625378000000003, 12.206883000000005, 14.56193099999999, 13.990697000000004, 5.157247999999999, 14.181293671087264, 5.406502999999997, 5.307027000000001, 9.29824900000001, 7.459369999999998, 7.335260000000003, 4.389740000000004, 11.541524999999995, 14.887694000000018, 11.781679999999996, 4.888199000000002, 5.2070069999999955, 3.2825289999999985, 7.288731, 6.154262999999998, 4.3174899999999985, 9.415394000000006, 27.98709224074382, 3.716280000000003, 4.577448, 6.279937000000002, 4.518605999999998, 7.4042330000000005, 5.346060999999999, 4.368851, 11.018934999999999, 4.733094, 11.755471, 5.008562000000002, 8.527504000000006, 4.316435999999997, 5.879340999999996, 14.771089113281244, 10.239092999999999, 12.847954999999992, 8.571360999999998, 8.96771599999999, 14.709581999999997, 4.714926000000002, 8.142905000000006, 22.55539810982132, 20.339616856652, 14.83899999999999, 13.06643699999999, 8.030607, 8.442448000000002, 12.305321000000006, 3.4140890000000006, 9.169892999999995, 4.047936, 16.117349443359377, 11.990276999999994, 13.200152000000001, 6.901469000000003, 8.227974000000001, 7.220812, 8.626969667049229, 4.867354000000001, 4.140444000000001, 14.332483000000014, 11.917556999999979, 4.394003999999996, 29.801035719835298, 9.199838999999994, 7.865847999999996, 14.045795000000004, 22.992744490426574, 4.479047999999999, 9.956669999999999, 8.476159000000004, 12.16728900000001, 7.576486000000002, 7.1689080000000045, 8.050361000000002, 7.123448, 7.745487000000001, 9.032689333333341, 9.48490699999999, 9.080547999999999, 9.233528999999997, 3.8505519999999986, 5.650925000000002, 18.43470032446543, 9.691920000000003, 4.289145999999995, 4.866266999999996, 16.83832562939453, 3.8195630000000027, 9.218542000000005, 12.509093999999996, 8.485773999999997, 8.032740000000008, 9.932597999999999, 8.109738000000014, 5.463208, 14.021487645833345, 11.983318999999986, 9.871105999999996, 3.9388010000000007, 5.2385629999999965, 8.911525000000001, 27.07195895836587, 27.588809414388002, 17.881907993369104, 5.141737000000003, 8.981062999999999, 11.363951999999998, 4.850784999999996, 29.20021385921028, 6.2986869999999975, 8.454226, 11.225937999999996, 4.633105999999994, 3.7077220000000026, 6.411001000000003, 10.193630000000008, 23.92652900000002, 18.07607100000003, 12.608569999999984, 7.258251000000006, 15.849013613281258, 17.23525000000001, 4.014776000000001, 5.27095316666667, 5.457852999999999, 32.212368247333046, 5.870771000000003, 28.20016605522458, 6.593384999999997, 4.743263, 3.908349, 18.202554499999994, 3.8574900000000008, 13.546744000000007, 13.148804999999996, 3.0423569999999978, 10.421601499999998, 11.508889999999994, 25.544406092099283, 23.792801, 13.620941851074214, 8.971972999999991, 10.978306999999994, 9.886072000000002, 8.826482999999998, 5.092558999999997, 9.830715000000001, 6.306677000000004, 11.012227000000001, 6.587511000000001, 10.011243000000002, 10.363181999999997, 4.137796999999998, 10.615336625000003, 32.156618380519696, 25.93021500896483, 15.574445000000019, 6.611045000000003, 31.57013824032299, 13.905103999999993, 20.988972000000008, 4.658769000000005, 9.844355000000002, 15.18808609375, 11.418858514282224, 4.210543000000005, 5.935494000000002, 28.619796653320346, 4.191266000000008, 9.108908999999997, 7.620331000000001, 10.877749999999997, 10.565888999999988, 4.699935999999998, 4.345301000000004, 5.450911, 3.770338000000001, 7.7166359999999985, 14.543215000000005, 21.743215250000002, 9.638977000000006, 4.825082000000006, 7.344349000000003, 14.223379999999997, 10.594778999999994, 6.314171999999998, 8.574024, 11.816967, 6.675220999999998, 9.405768999999994, 7.547090000000001, 11.398701000000003, 11.113245671087261, 8.308203, 10.900223999999994, 20.324146000000013, 16.510494000000005, 11.583236000000001, 10.874523, 25.550997995010558, 7.879120499999995, 10.396881000000006, 8.840419000000011, 4.874834999999994, 9.689228, 13.347792999999998, 6.889190999999998, 14.067193999999994, 14.153309000000004, 6.618515999999999, 4.110526, 6.614779999999996, 7.275889000000002, 25.583558999999994, 10.468022000000001, 10.976131000000002, 6.525462, 12.02288700000001, 6.231292999999998, 3.120482000000002, 7.351856000000001, 7.700588, 6.463417999999997, 14.701774914285672, 21.05575549877052, 11.369810999999997, 5.183979999999996, 13.544070000000012, 10.731167000000001, 7.646559999999998, 11.581083, 8.500223999999996, 4.454457999999995, 10.179200113281258, 7.634801999999995, 7.396241000000003, 12.079062000000011, 9.871626000000013, 15.477482855133049, 7.381268000000007, 8.377213, 9.149007000000005, 9.363517999999996, 12.010052, 7.234712999999998, 21.02789248728045, 7.234706000000002, 10.731697000000002, 11.750127999999993, 15.572857000000008, 10.884670000000005, 11.365013999999997, 22.004172999999973, 5.805510999999996, 3.913117999999997, 17.934847999999995, 8.994437999999997, 6.259084000000004, 10.665920999999999, 4.692445999999997, 8.523748000000003, 10.606528000000008, 8.360609, 26.280723526562852, 14.186729000000007, 19.62131500000002, 9.481173000000009, 6.077214000000001, 9.241017000000001, 6.299740000000001, 4.537366000000004, 6.203982000000002, 9.50147399999999, 4.285384000000004, 15.838304500000014, 7.781339, 8.945227999999998, 17.623555000000007, 10.810345000000023, 8.656378999999992, 10.019249999999998, 6.712681999999998, 12.803793999999996, 5.458932999999998, 24.927348874983714, 10.279716000000006, 7.941817000000002, 5.060979000000002, 28.374898569124415, 11.239849000000001, 7.572219000000001, 5.462134999999995, 4.695108999999999, 5.571787999999999, 8.58153000000001, 10.471224, 8.558510999999989, 31.539967148595018, 4.243703000000004, 8.511450000000002, 6.168156, 8.064288999999995, 8.532831999999999, 7.912928999999995, 22.076381000000016, 8.012403999999998, 5.803373000000006, 10.512399999999996, 5.4749460000000045, 26.462140119247902, 11.612655, 31.14747276437216, 4.337801, 17.09241, 29.227057029489412, 22.01620450000001, 10.46215, 28.011814691970994, 11.47840999999999, 17.403745000000022, 4.560881000000002, 5.279225000000004, 5.188811999999998, 16.996073139461522, 30.538896173278793, 5.192012999999995, 5.503336000000005, 10.992720000000002, 5.699082999999997, 14.908901115692142, 5.765388999999996, 11.741557999999996, 4.360849999999994, 4.9304529999999955, 11.818033, 6.103443000000003, 7.336337999999995, 11.002889999999997, 5.2658460000000025, 9.229243000000006, 19.776953000000006, 8.793318999999997, 22.402792008789064, 5.0609800000000025, 11.216847999999997, 13.397489999999983, 10.158858999999998, 5.2947169999999995, 10.949942999999998, 11.232351, 4.075196999999996, 7.367333999999995, 4.368872000000005, 11.619609000000015, 4.571587000000001, 3.679953000000002, 8.957000999999998, 17.063015999999998, 15.303914738281255, 27.230582664456357, 12.042152000000002, 19.916033, 5.413470999999999, 26.46428781092841, 3.329618999999998, 10.41826800000001, 4.214264999999998, 5.642395000000002, 10.865430999999996, 17.744158249999984, 3.980006999999999, 22.501265161007026, 6.559167000000001, 6.055318000000001, 19.306274000000013, 6.086864999999998, 9.551235000000002, 9.422881, 8.579369999999999, 9.496693000000004, 29.626136427327754, 4.051125000000002, 8.703462999999996, 11.472519999999983, 3.1734330000000033, 18.732887999999992, 10.020323999999993, 30.005452926793527, 11.091149999999997, 8.165904999999997, 4.345852, 8.467604999999994, 4.735596000000005, 14.095000000000004, 6.050487999999994, 21.201322, 10.164732999999995, 4.325516999999998, 6.3093739999999965, 20.883258666076646, 3.9634199999999975, 8.379874, 12.857836000000013, 16.47091300000001, 8.239188999999998, 14.611168000000005, 7.2031439999999956, 11.170857000000007, 15.75149100000001, 4.201966000000003, 9.443908193359366, 21.344140000000007, 6.437743000000001, 5.872921, 10.311296000000011, 6.822311000000002, 4.834189, 10.892705999999997, 18.22584000000001, 14.680664, 30.078148713704, 3.889072999999998, 4.65502, 13.197480000000008, 5.593183000000002, 10.755786999999998, 8.039680999999995, 6.812155000000006, 4.765726999999997, 15.612405000000006, 4.847046999999996, 5.933363999999999, 10.928781624999997, 13.418905000000006, 6.575206999999997, 8.880514, 4.432502000000002, 7.892599000000001, 5.288301999999998, 4.756622000000004, 4.486517000000001, 21.922927229150403, 10.348208999999992, 26.19573868200491, 12.391980000000004, 9.295586, 6.70357600000001, 5.6456139999999975, 12.757813999999998, 5.312913999999995, 9.996976684349058, 4.629851999999998, 23.661799082923952, 4.057562999999999, 15.210204999999998, 8.099049000000003, 12.381262000000007, 13.772467999999996, 8.817942, 6.268731999999996, 4.909065, 6.9838369999999985, 9.162935999999998, 8.33012566590154, 7.740681999999992, 15.134793999999998, 17.417104, 27.75562364117289, 6.755985000000003, 26.641564000000027, 12.249689000000004, 4.373141, 5.592103000000001, 8.217266999999994, 8.430685000000008, 6.739943999999996, 13.452079, 29.991825162580348, 13.951120000000003, 13.134920000000015, 15.421506000000008, 9.99089200000001, 26.927875683593744, 7.903278999999994, 3.6446149999999995, 8.666573999999988, 21.675233, 31.731986553991263, 20.229387002247805, 9.141001000000003, 4.580129000000002, 8.451008999999994, 4.336217, 24.45882345299484, 10.986309000000006, 14.005133999999998, 11.170846000000004, 9.754497999999995, 9.109971000000005, 5.182387000000003, 8.775683999999998, 12.39731199999999, 8.973589999999996, 10.106988999999993, 8.118304000000002, 8.229583999999996, 8.390592, 8.34884899999999, 4.0014020000000015, 8.544619000000004, 8.582031999999996, 9.773224999999995, 13.984820999999997, 12.808606000000003, 9.594040000000003, 9.126019000000007, 11.28511399999999, 8.051988999999994, 10.120895999999997, 20.181115187499994, 11.370351999999995, 24.478421166942972, 8.658532999999998, 11.314208999999996, 11.160692000000006, 4.224448, 5.337489999999998, 4.4581889999999955, 8.533911000000003, 22.631046000000012, 7.287662999999997, 15.31681458721923, 6.241994999999998, 27.462545878241425, 7.7487169999999965, 16.50781800000001, 3.8334320000000024, 28.218887994675974, 6.406695000000001, 7.880282000000002, 12.840174999999999, 7.898482000000004, 9.473173000000008, 6.0269639999999995, 8.506097000000002, 7.471119000000003, 12.286611999999998, 5.684096999999998, 4.797816000000001, 7.7353190000000005, 10.778249000000015, 19.192356124999996, 13.20323281607055, 12.542265000000011, 27.348458029726444, 3.257389000000003, 5.075974000000003, 10.083433999999997, 5.793777999999999, 4.620771999999998, 20.101889500000006, 5.6985430000000035, 4.339417999999997, 4.021718999999997, 28.258544562500006, 12.290885999999995, 8.471329000000003, 8.970384999999988, 10.213943000000006, 10.435389, 10.555189999999996, 13.655294999999999, 10.65308100000001, 13.01812234217453, 5.139073999999999, 26.766431949792267, 10.417742000000002, 19.613846999999993, 7.7000389999999985, 12.474315, 4.0794989999999975, 7.552961000000002, 4.589200000000002, 6.8298010000000025, 6.124314999999996, 9.228196999999996, 6.787552000000002, 4.070943999999998, 10.629548999999987, 6.964076000000003, 25.090293333386466, 15.24068499999999, 9.10568099999999, 4.014776999999999, 9.251713000000006, 11.936781999999996, 3.211921, 7.033068999999996, 9.637871999999998, 3.2857379999999954, 4.3105590000000005, 7.865337000000002, 26.83731600000002, 12.083349000000009, 22.861622145833362, 11.678430000000008, 8.011876000000003, 7.6487179999999935, 13.520032000000008, 8.991764, 8.525892999999996, 5.178647999999997, 9.005672000000006, 5.739203000000003, 14.615929571777345, 22.847699779657365, 22.753941100585912, 10.293653, 10.030510999999999, 11.02533800000001, 9.055413999999997, 3.708299999999998, 4.617057, 10.13427000000001, 9.416985000000004, 7.670618999999988, 13.462235000000003, 11.963526999999994, 9.114259000000006, 3.9532249999999975, 10.398748999999999, 3.9131459999999962, 21.76650661718749, 11.936247999999999, 7.019682000000006, 4.942779999999994, 4.696718000000001, 3.322645, 12.910789999999995, 10.334307, 16.339312999999994, 5.194711999999996, 4.240479, 11.709451000000003, 6.315241000000004, 3.254162, 11.624422000000006, 12.195647999999997, 4.699943000000003, 7.943408000000001, 10.049743999999993, 11.629766000000007, 5.056708999999995, 6.668793999999999, 23.247680952981696, 17.379114999999995, 19.801655499995924, 18.232766273437505, 4.189663999999996, 7.656715999999999, 9.19714899999999, 7.111128999999994, 8.526442000000005, 4.137794999999997, 9.448530999999994, 19.190745000000003, 11.235571999999996, 10.124613000000009, 8.477762999999996, 5.768625999999999, 5.113931000000001, 12.052832000000008, 27.767589000000008, 10.254612999999992, 3.5927269999999987, 4.812799000000004, 12.989392773437496, 9.477956999999996, 7.894207, 16.388543999999996, 7.8048999999999955, 8.337102, 10.929079000000002, 3.7313029999999987, 9.978071999999994, 11.683796999999995, 14.778578000000012, 8.862873000000008, 23.179556875000003, 8.109754999999996, 4.636271000000005, 5.219315000000002, 4.845963000000005, 9.230324000000007, 9.125482, 5.899652000000002, 9.753962000000007, 9.759848999999999, 7.189242999999997, 26.24927171875001, 4.121214000000001, 8.134901999999999, 4.362950999999997, 5.646122000000002, 5.4444849999999985, 10.93069400000001, 10.521520000000004, 10.278852100830074, 10.530584000000003, 12.76687095680308, 12.783831333333332, 10.999693000000002, 7.988350000000002, 30.130370499999998, 19.36564, 9.288626000000002, 6.691268000000003, 24.470186036670874, 8.377187000000006, 9.701544, 9.298787000000003, 7.210634, 7.591473999999996, 21.965860500732727, 5.255702000000003, 10.207536999999995, 5.131063999999994, 28.10113205479295, 6.040338000000002, 8.299101000000006, 3.8088399999999973, 4.586041000000005, 12.132001000000002, 14.38888720944214, 3.0632470000000014, 6.646894999999997, 7.678652, 21.836767, 11.936264999999985, 9.613302, 4.423956999999999, 14.151163000000004, 16.731470015624996, 3.8896129999999944, 10.195223999999998, 9.242609000000005, 14.602597000000003, 5.096792000000003, 8.422139000000001, 5.327881000000002, 5.065799000000009, 4.397739999999998, 7.958898999999999, 17.045370999999992, 10.182389999999996, 7.725189, 9.113737, 5.4364439999999945, 5.403283, 5.451981000000002, 9.679606999999997, 6.6538200000000005, 17.277511999999994, 6.462340000000004, 8.750939000000002, 9.818672999999997, 11.403521000000003, 11.420615999999997, 9.235686999999999, 16.623852000000017, 22.880294999999983, 8.015097999999998, 7.086010999999996, 17.181355249999996, 18.405552999999976, 7.855878166666657, 9.153852000000008, 4.3966759999999985, 8.760148000000004, 10.708164999999994, 10.653625, 4.982351, 5.173828000000003, 5.920516999999992, 11.40938600000001, 6.740483000000004, 24.84187034985221, 10.290454999999987, 23.906001000032543, 18.539796, 8.893350000000005, 6.891851000000002, 6.079399000000003, 7.197250000000005, 7.273769, 7.7599509999999965, 7.2234539999999985, 8.626444999999984, 7.5299570000000005, 5.148167, 10.734376000000003, 5.158850000000001, 9.191265999999999, 17.426714000000008, 12.137344999999998, 11.502993999999996, 6.000239999999996, 12.375901999999996, 16.47062351953125, 4.605270999999998, 10.637569999999997, 13.55638399999999, 5.725283000000004, 10.23001399999999, 9.272563999999996, 9.725090000000002, 9.124930999999997, 7.974454999999994, 6.747421000000002, 4.257598999999996, 5.436452999999999, 8.828095000000001, 4.371513999999998, 24.03137892684647, 10.742928999999986, 3.5333740000000016, 7.0512409999999965, 8.169135999999995, 4.748086, 5.912496999999997, 7.493054999999998, 3.9318529999999985, 24.74487499999999, 4.198784999999994, 8.269164999999997, 11.283163999999998, 5.1674269999999956, 3.056241999999997, 7.689342999999995, 24.305286468749998, 4.487035999999998, 10.305415000000005, 15.789473000000003, 11.873150999999998, 8.655859999999997, 4.676398000000002, 15.033681999999988, 27.265394168945313, 4.3608220000000015, 5.432215999999996, 10.219863, 7.469493999999993, 3.514660000000003, 7.319207999999998, 9.542144999999998, 11.179922999999995, 15.967042000000001, 7.5556349999999926, 9.139404000000011, 7.3063679999999955, 8.991771999999997, 10.487287000000006, 2.7733080000000006, 5.9445899999999945, 10.616721999999996, 11.220583443359372, 9.598845, 8.64464600000001, 3.870881, 6.921802000000002, 4.222275999999999, 9.58867900000001, 11.699272000000002, 6.167118999999993, 13.517342000000006, 10.077552999999998, 7.720370000000002, 6.507292000000003, 4.592941000000004, 10.985774000000006, 5.739757, 8.598646, 16.196531000000004, 10.172234999999997, 10.547693000000002, 11.122717, 8.657461000000005, 21.709992000000003, 12.790957, 7.5133490000000025, 29.73067625000001, 21.98196267109066, 7.907059000000007, 22.112736000000005, 3.447259000000005, 5.176531000000001, 20.816569335543655, 12.074792625000004, 13.385760999999992, 22.973643916921624, 7.268385000000002, 8.668704999999996, 9.043647000000004, 8.897634000000004, 9.119600999999989, 19.054942624999995, 6.713189000000004, 13.963933000000015, 9.906411999999994, 10.604422, 7.4433060000000015, 16.603564113281248, 16.393375999999996, 12.030918999999992, 10.644001999999995, 10.867572000000004, 6.156919000000003, 10.553054000000001, 9.336221999999998, 11.462349999999997, 10.195761000000003, 14.25011300000001, 31.61564082750995, 30.46834650715638, 23.861633999999995, 24.8312155357753, 7.729995999999995, 22.485584489556768, 9.00676100000001, 23.566512395246708, 12.38386900000001, 6.442569999999998, 10.72690200000001, 4.610606000000001, 12.510167000000001, 7.878687999999996, 13.315150999999997, 21.972083, 3.7163089999999994, 5.561096000000003, 8.64409, 10.678216000000004, 9.299309, 14.252004593749998, 6.1259010000000025, 4.397201000000006, 12.132553, 8.809360999999996, 10.080794000000004, 8.229564, 10.240166000000002, 8.198025, 4.114782999999997, 6.283158000000001, 10.527398, 6.622279999999996, 8.252035000000001, 6.773634999999997, 4.963956, 8.824900000000001, 26.257407855102542, 6.735126000000005, 4.407887999999999, 18.113505999999994, 6.391198000000003, 16.266619605685772, 15.213052525207523, 9.883398999999995, 15.980535241851822, 19.330578078124994, 7.521397999999998, 27.87124000000002, 17.987283999999985, 9.464571999999997, 7.609643999999996, 7.1512629999999975, 4.2666729999999955, 11.107190999999991, 11.295472999999998, 9.713293000000009, 12.397309000000002, 4.3046679999999995, 4.841445000000002, 8.052004000000002, 9.084831999999999, 8.64785799999999, 11.248365999999987, 7.157169000000008, 5.3695960000000005, 4.039927, 4.4565709999999985, 28.653551915117625, 25.00427612500001, 9.109967000000006, 7.878698000000001, 5.042774000000003, 9.569970999999997, 4.612220999999994, 9.267752999999997, 14.361264905499395, 8.360610000000003, 10.967596, 6.902535999999999, 21.298093765624998, 4.524501000000002, 11.298157000000018, 7.731600999999995, 9.969528999999998, 16.074587, 26.462275248501793, 7.810769000000004, 10.170623000000004, 5.882022000000006, 6.613728999999994, 2.909148, 13.347787999999994, 12.58578175, 7.527818000000002, 6.766139000000006, 4.274716000000002, 14.575311999999998, 4.304642000000005, 14.509526999999993, 13.064300999999999, 6.173515000000002, 2.7557010000000015, 11.645794999999998, 5.793223, 23.721652500000015, 6.197585999999997, 9.380635000000007, 15.143939273439544, 7.030375000000004, 7.318658, 13.636080000000009, 10.918912000000002, 2.480746000000002, 5.8964479999999995, 4.248518000000002, 8.007599000000013, 4.809058000000001, 22.240465500000013, 9.215876999999999, 30.120843662818594, 14.956668, 29.500482974106053, 10.173280000000002, 9.675326000000002, 5.533808999999996, 8.999248, 9.591002100830083, 4.618641999999997, 27.435060904083247, 5.009630000000004, 8.337629999999999, 9.596708000000001, 4.500419, 8.176087000000003, 7.548656999999992, 15.576054000000022, 6.941049999999999, 7.352359999999999, 6.751184999999998, 17.795779999999983, 3.810448999999994, 23.788085357936193, 22.184959999999997, 8.207649000000002, 14.526107000000007, 4.6191649999999935, 12.411219, 10.23480299999999, 31.253627136780747, 22.250233999999995, 8.725927000000015, 5.710849, 9.688696, 24.626869131000667, 5.191516999999993, 11.859738999999992, 9.744336000000002, 10.61885999999999, 12.807377514282225, 25.218246000000008, 4.700465000000006, 8.115636000000002, 9.013679999999995, 9.138879000000001, 9.618100999999989, 7.126647999999998, 8.556912999999996, 6.842645000000001, 5.717293000000003, 9.589218999999998, 5.081836000000003, 7.599479999999997, 7.700586000000008, 3.441901000000001, 5.960617999999999, 16.152662999999993, 31.187685094107806, 19.351178000000008, 14.190739, 5.725813999999996, 10.975064000000005, 5.011776000000001, 6.056897999999999, 4.690862000000002, 4.901569999999998, 7.823610000000006, 22.06226996406501, 4.507391999999997, 31.07880368693104, 11.970469999999994, 4.883913000000002, 9.192332999999996, 23.124498181202107, 9.480637, 6.831402999999999, 5.228370999999998, 11.533486000000005, 7.141617000000002, 4.334608000000004, 10.821044000000002, 29.64827302173483, 11.247856999999996, 5.013887000000002, 15.680062406249997, 20.115006000000008, 7.330973000000003, 7.549732000000002, 4.852927999999998, 27.923174183284512, 25.324605191823835, 5.724220999999995, 7.800606999999997, 29.72117804269314, 3.8751699999999984, 8.671922000000002, 15.708177999999997, 6.580558000000001, 26.100833558481938, 4.547492999999999, 5.76915100000001, 12.114343999999994, 5.907687000000001, 4.898377999999996, 12.341150000000006, 11.647398999999997, 4.1072809999999995, 7.874946, 7.536893999999997, 8.812050666475388, 9.070920999999995, 6.705180999999995, 10.639726999999993, 4.256525999999995, 10.457873999999997, 17.66635599999999, 9.42554499999999, 9.824021000000009, 22.759194410892086, 8.019895000000002, 5.944577000000005, 5.106427000000002, 4.746448000000004, 5.183485000000007, 13.110292000000008, 11.439889999999997, 25.972944000000005, 9.770251625000002, 10.385104999999994, 9.321238999999998, 5.348208, 10.944044000000012, 9.606873000000002, 5.1524509999999974, 10.614583, 3.911535000000002, 4.223913999999999, 6.5061839999999975, 9.943288000000004, 8.477746000000009, 18.010332788427352, 10.117122999999998, 17.215495312499996, 6.2098910000000025, 7.309770000000006, 10.521494000000002, 7.901157000000011, 12.39411299999999, 11.28638300000001, 12.742302000000011, 9.808502000000002, 9.411637, 29.633539665044445, 7.215988000000003, 3.470775999999999, 5.993795999999994, 5.034781000000004, 8.469748000000001, 9.466172999999992, 8.464925000000001, 12.774389999999997, 4.220140999999998, 7.096192000000005, 29.249434968429572, 4.490785000000002, 13.877606654901653, 6.776862999999995, 5.95476, 5.258347000000001, 11.373561000000004, 24.492321625000013, 16.950681999999993, 17.47640477553754, 11.293066375000008, 10.629566999999994, 9.565143999999993, 8.283579000000003, 4.449619000000004, 9.042576, 26.4494175714343, 15.690513999999993, 6.876346000000005, 5.456790000000001, 5.880955999999994, 6.8314059999999985, 23.625793156249994, 3.8083220000000018, 30.725281956837108, 8.384143000000003, 13.931876999999991, 4.583870000000001, 7.936451999999994, 8.263798000000001, 17.278564000000006, 12.998680613281254, 9.145831000000005, 4.757711000000001, 10.959037999999998, 7.466301000000003, 26.18435545312501, 8.700768999999989, 29.936092500000008, 5.1722510000000055, 7.838611999999996, 12.394101999999997, 6.412615999999997, 4.801028000000001, 17.681877411926273, 4.431962999999998, 4.433555000000007, 8.208703000000003, 3.4376600000000037, 9.519145999999996, 21.55702700000001, 20.425654852008815, 10.777178999999995, 26.83528200128174, 29.24784125000001, 18.47548211741065, 8.559041000000013, 4.962022000000001, 7.8311, 15.646116999999986, 4.506309999999997, 30.779983003385436, 7.673309999999995, 10.063655000000002, 3.974650999999998, 10.514558000000005, 11.649000999999993, 30.5806883828125, 10.85848199999999, 14.104087000000009, 30.89891530773817, 23.83772299999998, 19.26563499999998, 14.557669000000006, 12.855160999999999, 6.4548470000000036, 11.508365999999999, 9.031881, 18.911535, 10.374958999999995, 4.836314000000001, 11.957107, 18.1875755, 4.868941000000007, 6.597677, 7.5037429999999965, 14.2123236875, 5.256742999999997, 18.247225000000007, 12.245929999999996, 5.438086000000003, 11.468223000000005, 9.764137999999997, 5.643452, 6.045677000000003, 25.855275999999993, 8.058936999999997, 5.515623999999997, 6.455944999999998, 20.035318999999994, 13.724876000000005, 11.240910000000003, 4.825104, 3.834503999999998, 8.349387, 3.814733000000002, 5.885228000000003, 13.801190386718744, 5.970801000000002, 8.920097, 11.69342299999999, 10.799627000000003, 6.437735999999997, 9.25012900000001, 8.034322000000001, 11.271390000000002, 10.983099999999995, 4.128152000000001, 8.785295000000001, 7.809137000000004, 8.101726000000001, 5.690549999999995, 5.535409000000002, 9.546427000000003, 5.249251999999996, 4.732038999999995, 23.048629820312485, 3.309240000000004, 10.887873999999986, 22.030650218749994, 9.128700999999992, 7.115422999999997, 9.749161000000004, 4.369925, 4.357601000000006, 13.436552999999993, 10.902894000000014, 25.388837000000002, 7.786680999999994, 8.766053999999999, 12.258593057128914, 10.698011999999997, 15.418825999999994, 4.706343000000003, 8.853243999999998, 9.440013000000004, 12.002574, 5.360509999999998, 10.225156, 8.074992000000007, 8.038077999999999, 7.069942999999992, 31.324815438020746, 25.351940000000013, 10.008032000000009, 4.880715, 4.7609129999999995, 16.36341399999999, 11.607285999999993, 4.339432000000001, 8.407131000000001, 10.460548999999999, 12.953045000000008, 6.762961999999999, 4.419104999999995, 12.285518999999992, 11.788076, 7.074236999999999, 14.993600000000015, 4.9117530000000045, 13.844136000000002, 20.054222624999998, 10.131059000000016, 21.16851093147277, 8.152017000000003, 9.330336999999997, 8.765001999999994, 23.9716431220932, 12.099888000000012, 10.982036000000003, 29.089867149124167, 12.314407, 7.074242000000002, 29.799892659646513, 9.303047000000014, 13.471860999999997, 8.726469999999999, 5.774500000000001, 10.409196999999992, 4.863613000000002, 4.193952999999997, 11.520656999999998, 11.302954000000001, 5.0844919999999965, 5.113390000000001, 5.688405000000005, 8.584196, 10.956361999999991, 3.7580109999999998, 4.030261, 4.686007999999998, 7.760466000000004, 12.586128999999998, 6.430249000000001, 22.49740819808554, 8.326383, 3.5456760000000003, 11.445782000000008, 5.2989950000000015, 12.978174999999991, 11.632956, 8.539788000000005, 8.538179000000001, 5.236959000000004, 10.463201999999999, 3.916360999999995, 4.321237999999999, 6.758684000000003, 11.112527000000002, 3.6152359999999986, 4.055402, 8.855391999999995, 4.524490000000004, 8.677251, 4.640024000000001, 32.11584661467898, 4.742182999999996, 10.325740999999999, 5.3492729999999975, 27.76441592107062, 27.973309703125018, 9.577448, 9.809068999999996, 3.5611909999999978, 12.462568665901534, 6.021083000000001, 6.6479410000000065, 5.027820000000002, 6.476253000000001, 4.693518000000001, 5.011772999999998, 5.888956999999998, 18.95521607293701, 10.20006, 9.66891399999999, 26.414057641543067, 11.516933000000005, 8.892294000000003, 3.712022000000004, 11.578893942125603, 10.814082999999997, 8.625900999999999, 16.789699999999982, 9.131358000000013, 12.570055999999996, 12.299944999999997, 10.339100999999998, 9.441058999999997, 5.007507000000007, 7.034120999999999, 9.178974000000006, 4.152771999999996, 9.052747999999994, 17.561516999999995, 6.010405000000003, 11.419561999999996, 6.515835000000001, 22.682929000000016, 16.405107, 8.321035999999992, 20.258903999999976, 6.663459999999999, 6.896122000000003, 7.3812739999999994, 29.61642467687662, 16.158547999999985, 26.877749867187525, 5.333762999999998, 22.081378173828107, 5.82318, 8.18303700000001, 9.449616999999996, 8.677255, 16.664524000000007, 14.77855399999999, 13.933477000000007, 9.576387999999998, 9.728826, 4.888199000000003, 8.78958, 5.776640000000004, 9.084298999999998, 5.907674999999999, 11.87901900000001, 5.031042999999994, 3.5462299999999947, 8.860170999999992, 11.113628999999998, 9.817613000000005, 9.536811000000002, 5.252457000000001, 4.526658000000004, 8.795471000000003, 13.325847999999992, 10.873978999999997, 9.759282999999995, 5.662713999999999, 6.086856999999997, 11.032859999999994, 15.336169750000003, 8.344575000000011, 8.401258000000004, 5.640754999999998, 12.237913999999998, 3.8436119999999967, 9.347993999999993, 4.577968999999997, 17.228296999999998, 24.14648523951494, 4.525536000000003, 4.801018000000003, 20.59370200000002, 15.438339500000001, 4.546439, 9.069321000000002, 11.401896000000004, 8.989626999999999, 4.863593, 7.122929000000006, 5.180792000000004, 10.393662999999995, 8.066433000000004, 5.644003000000005, 4.495623999999999, 7.439553999999996, 3.989622, 11.738699504150388, 16.50566499999999, 6.567181, 5.050264000000007, 5.3321709999999936, 10.284545999999988, 5.578200999999999, 19.165858574218746, 12.429401000000007, 8.097978999999997, 7.486633000000007, 8.327441000000004, 10.148703000000001, 20.028726141018858, 3.623745000000002, 10.783574999999992, 11.138204999999996, 9.051691999999992, 6.493378000000004, 7.789348000000006, 26.55689786484946, 15.392589000000003, 7.338465999999998, 24.498895915411307, 4.666794999999999, 6.248422000000001, 3.393798999999998, 17.755857078125004, 20.471624749999986, 8.511445, 3.9725120000000023, 12.644950000000003, 4.766783999999996, 11.882744000000004, 24.932737625, 7.038414999999994, 6.705176999999993, 9.25546, 5.245515000000005, 12.953478273437502, 11.214170999999995, 12.696292000000001, 8.186790999999998, 9.214283000000002, 8.525901, 9.445335, 7.853534000000002, 12.962116000000004, 10.504914000000001, 11.611580999999994, 9.829387, 3.7056099999999987, 16.04138699999999, 5.291506000000005, 19.439998000000006, 7.495724999999997, 10.706022000000003, 14.342113000000005, 9.123356000000003, 5.753634000000001, 29.897506764915256, 5.697996999999995, 8.365425999999996, 10.433779999999999, 12.587195580078134, 23.305089020019533, 4.9951929999999996, 15.849910000000001, 8.971965999999993, 8.049849, 10.210747, 5.500646999999999, 10.147620000000003, 6.172992000000001, 10.045992000000009, 10.149778000000005, 3.7911839999999994, 5.723683000000001, 9.557667999999998, 5.080775000000002, 9.170418000000005, 7.535296999999997, 8.142914999999997, 28.733367480104786, 19.464057999999984, 8.367020999999998, 10.578731999999992, 10.799653999999999, 12.030378999999991, 4.658729000000004, 8.830748999999996, 19.371325499999987, 9.996260000000003, 7.916647000000005, 14.532493406250001, 5.0139119999999995, 26.056846839846294, 11.008775999999996, 6.204009000000001, 6.839959999999998, 3.2482880000000023, 22.10687199999999, 21.61020374999998, 10.501717000000001, 19.10260875000002, 5.068471999999997, 10.878801999999997, 8.271284999999999, 8.576706000000003, 3.886395, 3.8238209999999997, 7.348098, 4.699934000000004, 11.435076013261794, 5.984705999999999, 9.413245, 4.957752999999996, 12.447586000000003, 6.827130999999997, 11.062791013261794, 30.906852604125547, 8.060552999999997, 17.887245999999994, 23.321346583418357, 23.60315588867188, 3.118327000000002, 4.259200999999999, 4.782328000000002, 26.338035579533216, 11.917522000000004, 10.217712, 7.152876000000001, 7.353962999999998, 9.767343999999996, 4.804758999999999, 13.086748000000009, 12.039995999999999, 8.750005000000005, 11.359654999999997, 9.117476999999997, 5.843508999999998, 7.200486000000003, 10.971345999999992, 5.866497999999998, 15.140670999999992, 10.164738999999999, 4.383817000000004, 13.865, 8.984280000000009, 6.834087999999997, 9.392388, 6.325962, 5.200055, 4.858779999999999, 4.534116, 9.783372999999992, 8.307108000000012, 9.710651000000015, 8.263796999999995, 4.816033999999997, 23.129733331951883, 16.697937749999994, 4.887689999999998, 5.560568000000005, 11.115656499999993, 12.253422000000006, 5.8515209999999955, 6.487482000000007, 6.188497999999995, 14.983372839839918, 9.389694999999996, 13.142403999999994, 10.398480999999995, 12.265191, 31.50600897318412, 4.887688000000001, 7.184963, 9.760382999999992, 7.720918000000001, 4.601983500000003, 11.047835000000006, 17.257699999999996, 9.805297999999997, 5.074910000000006, 11.175095000000013, 3.8997519999999963, 8.76978300000001, 4.330366000000003, 12.815578999999993, 30.254012693975874, 5.502254999999994, 7.177481000000004, 12.018076999999982, 6.946925000000006, 4.452842999999996, 7.160886000000002, 4.630389999999997, 9.097683, 5.338038, 8.26967499999999, 8.658009999999996, 4.743260999999999, 6.605155000000002, 15.773423000000001, 11.432385, 6.953368999999996, 12.696833999999994, 8.786381000000002, 4.648045000000003, 10.027265000000003, 7.046450000000002, 7.724653999999996, 25.253525999999997, 4.386510999999998, 5.398478999999998, 9.850770999999995, 25.574455000000007, 18.37345300000001, 4.316420999999999, 9.827241, 4.047395000000005, 7.440177833333333, 5.453032, 25.42404019881686, 10.088805999999998, 7.870657999999999, 3.0027890000000035, 10.426852000000004, 6.851198999999998, 4.984499999999999, 4.807984999999999, 11.554881000000005, 6.494438000000006, 4.279008999999999, 7.832158000000009, 8.774074000000002, 6.888650000000005, 10.21182399999999, 11.772574999999994, 27.064123675434004, 8.954855000000002, 4.065589000000004, 28.134907000000034, 18.150420999999998, 19.181644999999993, 8.621070999999993, 11.726554999999994, 16.220583360839836, 24.754897110205142, 11.011434000000008, 4.229244000000005, 5.10843, 6.586433999999994, 8.001694999999993, 26.47736684938229, 9.013151999999998, 12.044831000000002, 12.276953999999998, 5.582479000000002, 5.350339999999997, 10.174377999999992, 4.8208099999999945, 2.7813429999999983, 8.823269000000003, 4.484387, 10.807131999999998, 4.702068999999998, 15.478708999999986, 4.998934000000002, 2.945564999999998, 6.793962999999999, 6.752236999999991, 9.988756999999994, 5.150285, 8.897082999999988, 8.518392000000002, 6.991875000000004, 19.26481700000001, 11.422429193359369, 4.498857, 27.348335891962034, 6.457526999999999, 9.127719500000001, 12.193518667049226, 17.04805, 3.8131470000000043, 6.190647, 6.315276999999998, 6.818585000000004, 9.136166000000008, 4.777511000000001, 10.181834000000014, 10.386729999999993, 12.136285999999993, 28.408378701428063, 8.969302999999998, 5.359974000000006, 26.131884146879553, 6.839445, 5.737587000000002, 5.238046999999994, 24.035592492786385, 5.789478000000003, 4.2281690000000065, 8.768207, 26.971094698232537, 7.044285000000003, 4.1474020000000005, 6.881156000000005, 15.61726800000001, 15.326812000000002, 4.316980000000004, 6.649016, 10.702308999999996, 6.316325000000001, 30.290600697633295, 8.795994000000002, 20.58729000000001, 4.305192000000002, 4.717040000000001, 13.408745, 8.386267000000002, 4.7491680000000045, 23.460645999999986, 4.295572, 9.31002, 7.606620100830075, 3.7778189999999974, 4.968451999999998, 6.739944000000003, 6.332378999999998, 6.374617000000005, 6.249464000000001, 7.625705, 14.546783115692143, 8.245085000000001, 15.215807749999993, 7.506958000000001, 3.7868910000000024, 13.590601, 16.371402, 8.899231999999996, 12.595712999999995, 24.888882513117963, 7.754597999999994, 31.264074167691284, 4.677481000000001, 8.086232999999998, 27.14454463149454, 13.98420512986632, 9.759843000000004, 3.186806000000002, 7.491441000000001, 17.922284999999995, 18.084623999999998, 11.924484113281256, 4.467806999999998, 4.226026000000004, 8.515195999999996, 13.719511999999993, 6.617442999999998, 9.367255000000005, 11.288516999999992, 3.3483180000000026, 9.595613999999994, 9.67690799999999, 4.551758000000001, 30.889245375000016, 4.760397000000003, 6.757050000000001, 7.905973000000013, 9.44051, 7.822526999999995, 10.450356999999991, 5.976683000000001, 9.405221000000004, 9.678535000000005, 5.082450666666661, 8.226917000000011, 30.29409600976978, 5.106436000000002, 25.91654793676759, 12.063010000000011, 9.344762000000001, 3.1664700000000017, 8.420529000000013, 8.343503, 10.705497999999995, 12.036276999999993, 8.732322999999987, 8.488462000000002, 9.525032000000001, 16.33129400000002, 6.3419570000000025, 6.115745999999999, 10.539677000000001, 10.779325000000002, 6.937833000000001, 3.7157589999999994, 11.627078999999995, 4.835816999999995, 5.346596999999997, 20.594792999999996, 12.398907999999997, 12.617677999999998, 10.368528999999999, 5.095754000000003, 9.44426, 16.700896000000004, 3.4290779999999987, 11.292011999999986, 6.617456999999996, 6.4997940000000005, 7.304269166666671, 16.507267443359364, 15.039039000000002, 9.688691999999996, 26.476815797851554, 4.604209000000004, 4.452820000000005, 18.432820999999997, 11.346284, 8.702428500000007, 20.54869927343749, 5.058294999999998, 21.670039922665453, 4.5228939999999955, 24.099261000000023, 8.612009999999987, 29.20772976890466, 9.250112000000003, 9.7721225, 9.45124200000001, 3.2151129999999966, 20.25931980197173, 5.119289999999999, 25.20640204104903, 5.4364970000000055, 4.192861000000003, 23.6553671875, 2.7069659999999964, 9.353893999999991, 4.338370999999999, 7.109556000000001, 18.88091084464264, 7.289794999999994, 4.9914480000000045, 4.581713000000006, 5.496911999999998, 4.730955000000002, 6.929851000000005, 5.609222999999999, 10.533260999999992, 4.123869999999999, 5.1508520000000075, 4.952384, 4.633081999999996, 14.492966000000008, 6.392813999999999, 8.065354, 8.973041000000002, 28.998449831082468, 5.246576000000001, 3.8553640000000042, 31.310379749999985, 4.906928000000003, 9.12387666704923, 19.557137999999988, 10.847249, 10.278141999999997, 6.4543269999999975, 4.714371999999998, 6.982248000000001, 6.112010000000003, 12.353978, 8.36491600000001, 7.7786640000000045, 7.6727749999999935, 14.086421715286251, 6.212021, 6.9228780000000025, 5.594240000000002, 11.173508000000002, 17.426832187499997, 11.589654999999995, 7.337386000000006, 4.672660000000001, 3.4622439999999988, 9.375271000000001, 14.749151, 10.965971000000007, 5.527919000000001, 11.946108625000004, 10.101097000000003, 10.603876000000007, 7.4117489999999915, 7.6641980000000025, 5.054022000000005, 3.767666, 12.140036000000007, 29.068178357858123, 19.086945999999983, 20.3381385, 3.990688999999999, 7.222399000000004, 11.118979000000001, 6.046224999999997, 23.987471000000024, 4.558721000000005, 5.944583, 4.840597999999994, 14.774281999999987, 9.688697999999993, 7.512831999999999, 11.10238699999999, 12.708118544791759, 10.875593999999992, 9.247430000000001, 15.073816999999996, 10.209668999999998, 27.704292460238506, 4.728287, 4.710088999999999, 9.189679000000002, 4.800491999999998, 5.333757000000002, 20.854709999999997, 11.218982999999994, 6.517456000000006, 10.086116999999993, 9.079481000000001, 25.585872104669203, 4.780688999999999, 11.912689999999989, 8.930777, 22.232510620067924, 5.278665000000005, 7.427247999999997, 7.9653450000000054, 13.416767999999996, 14.673734999999997, 4.220698999999999, 14.713838000000012, 8.865524999999996, 9.685641500000001, 17.924908578125, 11.898793721679683, 10.061506999999995, 4.758773999999994, 5.495304000000002, 15.56711087275695, 8.038602, 9.826168999999998, 8.818469999999996, 7.373209000000002, 11.023216, 12.896352, 9.93098699999999, 7.638541999999998, 11.975295000000006, 5.8766830000000025, 6.611039000000001, 9.940108999999993, 7.177985999999995, 6.821788000000006, 7.805952999999997, 10.109671000000011, 10.740263, 24.12905956041907, 12.086025999999999, 6.609957000000005, 5.976686999999998, 9.805852000000005, 9.445346000000006, 7.301563999999996, 21.479987999999988, 11.310980000000002, 11.751707000000003, 12.436888000000005, 6.4147279999999975, 13.988551000000012, 14.747006000000004, 7.162496999999995, 4.034012999999999, 5.511358000000001, 16.79663500000001, 9.227104999999993, 4.826705999999998, 12.12027, 5.175454000000003, 8.830220999999996, 11.204531000000006, 9.310024000000004, 10.026746999999995, 4.5806590000000025, 9.894098, 9.795144000000004, 7.465255000000005, 5.0732770000000045, 7.181747999999998, 8.778882000000008, 3.350438000000001, 5.7498919999999965, 13.92329800000001, 4.464076000000001, 6.377317999999992, 13.865544000000007, 5.093600000000003, 4.972348833333325, 20.191481000000014, 5.038510999999997, 9.202367000000008, 5.142810000000002, 9.574239, 19.54267083472164, 27.51278847554251, 3.6612240000000016, 3.812573000000004, 12.761023000000005, 10.497965999999998, 7.595197000000008, 6.913257, 6.093828000000005, 5.832825999999999, 10.384032000000012, 4.195582999999996, 19.65808425, 7.657784999999997, 31.601352556775147, 4.8224310000000035, 7.4844829999999964, 29.578184869688013, 7.432058000000005, 6.438812000000004, 9.717057999999998, 21.976502500000002, 9.65179699999999, 8.605047000000003, 5.864902000000004, 30.01642076643878, 18.977318999999994, 23.742744104906592, 7.727341000000004, 10.950468000000003, 22.69572526562501, 4.514339000000007, 11.583780999999993, 13.886375999999986, 5.799103999999999, 25.230532125, 4.9839750000000045, 3.3627449999999977, 5.470155, 17.137885999999988, 12.741217000000013, 4.348535, 8.230097999999998, 4.314283000000003, 13.761066156805033, 4.495627999999996, 4.155980999999998, 7.499983999999994, 8.383254100830069, 15.408107000000005, 8.715764000000005, 29.141884606768077, 4.990375999999999, 31.22953827287636, 12.083890999999996, 6.455926000000001, 8.115105999999999, 19.412189999999992, 23.55736166507425, 9.28539199999998, 11.770437, 13.4012615, 9.495617999999988, 4.026570999999993, 6.316872999999995, 4.898359000000003, 14.476364000000006, 8.345086000000004, 11.719618999999991, 4.644326000000003, 13.609866000000004, 11.06334399999999, 29.000567671874975, 10.172231999999994, 10.585685999999994, 3.7302219999999955, 4.182206999999995, 13.34296999999999, 4.802642000000003, 8.538190999999998, 8.998714000000009, 7.835384999999999, 10.968643999999994, 30.909554125000035, 9.888200999999993, 16.25801300000002, 5.688391999999999, 10.224117999999997, 21.68486100000002, 6.136069, 6.051048, 4.681212000000002, 4.998396000000003, 13.200686000000008, 8.194246000000005, 4.335162999999996, 4.701009000000007, 11.277280000000003, 17.490716924072277, 13.114061999999999, 19.078408999999997, 3.133304000000003, 26.73149825510206, 9.794618, 7.589342000000006, 14.956674000000003, 19.836327000000004, 18.617358000000007, 10.150305999999999, 3.573517999999997, 7.205837000000003, 8.858052000000006, 7.209029999999999, 7.532604999999997, 11.960850999999996, 5.442330000000001, 8.583649999999999, 9.197154000000005, 6.620670999999999, 4.016906000000003, 5.090921999999998, 9.781240999999996, 11.051579000000002, 4.074154000000004, 3.8585730000000007, 3.7740739999999966, 5.571782999999991, 24.794079, 3.528561, 25.571710593678485, 9.750224000000001, 6.948530999999998, 6.557021999999998, 10.600130999999992, 16.76592025878906, 5.542359000000001, 14.057557999999998, 5.156185000000002, 16.596085999999993, 8.96076099999999, 26.35833700208282, 11.512087999999984, 10.354610000000005, 9.845953000000002, 14.14794500000001, 9.347457999999998, 4.168816999999997, 13.798137000000011, 8.085673999999996, 8.001730999999998, 4.440020000000003, 13.721653999999996, 5.510810000000001, 13.761759, 12.046415000000007, 4.548562000000002, 9.634684000000004, 8.863935999999988, 18.786784354248045, 12.058723000000008, 9.300918999999997, 8.406082000000003, 9.382236, 6.239307999999998, 6.110377000000003, 6.962992999999999, 24.61703000000001, 3.9874800000000024, 31.507061242376945, 9.028145999999996, 4.686017999999995, 6.775251, 11.229129000000006, 11.018405999999997, 22.962731706961648, 9.946512999999987, 16.979803406250007, 10.599047999999998, 7.985130999999996, 11.277288000000004, 9.385970999999998, 11.410459999999993, 4.301452000000005, 7.770102000000003, 31.876029058902738, 4.490823999999998, 5.852043999999998, 6.003426999999996, 7.811292000000001, 9.759326999999994, 5.177589999999994, 10.258871999999995, 5.104301000000002, 3.6997170000000015, 15.932281000000003, 5.797511999999997, 4.806912000000004, 7.724674000000009, 9.428767000000004, 12.721430000000009, 17.639071000000012, 18.584004851074223, 8.024715999999996, 3.913680999999997, 3.6964999999999946, 9.880727000000002, 9.511148000000006, 8.238632999999998, 5.8140860000000005, 8.184638999999999, 13.840928000000003, 8.672455, 10.073268000000006, 3.5970370000000003, 7.0314839999999945, 9.530914000000003, 11.65169999999999, 8.003308999999996, 13.560640000000003, 26.132032215760763, 28.096414226236266, 6.670406999999999, 9.492933999999993, 5.194155999999998, 14.828303000000005, 5.306477999999999, 4.084834000000001, 4.334086999999996, 9.880196, 24.823622625000006, 9.298249, 13.625921999999994, 7.889385999999999, 14.689254000000005, 14.213757000000003, 13.44938000000002, 7.374310000000005, 7.16464, 8.27181499999999, 6.177792000000003, 11.520125999999998, 10.988990999999997, 5.866511999999999, 5.719403000000003, 5.280818999999999, 10.064195000000009, 10.251940999999993, 19.029018756072766, 19.000301999999998, 7.244863000000002, 10.251374999999987, 10.199511999999999, 18.012044933593753, 9.201959000000006, 24.919253000000015, 10.485662000000005, 10.789990999999988, 5.098941000000003, 10.360492999999995, 4.553368000000003, 8.985334, 25.840191119504915, 6.243041000000004, 6.368739999999997, 9.189134000000001, 8.578298999999987, 10.726362999999997, 11.722298000000006, 12.616599000000008, 8.30767, 16.899887, 12.259856999999997, 3.529091999999997, 8.758033000000001, 9.99521700000001, 6.8479980000000005, 6.620678999999992, 5.646671999999998, 15.388324000000003, 15.9232, 8.025237999999998, 5.369070000000001, 10.086282671087268, 29.93573195800781, 18.888539000000023, 8.832384999999997, 10.066330999999996, 10.404887000000006, 20.81463899999999, 4.1575699999999935, 12.196211000000007, 27.817462803909375, 4.549639000000002, 5.006960000000003, 6.7260320000000045, 22.026642999999982, 25.039411999934895, 10.215567000000005, 6.933564000000003, 27.657974300570928, 6.812689000000002, 5.3658539999999935, 24.108564111193502, 17.119721000000013, 4.885550000000004, 9.953463, 8.448867, 8.32958399999999, 19.13404400000001, 8.173953999999998, 8.794939000000005, 6.541502999999997, 9.443197, 24.704658328538535, 19.21622362499999, 8.698668000000001, 13.788003000000009, 4.967916999999997, 5.814096000000002, 8.399657999999997, 5.6049440000000015, 4.223372999999996, 4.401466, 5.510813999999998, 5.992729000000001, 10.422545, 9.803711999999997, 8.885867000000012, 21.655647848548917, 9.866281, 8.819537000000004, 7.098318000000002, 24.799502901275638, 3.9660969999999947, 4.322308999999995, 21.773107000000003, 17.427272000000006, 12.509282814788826, 15.005886999999998, 17.1366302520752, 13.208172999999997, 12.581853999999995, 4.423397999999999, 26.810004841632367, 5.268519, 4.2324389999999985, 5.642918000000003, 7.331521000000006, 4.098204999999997, 9.889449403320315, 7.526744, 3.4606060000000025, 25.30344518221201, 5.9595600000000015, 13.397526000000001, 7.410139999999999, 3.8703430000000028, 6.588575000000004, 4.183785999999997, 9.01637599999999, 8.458476000000001, 5.721018999999997, 8.557984000000001, 13.52424999999999, 9.637912999999994, 11.758136999999998, 5.741865000000001, 11.24893566676231, 12.014308000000005, 8.327449999999997, 4.653942999999998, 14.151152999999999, 3.675631999999997, 10.955273000000002, 10.117663999999998, 10.682497000000001, 6.173002000000002, 4.516472999999998, 8.311400999999995, 8.572427999999995, 4.6742599999999985, 10.181321000000002, 12.564063500000001, 4.559811000000001, 30.518523453351044, 7.986196, 10.499046, 13.075351342174535, 26.339130792602518, 4.544843000000001, 9.883937999999995, 11.309368000000008, 31.617652299560554, 7.3678940000000015, 3.8072450000000013, 4.903719999999996, 2.955171000000001, 8.890680999999992, 10.093064000000004, 5.424126999999994, 10.085042999999994, 5.831175999999999, 5.143346000000004, 8.677786999999997, 16.382104999999996, 7.083868999999996, 6.443100000000004, 6.7939700000000025, 4.8336599999999965, 5.872914999999997, 3.164848, 11.148918000000004, 5.771825999999991, 3.714691999999999, 8.765506999999996, 10.708702999999996, 6.364479000000001, 13.646244999999995, 4.971105, 11.800386000000001, 15.222502999999994, 22.790101619474243, 29.919357869776437, 5.714590999999998, 2.849808999999996, 15.231604999999997, 7.012173000000006, 12.008439999999998, 5.864907, 10.450909000000001, 6.01433333333333, 7.354500999999999, 5.453596, 4.213732000000004, 13.541950999999994, 4.297176999999996, 6.5527440000000015, 4.639501999999996, 7.248089999999998, 14.519154000000007, 13.494868999999994, 4.0468600000000015, 12.496088332483184, 25.13105231950931, 4.754498000000002, 23.493752984374996, 9.845432999999993, 11.400854999999993, 4.673192000000003, 27.90486322926681, 9.441595, 29.954604348994415, 9.841679999999993, 12.242019342174526, 5.124632000000004, 11.642062, 8.915267999999998, 11.166568999999996, 26.629012790782927, 5.686766999999998, 7.383920999999998, 5.883603000000004, 3.954317999999998, 10.539160000000004, 4.000318000000001, 4.176845999999996, 8.666038999999989, 5.383506000000003, 5.785739000000007, 9.086993000000001, 19.410578312499986, 4.735224999999995, 5.917297999999999, 22.414579499999995, 6.747436000000008, 6.248386999999999, 10.420958, 7.043251000000002, 8.519475999999996, 4.491884000000004, 4.922977000000001, 3.2365110000000015, 11.144103000000005, 6.240381, 7.681303000000002, 11.800388000000014, 27.033519850117173, 11.371942000000004, 8.402864, 17.024508000000008, 12.805432999999995, 4.157581999999998, 8.689043000000007, 6.85865199999999, 19.999454000000025, 6.788099999999998, 8.314601999999997, 11.226479000000007, 12.063029000000004, 6.719088999999999, 10.589967000000007, 6.119489999999995, 22.563585250063685, 9.991445, 9.618120000000003, 9.949726, 6.697147000000001, 10.773425, 3.7500000000000004, 19.493501000000002, 3.042390999999999, 8.175039999999996, 17.418168999999995, 4.400404000000005, 4.971139999999999, 13.75750000000001, 7.839648999999997, 3.3889870000000046, 7.5796869999999945, 27.411586183785975, 4.984493999999997, 5.465869999999996, 14.1195895, 4.846505999999995, 22.329369603382194, 7.212243000000002, 22.034636520758927, 12.154483319580073, 11.374629999999991, 27.705639653971346, 10.382468999999992, 4.1533019999999965, 6.367669000000001, 5.935497000000001, 4.566746000000004, 6.9988299999999946, 9.249551999999994, 6.8940129999999975, 11.136080999999995, 8.816333000000007, 10.657893, 7.387659000000003, 4.700992000000003, 9.265628, 16.699827000000013, 19.029203, 10.982567, 8.398043999999992, 17.500568000000023, 8.544617999999993, 24.805778124999982, 25.44989157812501, 6.590700999999997, 6.896648, 5.692133000000004, 5.1166119999999955, 25.263535359374995, 6.157465000000006, 8.979991999999992, 4.907481999999999, 9.434658000000002, 6.845838999999997, 15.971340000000003, 12.920958000000002, 11.695042, 4.527178000000004, 24.084638797787665, 17.479128999999997, 11.257477, 29.26690628125001, 3.979987000000003, 12.802192000000002, 3.4424650000000043, 4.644847000000004, 5.246602000000003, 18.400738999999984, 15.056709000000005, 10.816758000000002, 12.80113, 29.696119955015682, 15.523649999999993, 9.054866999999994, 8.375591999999997, 6.19546800000001, 5.059913000000002, 11.181529000000001, 12.696304999999995, 10.984717000000003, 6.894517999999997, 9.30733400000001, 7.535299, 10.561067000000007, 11.492826000000003, 8.301782999999993, 4.837407000000001, 6.919153000000003, 10.968132999999996, 4.2757979999999955, 6.3837240000000035, 4.569963, 25.083985999999985, 23.331222000000004, 9.802113000000002, 9.085908999999997, 10.697466000000002, 10.25888299999999, 4.752908999999999, 13.092098999999985, 9.68763799999999, 24.592640447881063, 6.2858410000000005, 8.235432000000003, 9.955084, 5.707121, 4.812268999999998, 8.097444666618845, 12.296748000000001, 6.803096000000007, 6.586414999999996, 11.323268999999993, 4.508998, 6.930372000000002, 7.150183000000002, 23.386792276727682, 9.275799000000005, 12.333662000000004, 8.063752000000001, 6.818572999999998, 13.276650999999992, 9.752371000000002, 4.073587000000004, 5.568585999999994, 3.3541850000000024, 4.9534550000000035, 8.04611500000001, 10.829043000000002, 4.1725379999999985, 13.055223999999987, 10.492085000000007, 4.722945000000005, 5.643996000000002, 4.235673000000002, 29.571957179662387, 6.034445000000001, 27.025784715814847, 12.592518000000005, 4.543754000000003, 4.315360999999996, 30.22642681968613, 3.960208999999994, 9.278462999999997, 8.15467, 16.784345, 5.054540999999996, 5.729572000000002, 6.912191999999996, 9.233521999999999, 5.996431333333336, 9.658216999999999, 19.765743000000015, 11.31952799999999, 9.745925999999995, 5.727449999999999, 6.297055999999995, 26.53778789963198, 9.172009000000005, 7.402661, 11.38531100000001, 8.215662, 4.247414000000002, 4.963609000000004, 12.209566000000006, 7.9348310000000035, 20.74133800000001, 9.374198999999997, 10.159391999999997, 9.57062833333334, 7.557747000000002, 9.133510999999999, 11.465549999999993, 9.932611000000001, 8.700245999999998, 5.127833000000004, 10.737050000000002, 9.988762999999995, 14.903199000000006, 4.466716000000004, 9.523967999999998, 3.4157060000000006, 9.134574, 8.738760999999998, 11.163548100830083, 12.400531000000003, 17.751912000000008, 8.567066999999986, 30.743294495017132, 8.791201, 6.370875000000003, 11.443622000000003, 10.541288999999999, 19.712234, 10.998078999999997, 7.491451999999997, 4.334634, 8.170734999999995, 9.553908999999997, 3.9601970000000017, 8.161111, 9.042259500000002, 17.960794000000014, 4.993043000000005, 4.265067000000003, 10.845643999999995, 8.552658999999991, 12.234979, 10.592629999999994, 30.370959186308855, 4.311618000000001, 4.281126000000003, 9.552871000000001, 12.016462999999996, 13.464388000000007, 10.515084999999997, 7.534233000000003, 15.113379000000016, 4.552840999999997, 9.629317999999994, 7.248605999999999, 8.589545999999995, 8.072294000000007, 22.936695280163814, 9.197161999999993, 26.64800835444295, 26.077701546875005, 3.187836, 11.383200000000004, 10.557869000000004, 19.026741523437497, 13.766232075511914, 21.777410000000003, 7.575423000000002, 5.677158999999998, 7.476993000000002, 7.863720000000008, 8.533912, 10.60815500000001, 4.385969000000004, 14.897751135692952, 9.253296999999996, 4.982360000000002, 11.078847499999997, 7.637444999999998, 4.456047000000003, 6.6789859999999965, 29.674084058968035, 24.476118406560563, 6.014669999999999, 10.427916000000003, 7.6166130000000045, 8.566553000000003, 8.618436999999991, 13.761782999999998, 7.624082000000008, 4.288626999999999, 3.370749000000002, 7.940746000000002, 30.90952730012365, 18.89548799999999, 27.411735000000004, 8.489522000000004, 8.548883, 8.609868000000006, 5.929079999999999, 15.68480755117511, 4.661427000000004, 6.320091000000003, 27.372299694412323, 29.20397436030767, 4.6068790000000055, 3.3467089999999997, 10.108566000000007, 7.052293000000004, 7.613389000000007, 9.560858999999995, 3.2252710000000024, 5.057249000000004, 8.372914000000002, 8.010792000000004, 9.779506500000004, 4.565687999999998, 8.818460000000005, 9.028139999999997, 10.509727000000005, 6.186887000000001, 10.826374999999993, 10.464815000000009, 10.501179999999994, 8.776211999999997, 3.9136850000000005, 6.915370999999996, 12.326144999999991, 10.238560000000001, 3.8115059999999987, 6.328631000000005, 15.050273000000006, 9.02385, 10.047730666666672, 12.999580000000007, 30.389782129918654, 3.9307870000000005, 8.377731999999995, 4.442111999999999, 8.560110999999988, 8.167498000000005, 7.707536000000002, 6.578939000000002, 10.012839000000003, 23.266914066204908, 6.879024999999997, 3.725417999999995, 6.515304999999999, 6.335581000000002, 5.098413000000005, 9.372605000000004, 15.04011199999999, 4.968426, 3.832904000000003, 6.479477000000002, 8.694009525207521, 4.916020999999997, 8.327440999999995, 26.434820695901227, 5.847229999999999, 31.855406242431638, 28.429801007711728, 6.835697000000003, 4.521277999999997, 4.548043000000008, 31.720797600428828, 9.784449999999994, 7.450805999999995, 7.697923, 20.63788879776764, 8.722714000000007, 10.532199, 9.203032000000004, 4.186460999999998, 30.892952967578665, 10.131582667049233, 18.19534399999999, 15.970257000000009, 11.194912999999993, 9.153293000000007, 14.531469000000001, 16.095956000000005, 19.79192399999998, 5.443426, 3.939327999999997, 8.545134999999995, 4.323895, 6.952281, 9.338905999999996, 17.61287699999999, 4.316445000000002, 27.281399205205016, 7.634785000000002, 10.251933, 22.997912379394535, 9.023325, 5.269577999999998, 10.18293200000001, 18.69257323925783, 4.689221999999998, 22.936015413085947, 5.444497000000005, 14.337293000000011, 8.05253799999999, 6.086325999999999, 9.664640000000002, 10.762741, 11.866716360839833, 30.79018364901802, 14.399358999999997, 8.198013999999995, 8.389493000000002, 25.647289533445324, 9.718119, 12.430468000000003, 7.335259000000001, 7.310124000000003, 11.134467360839833, 26.612362898840594, 13.360614000000005, 25.543425375, 10.869679999999995, 12.885652999999992, 10.916771999999998, 10.056710000000008, 11.279962000000005, 6.895042999999999, 10.877197000000002, 8.442438000000003, 5.152978000000004, 6.243054999999999, 8.736085999999995, 5.667020000000004, 9.501494000000005, 5.768597999999998, 10.036390999999995, 8.557980999999991, 4.4902760000000015, 11.367682000000011, 8.827033999999998, 7.069427999999999, 3.906179000000001, 18.296448, 16.320057999999985, 23.71609488571861, 3.4483320000000024, 4.526637999999998, 28.686716606989126, 5.905021999999999, 10.658245228515618, 6.1317790000000025, 4.397206999999997, 4.549630999999994, 15.796927999999989, 6.382659999999998, 11.492844000000012, 5.872384000000006, 5.826909, 6.668777000000003, 4.6250780000000065, 11.442573000000005, 9.705823000000008, 10.362134, 6.022660999999994, 6.578393999999994, 11.745442500000001, 12.094559000000004, 9.34422099999999, 17.6505605, 24.27937637693786, 12.568474000000005, 19.74702000000001, 4.6747999999999985, 11.504604000000002, 12.034658000000006, 18.519852793388647, 27.07466641602178, 13.598640000000007, 9.996259999999994, 4.813305000000001, 16.19192890111542, 31.386394897139557, 12.917188000000003, 6.637781000000001, 7.797921, 17.916121999999998, 6.986608666666668, 4.61596, 7.995815, 4.727744999999999, 3.490553000000003, 8.855383999999995, 10.229463999999993, 3.7874269999999997, 15.804984319580083, 2.3438029999999994, 10.780915, 10.630096000000002, 6.121615999999997, 9.677465999999997, 4.114817000000006, 6.977428999999993, 10.616712999999987, 9.269364000000003, 13.726482999999984, 3.8462780000000003, 9.649126000000004, 6.139303000000005, 6.169249000000002, 6.823386000000003, 9.007287999999994, 22.306905000000015, 24.209325916071425, 8.541937999999996, 5.932277000000003, 7.832704000000007, 7.739594999999997, 10.671817, 3.699713999999998, 3.9917759999999998, 9.676410999999993, 9.633620360839851, 5.164184000000005, 4.649155999999993, 7.0576700000000026, 6.636175000000001, 9.839007000000015, 3.971452000000001, 4.433029000000006, 12.070524, 3.845713999999999, 18.453677999999982, 4.166677000000002, 5.232684000000002, 8.910468000000009, 7.470572000000001, 4.874308999999999, 4.712237999999995, 5.653075999999996, 4.9374100000000025, 25.022800999998985, 11.760816000000007, 7.852485000000002, 5.711384999999998, 9.915476000000005, 6.4200750000000015, 8.839336000000003, 4.250652999999998, 5.746692999999997, 4.398792000000001, 5.450366000000002, 11.339843000000004, 3.8655429999999966, 5.1374689999999985, 7.966953000000005, 11.172994000000003, 12.631041000000005, 8.260605, 18.19408307446288, 5.289367000000002, 5.375468999999996, 29.16658588950077, 6.3735649999999975, 4.553392000000001, 9.905844000000009, 7.423524000000003, 10.220364000000002, 11.433987, 3.6135989999999953, 8.954855000000004, 13.046668000000013, 6.354307, 9.82939, 5.371725000000001, 9.012479000000006, 8.601315000000001, 9.407907999999999, 3.7537450000000008, 12.428348999999994, 5.963312999999999, 4.556035000000001, 9.874315, 10.117681999999995, 9.860389999999997, 21.7589420000239, 18.556596766074513, 11.747434999999998, 12.855699000000007, 10.831192999999995, 11.545773999999989, 4.226570999999996, 3.4873609999999973, 4.435174999999998, 6.822297000000003, 17.084909000000017, 4.495082000000002, 13.88692200000001, 2.45291, 15.813180664456368, 9.972731000000001, 11.789142999999994, 23.749761593749977, 16.681641, 8.714186, 9.705285999999994, 19.307342999999992, 12.760244667049227, 10.067912000000002, 4.607975999999993, 4.822953999999998, 15.557877000000012, 4.50687, 12.479142000000007, 7.900092000000002, 11.750814949584953, 7.536913999999995, 10.439650000000007, 5.671265999999992, 20.602813000000012, 4.6309399999999945, 10.500644000000001, 4.787667000000002, 12.762099000000003, 6.015735000000009, 4.730441000000002, 13.387360999999993, 10.869687999999998, 9.202492, 8.650496000000006, 24.60288766015625, 8.991769, 3.922788999999996, 13.90512599999999, 7.885623999999996, 27.93863960910499, 15.427103999999995, 5.348199999999995, 4.817065000000006, 7.371082000000006, 5.449825999999999, 10.528484000000015, 3.8869420000000012, 7.7839930000000015, 4.625038000000001, 7.068371, 5.950455, 8.331181000000004, 5.9804319999999995, 4.366703000000003, 6.774181000000002, 9.262407000000001, 8.51785199999999, 6.588047999999999, 4.773211000000002, 6.278349999999996, 9.347988999999995, 10.98311600000001, 10.352493000000008, 5.128903999999995, 14.88714099999999, 10.897519999999997, 17.741735290901534, 10.67304967108727, 9.932080000000001, 12.796279999999994, 10.522571999999993, 12.286046771423338, 8.963394000000003, 6.669881000000003, 3.998154000000001, 4.020666000000002, 10.226783999999999, 9.423927999999997, 4.402023999999997, 8.088882999999997, 6.668276000000009, 26.61682229209463, 17.786684000000008, 22.87014599999998, 3.7269739999999945, 8.710412999999994, 17.84398941785717, 10.517206999999994, 10.874527, 26.338005249999995, 7.087619000000005, 6.394423000000004, 21.74367999999998, 4.606329999999995, 3.8355609999999984, 10.155645000000005, 13.187857, 9.274212999999992, 10.574459, 21.024873988795015, 6.116812000000003, 9.201430999999996, 11.005001, 8.391629999999997, 9.196094000000002, 8.546748000000006, 11.823384999999996, 6.851734999999995, 11.516903000000008, 14.404151999999996, 9.215363999999992, 10.727422999999998, 2.9557250000000033, 4.273628000000001, 10.982052000000001, 12.056606999999994, 25.62708906431698, 6.672575000000011, 12.770664000000009, 10.768071999999993, 27.27442652826277, 28.317850222950597, 22.559450028999024, 3.6569210000000014, 5.6894420000000006, 8.505589000000006, 7.080667000000005, 4.095012999999997, 20.84511063303564, 28.769098521321613, 4.078957000000002, 6.836226000000002, 3.880530000000002, 10.097879999999993, 27.012525668494487, 13.236526999999997, 5.308623000000001, 4.411627000000005, 4.715979999999998, 6.960314000000002, 11.104523000000002, 3.6392670000000025, 9.089636999999993, 13.403949999999991, 6.930868999999996, 8.876235000000001, 11.183681000000004, 3.3793419999999985, 5.285103000000001, 10.195801000000003, 4.708511, 9.927251999999992, 12.833223, 22.680527142578107, 11.620678999999997, 3.967154999999999, 11.762940999999994, 9.646442, 5.1984319999999995, 12.345421999999996, 14.955613000000007, 4.306814999999997, 9.450151000000005, 5.753640000000002, 18.575840704037663, 12.690398, 19.959153402008052, 6.345197999999997, 8.648905000000003, 7.909176999999992, 6.0269650000000015, 11.395488, 5.801778000000001, 4.486498000000001, 6.282080999999998, 9.091807000000001, 6.399773000000002, 8.346713999999997, 9.688187000000005, 13.34885000000001, 11.294939999999997, 6.110411000000002, 9.241543, 8.197485999999996, 4.220700999999999, 30.003649551980892, 11.7116049933691, 7.031995999999997, 6.1162680000000025, 4.3645769999999935, 26.50529228124999, 7.3871510000000065, 9.927256000000003, 7.730006, 4.594570000000004, 5.516706999999998, 9.772148999999994, 5.677676000000003, 8.355261999999993, 15.155219265625005, 29.958834052951662, 8.523734000000005, 10.253527999999996, 5.392595000000003, 13.278795000000002, 11.180997999999988, 20.117956968749994, 11.567184, 28.63481272943722, 9.403613999999997, 7.397840999999996, 5.465884, 8.961272999999991, 18.653191999999986, 29.016673229087147, 11.867790000000003, 3.5734960000000013, 12.859415999999994, 7.689320000000002, 12.312266000000005, 32.182529000000024, 25.951740134412443, 27.820910178103944, 30.975595742734736, 4.438399000000002, 19.854510000000005, 16.151589000000005, 27.60278309925892, 3.7740879999999972, 8.359012000000002, 19.169889999999985, 13.128491000000011, 8.596496000000002, 4.970038000000003, 7.669006, 9.669982000000003, 8.08784, 10.520429999999992, 12.131484000000002, 11.861010193359384, 8.088356000000003, 26.87927644576548, 5.485146999999999, 11.033380999999995, 4.019577, 8.019907000000002, 3.857502, 12.363105999999993, 6.340922000000005, 7.871203000000001, 3.373431999999998, 5.535411000000002, 8.166983999999996, 12.3400825, 10.425240999999996, 11.112537999999997, 7.372712, 9.294510000000002, 10.472824999999995, 5.034740000000001, 16.630287999999986, 8.840393999999998, 12.496794, 6.484282999999998, 10.162593999999995, 6.404017000000002, 21.218994270908556, 7.3497190000000066, 11.060664999999998, 7.1234500000000045, 21.05389275383227, 11.323820999999999, 12.27033775, 8.158447000000002, 5.416705, 12.222946999999994, 14.074676000000002, 8.793328999999993, 4.74862, 5.836016999999996, 4.1629130000000005, 7.246466999999999, 3.2151470000000004, 6.442526000000006, 8.667107000000001, 16.344676999999994, 3.448844999999998, 3.758568999999998, 26.83318415022172, 5.967033999999997, 6.424912999999998, 26.937050078324827, 5.729025, 8.947371, 11.316334000000005, 11.995614999999995, 5.860626999999998, 6.460211999999997, 30.96499165163942, 9.351756000000012, 18.662285999999998, 24.690268051050182, 7.475388999999999, 9.431440000000007, 10.066319999999996, 5.214489000000001, 5.673405999999997, 14.927264999999991, 10.088782000000004, 6.935165999999994, 3.821648, 9.239961000000001, 14.312686999999999, 23.761335640625, 4.708516000000004, 17.900629999999982, 6.588561999999993, 5.512951999999999, 8.417849999999996, 13.39967100000001, 4.835806, 5.320376000000005, 9.084302000000001, 22.39785399999999, 31.367020839607743, 4.767316, 4.918173999999999, 4.786051999999995, 9.221739999999999, 10.488317, 8.874634000000007, 3.1135079999999995, 10.448224000000009, 11.37765633333334, 10.311293, 5.6883729999999995, 9.468858, 8.436565000000005, 7.193530999999997, 27.23882502086521, 6.599825999999998, 3.8580569999999983, 4.651261000000002, 27.24524485844222, 9.076829000000009, 4.451756000000002, 4.648051999999994, 17.851948999999987, 25.995049820082432, 27.248841456390377, 12.723570000000004, 3.8419849999999993, 9.099789999999995, 4.904262000000003, 4.1976830000000005, 8.479884000000004, 18.213451000000006, 8.071246, 14.82021012986634, 20.558933999999994, 7.341141999999999, 19.38489600000001, 6.055296999999995, 12.716073000000005, 6.876866000000003, 8.193206999999996, 4.428214000000004, 13.434442999999998, 17.491973999999985, 9.004068000000013, 26.624144375, 3.7500020000000003, 4.2762899999999995, 26.4997778651689, 30.377374431313086, 8.31941, 10.600127000000002, 6.393898999999999, 6.351069000000006, 6.906291000000005, 4.7817810000000005, 6.8431845, 26.65516132227932, 8.543009000000005, 11.276368664456374, 8.246144000000001, 9.27954300000001, 10.182944999999997, 4.630946999999999, 11.80894, 11.210429999999992, 25.317728347048003, 8.833435000000001, 9.901592000000003, 24.76840399999999, 8.172885999999998, 4.158111999999996, 9.322323, 3.707219999999999, 7.235240999999995, 10.273322000000002, 5.011242999999996, 8.544609000000003, 16.10453399999999, 13.103163514282228, 6.159599999999999, 5.236435000000003, 7.751934000000006, 4.109449000000002, 11.468226000000005, 10.826396000000003, 6.387462999999998, 19.518619999999988, 5.869709000000003, 7.4753739999999995, 3.6799289999999987, 8.426396000000006, 23.896432916555067, 3.4713150000000006, 15.493155999999997, 5.292575000000003, 8.983747, 6.595553000000001, 10.155106000000002, 23.63901403222656, 21.033388000000016, 16.323832000000017, 9.122813999999998, 16.09168300000001, 4.170949, 21.105284029524796, 7.301031, 11.503540000000003, 6.5169200000000025, 6.037662, 6.5709040000000005, 9.551246999999998, 4.499356999999998, 5.325741999999998, 8.881593000000002, 10.536475000000006, 5.515102000000001, 4.3538879999999995, 7.956794999999996, 8.296966, 12.569542999999994, 2.3068989999999996, 12.361471000000002, 11.418493000000005, 12.612321, 19.698319000000005, 5.910352, 12.643885000000001, 20.6892935287921, 5.959575, 7.224552000000001, 4.356558999999995, 13.591664000000003, 9.343873100830077, 11.145178000000012, 5.200057000000002, 13.488441999999987, 6.3575190000000035, 4.496698999999996, 10.663785000000013, 8.893351000000006, 9.910678, 11.986531999999997, 8.262207000000005, 11.001825999999992, 7.761021000000007, 11.676296000000002, 9.241009999999998, 8.224750999999998, 4.267762000000001, 18.354198999999998, 4.374202000000004, 5.644506999999999, 10.995400999999992, 4.261885999999998, 10.189353, 5.066313999999998, 9.084310999999994, 8.684757000000005, 3.8719640000000015, 5.3974230000000025, 11.147846, 19.047926999999994, 19.419677999999998, 3.175517000000003, 26.883222298339824, 11.288512000000008, 10.941923, 8.498601999999998, 10.777173000000005, 24.77381897900391, 10.606008999999997, 22.551885000000006, 4.784452000000004, 4.345838000000002, 7.164621, 9.335143000000002, 10.943514999999993, 8.560641000000002, 5.080765000000007, 8.874112999999998, 8.170725000000003, 5.307047, 5.553608000000001, 4.809039999999999, 4.489751000000002, 9.811707999999989, 5.408107000000001, 8.133296000000003, 20.180613971396188, 9.081620000000003, 31.976624982517137, 7.337399999999998, 6.430253999999996, 8.324765999999995, 12.030928999999988, 5.752029999999999, 11.052632000000008, 10.487816, 4.345857000000004, 9.942769999999987, 20.015010999999976, 20.738664999999997, 4.869472999999997, 10.83867830249023, 4.920326000000004, 32.011695286804155, 5.040117999999996, 5.8948239999999945, 5.402780000000003, 8.055739999999997, 5.021399999999997, 4.3715129999999975, 8.314628999999996, 10.155672000000012, 5.596412999999993, 26.08218545658258, 8.936683999999989, 8.904050000000002, 20.13426000000002, 7.477019000000008, 8.977856000000001, 6.828193000000003, 13.136490999999992, 4.693459500000002, 7.11651, 17.23952399999999, 6.756520000000004, 8.927033, 11.458598000000002, 7.388752999999997, 10.609209999999992, 3.8794429999999966, 13.926517999999996, 13.054677, 14.598865000000007, 12.559738885742192, 11.766150999999997, 7.993156999999999, 10.300606, 7.089215999999997, 7.419768999999997, 5.893249999999999, 14.304110000000001, 3.133283999999998, 8.797051000000005, 22.380166889130674, 3.7542949999999973, 6.000757, 11.657575, 7.799008999999999, 9.896222999999997, 10.172230999999998, 6.251614999999996, 4.319634999999998, 24.58593090170289, 10.960154000000005, 3.6895799999999976, 12.251838000000006, 9.206245999999998, 8.609868999999991, 11.341467999999995, 9.481171000000003, 5.587326000000006, 8.26112299999999, 25.99531953072411, 22.21972599999999, 6.231283999999993, 11.24306999999999, 3.9559220000000024, 6.704656999999998, 24.00512885018604, 11.739393999999999, 4.345848, 11.072968000000003, 26.1930949968132, 27.810845734375025, 9.569960000000002, 4.433035999999998, 4.352811000000001, 10.117139000000007, 9.986072999999996, 8.576181000000002, 8.256865999999995, 12.555606999999988, 24.92421764501953, 10.184528000000002, 3.801352999999997, 11.543656999999987, 5.358912000000005, 11.016802999999998, 7.911335000000004, 3.415688000000003, 4.2436659999999975, 32.69466969038546, 6.9613990000000046, 9.186453999999998, 19.430352999999997, 12.905418000000012, 8.985885000000001, 2.8754980000000048, 11.037116999999997, 9.176307000000003, 9.142243684349062, 5.799649999999994, 10.135840000000009, 4.805848999999999, 11.361794999999994, 17.531546999999996, 9.908527000000005, 10.654175999999998, 4.455500000000002, 9.461382999999994, 9.548025999999993, 4.929925000000003, 3.845735000000003, 5.059371999999998, 9.812257999999995, 4.975930000000002, 31.955870093280783, 10.435378000000007, 6.999904000000004, 4.545891000000001, 5.212355999999997, 11.811091999999997, 7.834292999999998, 8.110289999999997, 7.217047999999997, 7.500001000000002, 3.908857000000002, 10.036909000000007, 10.128918000000004, 7.627294000000007, 9.419640999999995, 6.214693000000003, 23.63661808418346, 12.781351999999996, 4.813850000000002, 5.070058000000007, 18.10494900000002, 27.0593501023151, 7.754584999999995, 7.704852000000001, 5.428974000000003, 5.531119000000006, 10.286699, 5.267450999999995, 6.861364999999995, 9.832058000000005, 5.695900000000003, 6.032837000000003, 10.745076999999998, 4.083212999999998, 10.312912666905774, 15.330554000000005, 8.873548999999992, 7.986722000000002, 7.558297000000003, 7.589301000000001, 15.158305999999998, 24.495082000000007, 15.55839300000001, 7.4962670000000005, 13.03008800000001, 11.173518039785382, 6.632451999999995, 8.990709999999996, 9.183804000000007, 6.2291509999999946, 7.875995999999997, 12.080131, 13.210842000000007, 23.821674374999994, 13.438906750000006, 12.841788999999999, 26.191306822689466, 8.995527000000008, 7.261450000000002, 15.564293000000006, 7.5939904999999985, 13.035416999999995, 13.195342000000004, 10.851527000000008, 7.491241228515634, 5.070590999999999, 4.390799999999996, 3.7783599999999975, 9.724543999999998, 8.452079000000007, 4.449104000000005, 11.931434999999999, 21.655975999999995, 4.697796, 9.580663999999997, 30.04752593750001, 25.52143505638869, 8.601290000000004, 4.1105230000000015, 17.024494000000008, 8.948998000000008, 11.434553000000017, 24.507007792857156, 8.252023000000001, 12.886189999999992, 4.661433000000005, 17.16824875, 4.255992000000003, 8.655327999999997, 5.0294229999999995, 4.663029999999995, 9.225479999999996, 3.733401999999998, 9.443367000000006, 7.137373, 11.363415999999999, 6.5575769999999975, 4.676908000000002, 6.1895699999999945, 8.745721999999994, 20.868039708333352, 5.810857999999995, 19.218568669921886, 9.724533000000008, 19.599910000000023, 8.981062999999994, 21.045677000000016, 3.925952999999998, 3.605059000000003, 6.053701000000002, 7.620323000000004, 4.939543000000004, 5.545577000000001, 15.849397999999997, 7.7759699999999965, 9.872179999999998, 7.563104999999999, 12.140581999999995, 5.131038, 12.020751000000002, 11.568783000000012, 5.014983999999999, 6.462306999999999, 6.399763000000003, 5.420410999999999, 7.024484000000004, 9.911216999999995, 4.105127999999999, 9.452841000000003, 11.391739000000005, 8.595965000000001, 9.940669000000018, 5.008569000000002, 4.180595999999995, 4.792474, 5.577692000000001, 12.426737000000012, 4.463523000000006, 3.629108, 10.357293999999998, 5.638121999999999, 10.026209999999988, 6.826595999999998, 3.614678000000004, 11.021587000000006, 4.203565000000004, 8.231157999999997, 3.5183809999999993, 4.332470000000002, 4.536788000000003, 7.359330000000009, 14.681218000000001, 31.318450542156203, 13.837204000000003, 4.0372169999999965, 6.952273000000003, 7.805417000000003, 28.32573418845343, 7.722496999999999, 28.621340203124998, 4.763054000000003, 6.334513000000003, 3.998170999999998, 8.766055999999997, 6.026962000000002, 9.092841999999997, 7.448642999999996, 19.048995999999985, 5.112845999999999, 3.8612689999999987, 8.838775999999992, 8.889053000000006, 9.834715, 11.918045999999997, 12.134680000000003, 4.066665000000004, 28.512216168378927, 16.32328100000001, 5.953143000000001, 22.280212812500004, 10.604402999999992, 3.5044849999999967, 20.260508999999985, 7.6064439999999935, 8.169130000000008, 14.61452458721924, 10.884169999999994, 5.224113000000006, 8.936141999999997, 11.051205857177736, 8.232228999999995, 6.227552000000004, 4.820296000000005, 3.967156999999999, 11.746895999999992, 6.312590999999997, 7.510707000000007, 9.149548999999993, 10.079150000000011, 18.894430000000003, 6.322210000000005, 9.324446999999994, 6.658655999999996, 8.52858400000001, 16.084184000000008, 9.586554000000005, 4.937414999999998, 22.349848306101173, 8.338686000000008, 28.73107935635218, 6.060656000000002, 6.371416999999993, 8.238649999999986, 5.7926949999999975, 19.881285000000013, 11.979042000000007, 4.941713, 16.209360999999983, 19.753436, 23.296426000000007, 3.522681999999998, 9.806024737396239, 30.464893609245596, 4.249594999999993, 4.158129000000005, 5.204343999999996, 21.248575999967446, 11.783264000000008, 10.683023000000007, 4.327664000000004, 4.684410000000005, 4.760366999999999, 3.8960120000000034, 23.73199733338645, 4.775343999999994, 7.731602000000004, 9.661417000000005, 8.618953999999997, 29.077136781433097, 5.178122000000001, 10.706036999999995, 19.605618999995954, 4.290232999999998, 8.174987000000003, 7.3090440000000045, 7.733211, 12.666887000000004, 8.616289000000002, 13.48577, 15.75257500000001, 8.69812699999999, 8.978387000000001, 24.965780999999996, 12.057122000000001, 9.053277999999997, 29.24636099999999, 4.559288000000003, 8.816322000000007, 4.105701999999996, 11.74317399999999, 15.734923958740229, 9.655563999999993, 3.3017930000000018, 14.249026999999996, 18.55047600000001, 20.678427624999998, 9.285416, 13.620564, 6.088463999999999, 7.753507000000003, 6.167073999999998, 9.537881999999989, 10.33752699999999, 3.956970999999997, 8.510385000000003, 8.805093000000005, 16.151592000000015, 8.093358684349056, 4.873787999999993, 22.974148503251897, 7.8166470000000015, 4.115866999999995, 9.543777999999996, 7.518717999999994, 10.254603, 3.967132000000001, 7.156084000000006, 26.674976999999984, 13.164320999999996, 11.948021999999996, 7.731606000000003, 4.664630000000001, 27.818588373593442, 12.395174000000004, 15.234805999999999, 7.593602000000001, 11.859736000000003, 4.910689999999999, 3.144013000000005, 10.562685680419918, 6.7736389999999975, 8.291089000000007, 7.535832999999996, 5.628484999999996, 13.211902999999992, 30.455756390625012, 5.022466999999999, 11.171897999999997, 8.053069999999998, 10.645084000000006, 5.314509999999999, 12.217579000000006, 6.407252000000004, 7.777057000000001, 10.361581000000006, 8.902449, 9.987171999999994, 7.326146000000007, 9.426606999999995, 22.34168199999999, 7.404271000000002, 30.677304385347576, 8.673529000000007, 19.067181, 6.128045000000002, 10.638095999999996, 4.176816999999999, 6.686469000000005, 15.126232000000002, 9.759322000000001, 29.82054331752448, 5.106983, 4.289678000000004, 3.8783690000000006, 23.459302499999993, 16.4197856875, 6.093311999999998, 6.634064000000003, 10.959575000000003, 7.594129000000005, 26.849849480102524, 14.078430000000004, 7.650292, 8.496471999999997, 18.008690000000012, 8.300169999999996, 21.191706000000003, 10.66164, 23.069634000000004, 6.551675000000009, 4.481687999999999, 30.123249403438493, 5.123014, 14.682282999999995, 12.762115999999999, 19.385701749999985, 5.225712000000001, 12.072640999999999, 12.953392686981202, 7.159821999999997, 10.179731999999996, 9.650201666475386, 10.555731999999987, 10.006432999999992, 6.670414000000003, 6.950669000000004, 25.364114712419926, 9.318043999999997, 9.510594000000001, 5.276519999999998, 5.075944000000002, 4.034541999999999, 4.033478999999999, 10.651483, 20.501792793762217, 4.028142999999998, 3.6601409999999976, 12.328317000000002, 12.171721296875003, 7.623554999999999, 10.657897000000006, 8.602902999999998, 6.921269000000001, 21.52455069162326, 6.291729999999997, 6.6768459999999985, 9.164532000000007, 4.0992809999999995, 27.478348282638034, 6.979027999999995, 4.083741, 10.734374000000003, 5.258379000000006, 14.641657999999996, 4.411081999999996, 12.932715999999994, 3.360048000000004, 5.083982000000002, 5.339650999999999, 4.762541999999996, 7.9781859999999964, 9.519666999999997, 5.115555999999999, 10.80659299999999, 12.555095000000003, 21.643259896385903, 7.498405000000003, 4.528269999999997, 10.142817000000006, 4.750230000000004, 5.6873070000000014, 8.488991999999994, 14.444264999999987, 4.806905000000001, 9.058087000000002, 14.360304000000008, 8.647303000000004, 11.030149000000009, 3.7173790000000024, 14.253824999999996, 10.431643999999997, 4.7384679999999975, 27.09687287499998, 9.54751299999999, 9.524477000000008, 9.895172000000008, 5.413447000000006, 13.509681074462899, 8.257391000000005, 15.397418999999996, 7.445434000000001, 8.915811999999999, 18.229020000000006, 7.168918999999996, 9.524505999999997, 8.284661999999999, 8.015607000000005, 8.695442000000003, 9.925639999999987, 18.01094024999999, 8.979443000000007, 8.610407000000007, 14.023858985481617, 11.419041000000007, 22.926840000000002, 12.542792000000002, 14.906945113281246, 9.069857999999993, 7.894743999999998, 10.391524000000002, 8.569735999999999, 12.320820000000003, 4.162915999999999, 4.755032999999996, 11.038734000000007, 10.059892999999994, 5.2428680000000085, 11.880081000000004, 4.926715999999997, 24.36522400557356, 10.20967700000001, 18.15362400000001, 29.496329833740237, 7.005262000000005, 8.698116999999995, 4.468328999999998, 25.813609903366082, 5.028878000000001, 5.181342000000004, 8.952700999999996, 11.497128999999996, 4.445348000000001, 22.15664256250001, 19.897183083577758, 5.353021999999998, 23.7849725778321, 4.306804999999997, 6.997207999999996, 8.608249000000002, 9.602049000000003, 11.32007950000001, 9.545356999999994, 4.018519, 5.104332999999998, 9.597237000000007, 8.096397000000001, 10.809804999999985, 4.608485999999999, 10.05294, 21.299232999999987, 4.550719, 18.632126, 22.981353500000004, 18.695992000000015, 9.739521999999994, 5.214485, 4.088595000000002, 7.905970999999999, 4.006741999999999, 6.627092000000004, 4.647486000000007, 7.345945, 17.153943000000016, 7.053384000000005, 11.222197999999999, 5.761119, 3.9147340000000015, 10.161535999999991, 3.875687999999995, 29.416718484375235, 4.9416900000000075, 32.64233762995153, 12.272158000000006, 14.572118999999992, 8.400176999999996, 7.226165000000002, 4.207344, 27.573764944473233, 12.327241, 14.919289187499997, 4.74914, 11.38103699999999, 10.329823514282227, 4.695153999999997, 6.766695999999997, 16.675226999999992, 9.318579000000001, 9.256525999999997, 17.585036999999996, 4.756622000000004, 18.200141999999985, 26.0433455835547, 4.885013999999999, 6.566383333333334, 4.210009999999996, 9.396668000000004, 9.172006000000001, 8.954868, 4.791932999999999, 3.3536340000000022, 23.968778652561042, 9.391324999999997, 13.505654625000012, 7.172137000000001, 13.166990999999998, 7.151249000000003, 15.021943999999985, 3.755866000000004, 5.577151999999999, 10.193104000000003, 3.9709030000000016, 7.156064000000002, 8.365974999999993, 25.41154406585191, 7.970147000000001, 3.863935, 9.541593999999995, 20.621528000000012, 13.014013000000007, 4.452854000000005, 13.448321999999992, 3.6772419999999983, 7.715571999999998, 8.301768999999997, 4.338340999999998, 8.843624000000004, 3.891182, 8.099054, 8.557974000000003, 30.139878482457803, 5.033160000000001, 4.487045999999998, 8.435475000000004, 7.399974000000001, 8.544601000000002, 14.079498000000017, 9.76999300000001, 27.860036464542997, 9.462458999999996, 4.525576000000004, 11.361257999999994, 4.820284000000006, 7.5037319999999985, 30.167386500000006, 4.994661999999998, 4.218562000000003, 9.53517, 7.534778999999998, 10.050533667049226, 5.415595999999999, 14.859337999999997, 4.375834999999996, 27.27987512499998, 4.009942000000002, 20.800174000000002, 6.573580999999997, 26.45486740270922, 21.11789942322381, 8.363844999999996, 11.479450999999997, 11.451119999999996, 4.237268000000003, 31.844705607506338, 5.733866000000002, 4.1356290000000016, 4.560349000000002, 14.991989999999998, 6.342533000000002, 4.503618999999996, 6.061206999999997, 6.6538419999999965, 7.976560999999996, 6.184749000000006, 19.00193700000002, 13.484718, 7.804863000000001, 10.161016999999998, 5.538618000000001, 27.673684250000015, 26.61503551209098, 6.997228, 11.299746000000003, 10.058847999999998, 9.769482000000004, 25.294033500000015, 8.424245999999993, 5.334838000000001, 8.936139999999998, 3.8650120000000032, 8.646247000000006, 17.311727, 5.672330999999997, 7.992624999999995, 9.492407999999994, 10.697476000000002, 4.2650549999999985, 7.123443999999999, 3.582564999999998, 5.5482439999999995, 4.984478999999994, 28.77854043954083, 6.106136999999999, 9.23245600000001, 8.791181999999997, 30.673191764957746, 7.119698000000003, 17.19382899061652, 12.358263000000008, 13.39830246874999, 4.6191400000000025, 8.505008000000009, 21.791304999999987, 7.6144470000000055, 5.641863000000003, 9.799413000000001, 8.078195999999998, 8.383603000000006, 4.777502999999995, 11.721744000000006, 12.874417999999997, 9.661967999999996, 11.357510999999995, 5.734364000000005, 11.843174999999995, 16.390134999999997, 10.869720999999991, 4.3982769999999975, 5.971338, 9.965765000000006, 8.287861000000001, 4.9823480000000036, 6.614790999999998, 9.260279999999995, 4.592411000000003, 8.643017000000007, 10.755779999999993, 13.523975018615724, 11.896131500000001, 11.992047028564448, 10.470142999999991, 11.191704999999999, 4.178444999999998, 10.574995999999997, 12.994750000000003, 4.382234000000006, 9.989838999999996, 4.825634, 4.284859000000004, 10.037967000000002, 10.101610000000015, 9.564080000000004, 9.020098999999997, 22.512569500000012, 12.871745999999995, 4.515964, 3.775669000000002, 19.914174499999987, 8.665475999999991, 8.709371000000012, 7.501619999999998, 27.35702110937499, 8.073383999999999, 10.225171000000007, 13.444600999999999, 7.719826999999999, 4.933689000000002, 5.674479, 14.059705, 10.42470699999999, 12.739107999999998, 9.675876999999998, 10.478721000000007, 15.54664431958009, 25.416145999999973, 7.275879000000001, 6.931973999999999, 5.544506000000002, 7.604139000000004, 4.864151000000002, 26.08278421875001, 8.772795999999989, 7.974967000000012, 22.90508303808594, 8.278778000000003, 7.546540999999998, 7.070501000000004, 13.806164999999991, 4.5544509999999985, 5.7477620000000025, 18.078728999999996, 8.192100000000003, 13.806719113281261, 4.974331000000003, 8.418901999999997, 6.543096000000002, 12.010596, 9.763586999999994, 7.999570999999998, 5.590497999999997, 3.9104480000000024, 4.498809000000001, 10.310207999999994, 12.864260000000007, 3.9350619999999985, 8.71683200000001, 6.1489039999999955, 10.098596671087265, 12.412828, 10.505984999999999, 7.466808999999997, 21.065473, 10.198458000000002, 15.399011999999987, 10.60816100000001, 3.752159999999995, 10.973477999999995, 17.706919944060292, 9.817596000000004, 24.459423808811053, 9.090719999999997, 3.8623250000000002, 10.166344999999993, 11.937832, 7.161438000000004, 5.303286000000002, 19.67335635510253, 10.316112000000006, 5.4519790000000015, 24.378416368748493, 6.2960059999999975, 10.034782, 4.100879000000001, 8.794422000000012, 8.437095000000001, 12.029840999999998, 7.613392000000005, 5.626341999999999, 15.29738499999999, 19.743259, 8.112432, 10.591603999999991, 6.706238999999999, 13.185708999999992, 7.523532000000004, 12.232016999999995, 4.3634879999999985, 24.276856000000002, 5.999651000000004, 25.348226999999998, 6.841546000000001, 6.380509999999998, 3.272894999999999, 9.576785000000003, 5.273331999999995, 20.402246999999985, 3.8928079999999996, 7.256618999999996, 14.730414999999995, 3.885865, 11.893997999999987, 8.164305, 17.987829000000005, 13.606116999999994, 7.127701999999999, 6.5516619999999985, 9.673738, 4.808511999999998, 17.909525583928584, 10.764856000000002, 5.1978870000000095, 7.035181000000002, 12.390687128601062, 9.453351, 4.777509000000002, 25.10638494212558, 14.78069900000001, 8.959130000000002, 11.381564000000004, 21.441603469238288, 3.6451750000000023, 5.099994999999995, 5.714062999999995, 7.813426999999998, 8.180349000000005, 21.470904999999988, 6.4559279999999974, 6.722299, 4.621316000000004, 6.053173000000004, 7.943943000000003, 12.061400999999991, 31.67321690353484, 8.176063999999997, 3.7842499999999983, 16.179405000000003, 8.687429999999997, 16.976942812500013, 4.477446999999995, 21.017726299500495, 7.922005000000001, 22.93688051028512, 23.267687904722706, 10.572313999999995, 4.581185000000004, 9.784985999999995, 7.551885999999995, 4.601013000000005, 6.735145000000002, 8.940397999999991, 9.856659999999998, 9.615437000000004, 4.182716999999999, 5.1625999999999985, 12.506435, 9.796209000000005, 6.470348000000005, 7.555617999999999, 3.470819999999999, 8.895469999999996, 23.02419500000001, 9.655540000000011, 8.828096999999996, 27.332684543348297, 8.455306999999998, 15.961745647705078, 11.315257999999993, 10.833332, 8.963407000000004, 9.561416999999999, 9.020106, 10.584091999999997, 7.352376000000004, 4.465146, 8.391641000000003, 29.406308103223765, 29.237387995593863, 15.890300468750006, 9.095007000000003, 10.434313999999997, 12.057654000000005, 12.290342999999998, 10.32309, 8.542473000000001, 4.949731999999994, 28.27215196428938, 15.486211000000015, 3.325303999999997, 7.875500999999998, 4.876452999999995, 3.514666000000002, 6.040331000000002, 6.804113999999999, 25.85125375585939, 3.9366769999999955, 7.275888999999998, 18.471154667346966, 8.371331000000003, 4.32499, 14.071996000000007, 7.997952000000006, 19.566344875000002, 5.201120999999997, 7.563660000000002, 5.713527999999997, 9.645387999999999, 17.694577912017813, 9.372592999999997, 9.409502999999996, 8.78314699999999, 5.784648999999999, 11.814285999999987, 13.756430000000002, 8.011348000000002, 10.656837000000001, 3.9457659999999986, 5.7498770000000015, 5.432199000000008, 22.710653242187504, 31.174656737678166, 7.108997, 15.99406323995526, 26.139770838006697, 5.573389, 7.704306000000007, 6.992404000000001, 7.322975000000011, 11.69621783333333, 7.127731000000001, 5.519902999999995, 12.766903999999997, 15.977236999999995, 3.1472210000000005, 4.4431889999999985, 5.382440000000002, 23.842222417734153, 4.411669000000005, 9.927243999999996, 8.591134000000013, 5.211276999999998, 7.122371000000004, 9.235680000000007, 10.972407000000008, 4.939554000000002, 7.296766000000003, 9.605280000000004, 24.456637812499995, 9.500449, 11.238770999999996, 6.139300999999997, 8.738799000000002, 17.239520999999986, 7.245933000000005, 27.62240737500001, 4.421277999999997, 20.454358000000003, 6.773609999999996, 12.255027999999996, 4.481700999999996, 21.520726233642584, 6.557027999999999, 9.398275000000005, 9.844345999999994, 2.9717659999999997, 25.977108136463166, 11.801466999999997, 13.003675514282222, 5.260482999999997, 13.069133000000011, 16.897200999999985, 10.421498999999994, 6.135538, 6.505150000000001, 11.600336000000004, 8.746788999999993, 8.680999000000007, 10.747753, 3.644091000000001, 10.975066000000004, 7.701649, 16.218431, 5.403287999999996, 4.812265, 4.623453, 5.542909999999996, 5.085582000000005, 6.930372000000001, 7.499487, 6.640979000000003, 6.009834999999997, 3.8425249999999966, 10.115005000000004, 19.54649562500001, 4.190726999999998, 12.845537000000006, 4.3758150000000064, 9.225504999999997, 10.786272999999989, 5.730115, 5.763254000000002, 12.464175999999986, 8.914208000000004, 5.004276999999995, 10.486208000000007, 13.196933999999997, 11.578945000000003, 16.635638000000007, 3.745725999999999, 11.971009000000002, 7.459875999999987, 10.089330999999992, 5.638645000000004, 8.877831999999994, 7.891009999999997, 12.976589000000008, 8.954321332950768, 10.576061000000003, 8.159494000000008, 5.248740999999998, 5.014973000000001, 4.055936999999999, 18.499154000000008, 17.544735875, 6.710529999999997, 5.1856100000000005, 4.533081000000001, 11.746896000000001, 22.257691499999996, 11.391767000000002, 8.678875999999997, 26.414024542903284, 7.436886999999996, 7.031992999999997, 8.252025999999994, 5.4712529999999955, 10.259948000000003, 7.689334, 13.766594000000003, 6.193298999999996, 3.3568609999999985, 8.050395, 6.418499999999998, 13.137033, 17.337929999999993, 8.571371, 19.257121061731013, 4.456047999999996, 19.13726600000002, 29.972034328938772, 10.806076000000001, 11.487476999999998, 9.979658000000004, 30.57585147234573, 5.078616000000005, 4.717036999999998, 24.612630796386707, 4.5801209999999974, 14.290758999999996, 5.3776309999999965, 4.325541999999997, 6.685388999999999, 10.639706000000007, 4.457104, 7.992619000000004, 26.928235306921838, 4.580119000000002, 5.701225999999999, 21.467567118823528, 6.600343000000004, 5.742930999999995, 7.139497999999999, 5.500101999999999, 10.542877, 7.7647590000000015, 11.646339999999993, 11.778462999999997, 7.4235169999999995, 11.218980000000004, 26.701122857091804, 6.602490999999998, 8.423732999999991, 4.401505999999994, 3.710988999999999, 10.550384999999997, 7.0512049999999995, 9.108887999999986, 7.889928999999991, 7.138423000000002, 4.457104000000004, 21.31423133984375, 8.596461000000003, 13.510909000000009, 7.011669999999999, 8.015089999999995, 3.5440820000000026, 8.373452000000004, 5.5739529999999995, 7.0576379999999945, 9.809052000000007, 9.838462, 6.108703238426253, 10.183467999999998, 26.64177808841959, 4.258680000000005, 9.570502999999997, 8.946852, 7.553479999999999, 14.163489863281246, 7.551350999999996, 7.7150089999999985, 5.654141000000002, 13.106017, 21.25718693424018, 6.921805000000003, 14.766256000000007, 5.36958, 7.557767000000002, 11.37033299999999, 6.544198999999999, 6.701987000000003, 6.30937, 7.575390999999995, 7.986731999999996, 9.459256000000003, 9.826696000000009, 3.8425410000000046, 30.333673046319436, 6.616407000000002, 9.147920999999988, 7.742306000000006, 8.770873000000002, 15.38617199999999, 7.338459999999995, 7.659404999999995, 7.562040000000001, 10.840843999999993, 8.881582000000002, 8.099044000000006, 9.422344000000004, 9.091272999999987, 8.012948000000005, 9.921896000000007, 9.888747999999998, 18.060013000000005, 11.840485000000003, 8.656400999999994, 3.936141999999997, 9.917620999999986, 4.113153000000004, 6.997753999999998, 10.000716671087265, 5.597439, 8.753221999999997, 4.925124000000005, 4.610083999999998, 15.144244000002043, 9.291311000000013, 6.150506000000002, 5.470157, 11.615333000000003, 10.895384000000004, 4.853470999999996, 10.018195999999994, 6.120007, 10.243916999999994, 8.638209000000007, 7.646020000000001, 12.597886000000008, 4.979676000000005, 4.177371999999994, 9.571039000000004, 10.410245999999997, 10.052414, 23.50200922951201, 5.399007000000003, 8.388429999999998, 9.548021000000007, 27.237214875079736, 19.28594399999999, 9.113179, 4.000313999999998, 19.538564290179966, 23.839310000000005, 8.353662999999994, 9.927269000000003, 12.873338999999996, 8.904584, 6.0537269999999985, 11.025888, 5.224671000000002, 10.727433000000003, 4.662515, 6.785940999999999, 3.6644239999999986, 30.048672999999994, 9.872154999999998, 9.837387999999999, 3.376648999999994, 10.924276999999993, 5.816224999999994, 13.277206, 4.197156000000003, 9.987705999999998, 19.870848325221445, 3.4515540000000002, 7.900620999999994, 10.452529000000009, 12.670099, 12.007924000000001, 22.480040667857175, 8.413559000000003, 22.571134613954943, 8.286265999999998, 10.418278000000003, 7.516057999999999, 6.094887, 4.581718, 8.959142000000005, 10.382443, 9.72293100000001, 4.419672999999999, 27.33015645209031, 30.242153285860926, 10.62582, 8.90242, 28.78549015625003, 10.78414200000001, 10.738137000000002, 14.023855000000003, 9.841149999999992, 10.86116799999999, 10.187747, 8.004916999999997, 5.323071000000001, 8.690637999999995, 7.0961620000000005, 29.411353531249986, 8.862326000000003, 4.672663999999998, 19.315925999999976, 4.524485000000006, 6.1163000000000105, 6.366060999999999, 11.665066000000003, 4.188060999999994, 18.64783499999999, 7.934309999999997, 12.517665000000004, 10.352496999999998, 7.442211000000001, 5.314515000000001, 7.547065, 7.189781, 17.25929699999999, 3.949518000000002, 4.410051000000001, 15.953680000000004, 8.581536999999999, 7.622509999999997, 8.084623999999996, 5.015531000000003, 9.047917999999996, 11.025360999999998, 4.697253999999996, 9.464607999999997, 12.846932333333315, 8.05200000000001, 3.753225000000004, 6.5126399999999975, 3.947912000000001, 2.506443, 5.938152, 11.488020000000011, 4.561913999999998, 7.195669000000002, 9.031348000000001, 4.332998999999997, 9.184328000000008, 11.982769000000001, 6.2762030000000015, 8.763907, 5.448762999999996, 9.956148999999993, 15.099765000000005, 5.100026999999999, 9.959352000000019, 6.576819, 4.360840999999998, 30.50416500413067, 28.246390757948106, 5.239634000000003, 6.601405000000003, 10.7317185, 26.60486382013676, 14.675341000000008, 9.160257000000001, 5.614033000000004, 9.833124999999992, 6.151040999999999, 9.956671000000007, 25.522781605578825, 9.584935999999999, 17.755656000000016, 10.830644999999988, 6.492278000000002, 11.171399999999997, 10.95102700000001, 4.094990999999999, 5.513470999999997, 4.886617, 12.120255999999998, 14.287552999999996, 4.642699, 4.8481230000000055, 3.9163509999999944, 10.542372, 4.296108999999999, 11.052112999999993, 11.626555999999999, 4.128717000000001, 6.256396000000004, 10.940835000000002, 21.750549916528513, 7.994749000286915, 6.544710999999995, 13.402870999999987, 5.581407000000002, 8.835575000000004, 13.637663, 20.57392100000001, 11.657047000000004, 6.652219999999999, 19.311073773437496, 8.505025000000007, 8.845750999999991, 26.534823304882913, 5.960651000000004, 11.809498000000005, 10.348214, 8.344575999999995, 6.049963, 10.917312999999996, 4.671592000000003, 5.085069000000006, 4.971103000000003, 11.970473000000005, 9.145273999999999, 3.8992479999999987, 25.635984640625008, 13.346173000000004, 15.529501773437493, 8.855913999999993, 11.343599999999999, 11.504614000000005, 10.835467999999997, 3.7168430000000017, 4.663563999999997, 17.102424927980522, 11.314712999999994, 10.599591, 12.062492999999986, 11.005562000000005, 16.881695000000015, 17.44919500000002, 10.629535000000002, 12.090832000000004, 10.284028000000005, 10.502268, 4.548578000000003, 8.695970000000003, 5.3851429999999985, 29.82494197714173, 14.807447999999996, 4.1853820000000015, 10.864896000000003, 14.933155000000001, 29.132205749303804, 8.499147999999996, 20.36104200000001, 32.00427513916017, 4.895175000000004, 14.042052999999994, 11.074042000000002, 17.900091319580085, 10.42254, 3.470277000000002, 11.33451700000002, 4.186466000000002, 7.205299000000008, 13.748919000000003, 9.251178999999993, 11.599806500000001, 3.3178350000000005, 28.631804239101985, 5.944575999999999, 7.107398000000002, 6.171913999999998, 10.2236, 10.882561, 5.834403999999999, 4.778063000000006, 22.542825453125, 10.217693000000004, 10.262114999999989, 7.408539999999996, 9.938505, 4.015839000000002, 5.600642000000004, 11.663983, 5.966008999999998, 4.906387000000003, 19.607440453124994, 12.031456999999987, 6.6046150000000035, 10.55522100000001, 4.320720999999997, 6.144096999999999, 4.3217820000000025, 9.472612, 15.866835115692146, 9.933690000000002, 11.319139499999995, 9.495084999999998, 10.625266, 4.262398, 15.257283000000006, 5.887373000000009, 19.876596499999998, 4.855067000000001, 11.401388000000003, 23.362325640474058, 8.525884999999999, 5.819429999999996, 11.107216999999991, 12.908113999999994, 5.331638999999998, 9.146858999999985, 5.366394000000003, 4.692989000000002, 5.500655000000004, 3.6703230000000002, 4.912270000000006, 5.961178999999996, 16.884361999999992, 28.666317923076136, 3.7869049999999964, 5.033153000000002, 17.187641999999993, 7.680770999999998, 7.944454999999994, 18.445739290238482, 6.156385999999997, 9.935285000000007, 6.643675999999998, 12.161964000000005, 5.545566000000003, 18.957717115688077, 10.782002000000002, 7.816653, 2.8353640000000007, 9.08697800000001, 5.004306000000003, 14.79407300000001, 26.308679544225757, 8.484685999999991, 16.39547899999999, 10.334275000000016, 7.370037999999998, 5.407579000000003, 8.545332664456362, 4.467255000000003, 17.987809000000002, 3.965017999999996, 19.160786, 12.222407, 8.569756999999997, 13.798689999999986, 6.669856999999995, 27.397507374999996, 3.240283000000005, 9.22714383333333, 8.419989999999999, 10.529007000000009, 21.176301498612943, 8.657465000000007, 4.459248000000002, 9.782320000000006, 6.469821999999998, 20.064732999999986, 21.59874399999999, 7.665796999999997, 6.845311999999996, 11.837303999999994, 6.180980000000001, 11.776331000000004, 19.85081703808593, 5.651500999999997, 8.928121000000003, 7.059788999999998, 26.655365617187496, 11.439330999999987, 22.58881677337241, 4.121737000000004, 8.301259999999996, 3.319970000000004, 10.301140000000002, 3.4985839999999975, 11.264441000000007, 6.892924999999996, 20.096807, 27.393820684633386, 13.039693000000007, 9.529848999999993, 5.239624, 10.451986, 7.0159350000000025, 8.220460999999993, 8.870871000000001, 6.302415999999998, 8.141320000000002, 4.6608829999999974, 25.153639821600933, 4.764678000000001, 4.778574000000001, 9.393467000000005, 12.224530667049235, 6.22701, 8.514122999999994, 9.016361999999999, 4.97325, 9.913867, 10.256748, 10.620994000000007, 23.520183421875004, 5.519379000000002, 10.098432000000004, 9.545347999999997, 5.723151000000002, 8.211933999999994, 10.199489999999996, 9.576376000000003, 7.160347999999998, 4.707431000000001, 23.737006456097703, 9.741132999999992, 5.117156999999997, 13.966098999999993, 4.585462000000003, 9.661435000000004, 12.183366000000008, 5.257823999999999, 10.982554999999996, 8.378793000000007, 4.546440999999997, 31.561099744067995, 10.812009750000009, 16.301044624999996, 26.233519902535953, 5.244454000000003, 6.855483000000001, 4.767336000000002, 4.448023000000004, 19.73611912487925, 9.439447999999995, 9.821351999999985, 20.118757999999996, 5.897524, 7.72666716666667, 16.690745000000017, 7.1945760000000005, 31.82723602524014, 5.431626000000002, 11.456448000000002, 30.595848, 4.970589999999995, 5.334810000000002, 7.4684379999999955, 26.31418297176704, 10.071164000000008, 14.19235066704923, 26.461565031250004, 11.409373999999993, 4.158643, 10.604943666475387, 8.208167000000005, 8.262182999999999, 11.258025, 12.961601000000007, 4.2955700000000006, 11.391759999999993, 12.232213664456367, 5.434324000000003, 13.514672000000004, 5.427898999999999, 11.292257, 8.51837699999999, 10.491003999999998, 5.432169999999997, 25.19279583009471, 25.542919652987326, 8.434953000000002, 4.484931000000002, 8.984814999999996, 8.493783999999998, 13.19961318536949, 18.283042999999978, 10.679298999999999, 9.812253000000009, 9.557686000000004, 8.093700000000005, 8.991761, 6.580563000000003, 17.141630000000003, 30.703950030208603, 10.427378000000003, 9.453886, 17.668188832908267, 3.365950999999996, 23.932638218750007, 11.287434999999995, 9.130299999999995, 4.511142000000004, 4.822414000000001, 30.577398333695438, 10.879348000000004, 5.278153000000006, 7.903289000000005, 8.908328000000004, 12.30100300000001, 12.875466000000012, 4.7069110000000025, 5.4605289999999975, 7.685063000000003, 12.02947583333333, 5.947797999999994, 5.937113999999997, 18.825619421874997, 9.723490000000004, 5.214516000000008, 16.419562, 30.60143917284738, 4.939056000000004, 5.2246500000000005, 4.466197999999994, 2.8466359999999997, 8.206584999999999, 10.334812000000014, 6.556483999999995, 4.836875999999998, 6.715890000000006, 3.534970000000004, 21.765636000000015, 9.082694, 21.378043124999998, 9.596708999999993, 7.546516999999997]}\n"
     ]
    }
   ],
   "source": [
    "print(response.text)"
   ]
  },
  {
   "cell_type": "markdown",
   "id": "8d8fd226",
   "metadata": {},
   "source": [
    "# Fetching the experiment metadata and structuring it in JSON"
   ]
  },
  {
   "cell_type": "code",
   "execution_count": null,
   "id": "aa20a768",
   "metadata": {},
   "outputs": [],
   "source": [
    "\n",
    "def generate_metadata(experiment_id):\n",
    "    # Get experiment metadata\n",
    "    experiment = mlflow.get_experiment(experiment_id)\n",
    "    experiment_metadata = {\n",
    "        \"name\": experiment.name,\n",
    "        \"description\": experiment.description,\n",
    "        \"created_at\": experiment.creation_time\n",
    "    }\n",
    "\n",
    "    # Get runs metadata\n",
    "    runs_metadata = []\n",
    "    for run_info in mlflow.search_runs(experiment_ids=[experiment_id]):\n",
    "        run_metadata = {\n",
    "            \"run_id\": run_info.run_id,\n",
    "            \"start_time\": run_info.start_time,\n",
    "            \"end_time\": run_info.end_time,\n",
    "            \"status\": run_info.status,\n",
    "            \"tags\": run_info.data.tags\n",
    "        }\n",
    "        runs_metadata.append(run_metadata)\n",
    "\n",
    "    # Get models metadata\n",
    "    models_metadata = []\n",
    "    for registered_model in mlflow.registered_models():\n",
    "        model_metadata = {\n",
    "            \"name\": registered_model.name,\n",
    "            \"type\": registered_model.latest_versions[0].source.type,\n",
    "            \"version\": registered_model.latest_versions[0].version,\n",
    "            \"artifact_uri\": registered_model.latest_versions[0].source.artifact_uri\n",
    "        }\n",
    "        models_metadata.append(model_metadata)\n",
    "\n",
    "    # Get metrics and parameters metadata\n",
    "    metrics_metadata = {}\n",
    "    params_metadata = {}\n",
    "    for run_info in runs_metadata:\n",
    "        run_id = run_info[\"run_id\"]\n",
    "        metrics_metadata[run_id] = mlflow.get_run(run_id).data.metrics\n",
    "        params_metadata[run_id] = mlflow.get_run(run_id).data.params\n",
    "\n",
    "    # Organize metadata into a structured format\n",
    "    metadata = {\n",
    "        \"experiment\": experiment_metadata,\n",
    "        \"runs\": runs_metadata,\n",
    "        \"models\": models_metadata,\n",
    "        \"metrics\": metrics_metadata,\n",
    "        \"parameters\": params_metadata\n",
    "    }\n",
    "\n",
    "    return metadata"
   ]
  },
  {
   "cell_type": "code",
   "execution_count": null,
   "id": "f4099130",
   "metadata": {},
   "outputs": [],
   "source": [
    "def save_metadata_to_json(metadata, filename):\n",
    "    # Convert metadata to JSON format and save to file\n",
    "    with open(filename, \"w\") as file:\n",
    "        json.dump(metadata, file, indent=4)"
   ]
  },
  {
   "cell_type": "code",
   "execution_count": null,
   "id": "770d5faf",
   "metadata": {},
   "outputs": [],
   "source": [
    "# Example usage\n",
    "import json\n",
    "experiment_id = \"537504258801217616\"\n",
    "metadata = generate_metadata(experiment_id)"
   ]
  },
  {
   "cell_type": "code",
   "execution_count": null,
   "id": "4a2d6c98",
   "metadata": {},
   "outputs": [],
   "source": [
    "save_metadata_to_json(metadata, \"metadata.json\")"
   ]
  }
 ],
 "metadata": {
  "kernelspec": {
   "display_name": "Python 3 (ipykernel)",
   "language": "python",
   "name": "python3"
  },
  "language_info": {
   "codemirror_mode": {
    "name": "ipython",
    "version": 3
   },
   "file_extension": ".py",
   "mimetype": "text/x-python",
   "name": "python",
   "nbconvert_exporter": "python",
   "pygments_lexer": "ipython3",
   "version": "3.10.10"
  }
 },
 "nbformat": 4,
 "nbformat_minor": 5
}
